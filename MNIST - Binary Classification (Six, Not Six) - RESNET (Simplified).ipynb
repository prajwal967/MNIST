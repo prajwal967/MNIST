{
 "cells": [
  {
   "cell_type": "code",
   "execution_count": 1,
   "metadata": {
    "collapsed": false
   },
   "outputs": [
    {
     "name": "stderr",
     "output_type": "stream",
     "text": [
      "Using Theano backend.\n"
     ]
    }
   ],
   "source": [
    "from __future__ import print_function\n",
    "import numpy as np\n",
    "np.random.seed(1338)  # for reproducibility\n",
    "\n",
    "from keras.datasets import mnist\n",
    "from keras.models import Graph\n",
    "from keras.layers.core import Dense, Dropout, Activation, Flatten\n",
    "from keras.layers.convolutional import Convolution2D, AveragePooling2D\n",
    "from keras.utils import np_utils"
   ]
  },
  {
   "cell_type": "code",
   "execution_count": 2,
   "metadata": {
    "collapsed": true
   },
   "outputs": [],
   "source": [
    "batch_size = 128\n",
    "nb_classes = 2\n",
    "nb_epoch = 5\n",
    "\n",
    "# input image dimensions\n",
    "img_rows, img_cols = 28, 28\n",
    "# number of convolutional filters to use\n",
    "nb_filters = 64\n",
    "# size of pooling area for max pooling\n",
    "nb_pool = 2\n",
    "# convolution kernel size\n",
    "nb_conv = 3"
   ]
  },
  {
   "cell_type": "code",
   "execution_count": 3,
   "metadata": {
    "collapsed": true
   },
   "outputs": [],
   "source": [
    "#Loading the training and testing data\n",
    "(X_train, y_train), (X_test, y_test) = mnist.load_data()\n",
    "img_rows, img_cols = 28, 28\n",
    "X_train = X_train.reshape(X_train.shape[0], 1, img_rows, img_cols)\n",
    "X_test = X_test.reshape(X_test.shape[0], 1, img_rows, img_cols)\n",
    "X_train = X_train.astype('float32')\n",
    "X_test = X_test.astype('float32')\n",
    "X_train /= 255\n",
    "X_test /= 255"
   ]
  },
  {
   "cell_type": "code",
   "execution_count": 4,
   "metadata": {
    "collapsed": false
   },
   "outputs": [],
   "source": [
    "#Seed for reproducibilty\n",
    "np.random.seed(1338)\n",
    "\n",
    "#Selecting 6000 random examples from the test data\n",
    "test_rows = np.random.randint(0,X_test.shape[0],6000)\n",
    "X_test = X_test[test_rows]\n",
    "Y = y_test[test_rows]\n",
    "#Converting the output to binary classification(Six=1,Not Six=0)\n",
    "Y_test = Y == 6\n",
    "Y_test = Y_test.astype(int)\n",
    "\n",
    "#Selecting the 5918 examples where the output is 6\n",
    "X_six = X_train[y_train == 6]\n",
    "Y_six = y_train[y_train == 6]\n",
    "#Selecting the examples where the output is not 6\n",
    "X_not_six = X_train[y_train != 6]\n",
    "Y_not_six = y_train[y_train != 6]\n",
    "\n",
    "#Selecting 6000 random examples from the data that contains only the data where the output is not 6\n",
    "random_rows = np.random.randint(0,X_six.shape[0],6000)\n",
    "X_not_six = X_not_six[random_rows]\n",
    "Y_not_six = Y_not_six[random_rows]"
   ]
  },
  {
   "cell_type": "code",
   "execution_count": 5,
   "metadata": {
    "collapsed": true
   },
   "outputs": [],
   "source": [
    "#Appending the data with output as 6 and data with output as not six\n",
    "X_train = np.append(X_six,X_not_six)\n",
    "#Reshaping the appended data to appropraite form\n",
    "X_train = X_train.reshape(X_six.shape[0] + X_not_six.shape[0], 1, img_rows, img_cols)\n",
    "#Appending the labels and converting the labels to binary classification(Six=1,Not Six=0)\n",
    "Y_labels = np.append(Y_six,Y_not_six)\n",
    "Y_train = Y_labels == 6 \n",
    "Y_train = Y_train.astype(int)"
   ]
  },
  {
   "cell_type": "code",
   "execution_count": 6,
   "metadata": {
    "collapsed": true
   },
   "outputs": [],
   "source": [
    "#Converting the classes to its binary categorical form\n",
    "Y_train = np_utils.to_categorical(Y_train, nb_classes)\n",
    "Y_test = np_utils.to_categorical(Y_test, nb_classes)"
   ]
  },
  {
   "cell_type": "code",
   "execution_count": 7,
   "metadata": {
    "collapsed": true
   },
   "outputs": [],
   "source": [
    "def build_resnet():\n",
    "    model = Graph()\n",
    "    \n",
    "    model.add_input(input_shape=(1, 28, 28), name=\"0\")\n",
    "    \n",
    "    # First piece\n",
    "    model.add_node(Convolution2D(\n",
    "        nb_filters, nb_conv, nb_conv, input_shape=(1, img_rows, img_cols), activation=\"relu\"), name=\"1\", input=\"0\")\n",
    "    model.add_node(Convolution2D(\n",
    "        nb_filters, nb_conv, nb_conv, activation=\"relu\"), name=\"2\", input=\"1\")\n",
    "    model.add_node(Convolution2D(\n",
    "        nb_filters, nb_conv, nb_conv, subsample=(2, 2), activation=\"relu\"), name=\"X\", input=\"1\")\n",
    "        \n",
    "    # residual module\n",
    "    model.add_node(Convolution2D(nb_filters, nb_conv, nb_conv,\n",
    "                             activation=\"relu\", border_mode=\"same\"), name=\"r1\", input=\"X\")\n",
    "    model.add_node(Convolution2D(nb_filters, nb_conv, nb_conv,\n",
    "                             activation=\"relu\", border_mode=\"same\"), name=\"r2\", input=\"r1\")\n",
    "    \n",
    "    # add layer_3 + residual_module\n",
    "    model.add_node(Convolution2D(\n",
    "        nb_filters, nb_conv, nb_conv, subsample=(2, 2), activation=\"relu\"),\n",
    "        name=\"3\", inputs=[\"X\", \"r2\"], merge_mode=\"sum\")\n",
    "    \n",
    "    # classifier\n",
    "    model.add_node(Convolution2D(2, nb_conv, nb_conv, activation=\"linear\"), name=\"4\", input=\"3\")\n",
    "    out_size = model._graph_nodes['4'].output_shape[-1]  # thanks shape inference\n",
    "    \n",
    "    model.add_node(AveragePooling2D((out_size, out_size)),\n",
    "               name=\"pool\", input=\"4\")\n",
    "    model.add_node(Flatten(), name=\"flat\", input=\"pool\")\n",
    "    model.add_node(Activation(\"softmax\"), name=\"out\", input=\"flat\", create_output=True)\n",
    "    \n",
    "    model.compile(loss={\"out\": 'categorical_crossentropy'}, optimizer='adam',metrics=['accuracy'])\n",
    "    model.fit({\"0\": X_train, \"out\": Y_train}, nb_epoch=5)\n",
    "    \n",
    "    score = model.evaluate({\"0\": X_train, \"out\": Y_train}, verbose=0)\n",
    "    print('Test score:', score[0])\n",
    "    print('Test accuracy:', score[1])"
   ]
  },
  {
   "cell_type": "code",
   "execution_count": 8,
   "metadata": {
    "collapsed": false
   },
   "outputs": [
    {
     "name": "stdout",
     "output_type": "stream",
     "text": [
      "Epoch 1/5\n",
      "11918/11918 [==============================] - 41s - loss: 0.0774 - acc: 0.9688    \n",
      "Epoch 2/5\n",
      "11918/11918 [==============================] - 48s - loss: 0.0209 - acc: 0.9927    \n",
      "Epoch 3/5\n",
      "11918/11918 [==============================] - 45s - loss: 0.0111 - acc: 0.9966    \n",
      "Epoch 4/5\n",
      "11918/11918 [==============================] - 43s - loss: 0.0072 - acc: 0.9977    \n",
      "Epoch 5/5\n",
      "11918/11918 [==============================] - 42s - loss: 0.0067 - acc: 0.9975    \n",
      "Test score: 0.00177113772788\n",
      "Test accuracy: 0.999580466521\n",
      "1 loop, best of 1: 3min 56s per loop\n"
     ]
    }
   ],
   "source": [
    "%timeit -n1 -r1 build_resnet()"
   ]
  },
  {
   "cell_type": "code",
   "execution_count": 9,
   "metadata": {
    "collapsed": true
   },
   "outputs": [],
   "source": [
    "#model.compile(loss={\"out\": 'categorical_crossentropy'}, optimizer='adam')\n",
    "#model.fit({\"0\": X_train, \"out\": Y_train}, nb_epoch=5, show_accuracy=True)"
   ]
  }
 ],
 "metadata": {
  "kernelspec": {
   "display_name": "Python 3",
   "language": "python",
   "name": "python3"
  },
  "language_info": {
   "codemirror_mode": {
    "name": "ipython",
    "version": 3
   },
   "file_extension": ".py",
   "mimetype": "text/x-python",
   "name": "python",
   "nbconvert_exporter": "python",
   "pygments_lexer": "ipython3",
   "version": "3.5.1"
  }
 },
 "nbformat": 4,
 "nbformat_minor": 0
}
