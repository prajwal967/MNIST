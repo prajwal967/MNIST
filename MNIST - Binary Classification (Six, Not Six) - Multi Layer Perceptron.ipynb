{
 "cells": [
  {
   "cell_type": "code",
   "execution_count": 1,
   "metadata": {},
   "outputs": [
    {
     "name": "stderr",
     "output_type": "stream",
     "text": [
      "Using TensorFlow backend.\n"
     ]
    }
   ],
   "source": [
    "import numpy as np\n",
    "from keras.datasets import mnist\n",
    "from keras.models import Sequential\n",
    "from keras.layers import Dense, Dropout, Activation, Flatten\n",
    "from keras.layers import Convolution2D, MaxPooling2D\n",
    "from keras.utils import np_utils"
   ]
  },
  {
   "cell_type": "code",
   "execution_count": 2,
   "metadata": {},
   "outputs": [],
   "source": [
    "#Loading the training and testing data\n",
    "(X_train, y_train), (X_test, y_test) = mnist.load_data()\n",
    "X_train = X_train.astype('float32')\n",
    "X_test = X_test.astype('float32')\n",
    "X_train -= np.mean(X_train)\n",
    "X_train /= np.std(X_train)\n",
    "X_test -= np.mean(X_train)\n",
    "X_test /= np.std(X_train)\n",
    "X_train = X_train.reshape(60000, 784)\n",
    "X_test = X_test.reshape(10000, 784)"
   ]
  },
  {
   "cell_type": "code",
   "execution_count": 3,
   "metadata": {
    "collapsed": true
   },
   "outputs": [],
   "source": [
    "#Seed for reproducibilty\n",
    "np.random.seed(1338)\n",
    "\n",
    "#Selecting 6000 random examples from the test data\n",
    "test_rows = np.random.randint(0,X_test.shape[0],6000)\n",
    "X_test = X_test[test_rows]\n",
    "Y = y_test[test_rows]\n",
    "#Converting the output to binary classification(Six=1,Not Six=0)\n",
    "Y_test = Y == 6\n",
    "Y_test = Y_test.astype(int)\n",
    "\n",
    "#Selecting the 5918 examples where the output is 6\n",
    "X_six = X_train[y_train == 6]\n",
    "Y_six = y_train[y_train == 6]\n",
    "#Selecting the examples where the output is not 6\n",
    "X_not_six = X_train[y_train != 6]\n",
    "Y_not_six = y_train[y_train != 6]\n",
    "\n",
    "#Selecting 6000 random examples from the data that contains only the data where the output is not 6\n",
    "random_rows = np.random.randint(0,X_not_six.shape[0],6000)\n",
    "X_not_six = X_not_six[random_rows]\n",
    "Y_not_six = Y_not_six[random_rows]"
   ]
  },
  {
   "cell_type": "code",
   "execution_count": 4,
   "metadata": {},
   "outputs": [],
   "source": [
    "#Appending the data with output as 6 and data with output as not six\n",
    "X_train = np.append(X_six,X_not_six)\n",
    "#Reshaping the appended data to appropraite form\n",
    "X_train = X_train.reshape(X_six.shape[0] + X_not_six.shape[0], 784)\n",
    "#Appending the labels and converting the labels to binary classification(Six=1,Not Six=0)\n",
    "Y_labels = np.append(Y_six,Y_not_six)\n",
    "Y_train = Y_labels == 6 \n",
    "Y_train = Y_train.astype(int)"
   ]
  },
  {
   "cell_type": "code",
   "execution_count": 5,
   "metadata": {
    "collapsed": true
   },
   "outputs": [],
   "source": [
    "#Converting the classes to its binary categorical form\n",
    "nb_classes = 2\n",
    "Y_train = np_utils.to_categorical(Y_train, nb_classes)\n",
    "Y_test = np_utils.to_categorical(Y_test, nb_classes)"
   ]
  },
  {
   "cell_type": "code",
   "execution_count": 6,
   "metadata": {
    "collapsed": true
   },
   "outputs": [],
   "source": [
    "#Initializing the values for the multi layer perceptron\n",
    "batch_size = 128\n",
    "nb_epoch = 20\n",
    "#Activation Functions\n",
    "activations = ['relu','tanh','sigmoid']"
   ]
  },
  {
   "cell_type": "code",
   "execution_count": 7,
   "metadata": {
    "collapsed": true
   },
   "outputs": [],
   "source": [
    "#Function for constructing the multi layer perceptron\n",
    "def build_model(activation):\n",
    "    \n",
    "    np.random.seed(1338)\n",
    "    model = Sequential()\n",
    "    model.add(Dense(512, input_shape=(784,)))\n",
    "    model.add(Activation(activation))\n",
    "    model.add(Dropout(0.2))\n",
    "    model.add(Dense(512))\n",
    "    model.add(Activation(activation))\n",
    "    model.add(Dropout(0.2))\n",
    "    model.add(Dense(nb_classes))\n",
    "    model.add(Activation('softmax'))\n",
    "    \n",
    "    model.compile(loss='categorical_crossentropy',\n",
    "              optimizer='rmsprop',\n",
    "              metrics=['accuracy'])\n",
    "\n",
    "    model.fit(X_train, Y_train, batch_size=batch_size, nb_epoch=nb_epoch,verbose=1,\n",
    "              validation_data=(X_test, Y_test))\n",
    "          \n",
    "\n",
    "    score = model.evaluate(X_test, Y_test, verbose=0)\n",
    "    print('Test score:', score[0])\n",
    "    print('Test accuracy:', score[1])"
   ]
  },
  {
   "cell_type": "code",
   "execution_count": 8,
   "metadata": {
    "scrolled": false
   },
   "outputs": [
    {
     "name": "stdout",
     "output_type": "stream",
     "text": [
      "ACTIVATION relu \n",
      "\n"
     ]
    },
    {
     "name": "stderr",
     "output_type": "stream",
     "text": [
      "/Users/prajwal967/anaconda3/lib/python3.6/site-packages/keras/models.py:874: UserWarning: The `nb_epoch` argument in `fit` has been renamed `epochs`.\n",
      "  warnings.warn('The `nb_epoch` argument in `fit` '\n"
     ]
    },
    {
     "name": "stdout",
     "output_type": "stream",
     "text": [
      "Train on 11918 samples, validate on 6000 samples\n",
      "Epoch 1/20\n",
      "11918/11918 [==============================] - 2s 132us/step - loss: 0.1594 - acc: 0.9559 - val_loss: 0.2581 - val_acc: 0.9830\n",
      "Epoch 2/20\n",
      "11918/11918 [==============================] - 1s 111us/step - loss: 0.0401 - acc: 0.9860 - val_loss: 0.0972 - val_acc: 0.9937\n",
      "Epoch 3/20\n",
      "11918/11918 [==============================] - 1s 100us/step - loss: 0.0264 - acc: 0.9917 - val_loss: 0.1673 - val_acc: 0.9895\n",
      "Epoch 4/20\n",
      "11918/11918 [==============================] - 1s 103us/step - loss: 0.0162 - acc: 0.9950 - val_loss: 0.1563 - val_acc: 0.9902\n",
      "Epoch 5/20\n",
      "11918/11918 [==============================] - 1s 109us/step - loss: 0.0146 - acc: 0.9961 - val_loss: 0.2548 - val_acc: 0.9838\n",
      "Epoch 6/20\n",
      "11918/11918 [==============================] - 1s 97us/step - loss: 0.0108 - acc: 0.9965 - val_loss: 0.4104 - val_acc: 0.9745\n",
      "Epoch 7/20\n",
      "11918/11918 [==============================] - 1s 93us/step - loss: 0.0084 - acc: 0.9975 - val_loss: 0.2445 - val_acc: 0.9848\n",
      "Epoch 8/20\n",
      "11918/11918 [==============================] - 1s 98us/step - loss: 0.0076 - acc: 0.9980 - val_loss: 0.1504 - val_acc: 0.9903\n",
      "Epoch 9/20\n",
      "11918/11918 [==============================] - 1s 99us/step - loss: 0.0054 - acc: 0.9986 - val_loss: 0.2575 - val_acc: 0.9840\n",
      "Epoch 10/20\n",
      "11918/11918 [==============================] - 1s 100us/step - loss: 0.0045 - acc: 0.9985 - val_loss: 0.2720 - val_acc: 0.9830\n",
      "Epoch 11/20\n",
      "11918/11918 [==============================] - 1s 96us/step - loss: 0.0087 - acc: 0.9977 - val_loss: 0.1504 - val_acc: 0.9907\n",
      "Epoch 12/20\n",
      "11918/11918 [==============================] - 1s 95us/step - loss: 0.0050 - acc: 0.9987 - val_loss: 0.1488 - val_acc: 0.9907\n",
      "Epoch 13/20\n",
      "11918/11918 [==============================] - 1s 103us/step - loss: 0.0020 - acc: 0.9995 - val_loss: 0.1561 - val_acc: 0.9902\n",
      "Epoch 14/20\n",
      "11918/11918 [==============================] - 1s 99us/step - loss: 0.0051 - acc: 0.9989 - val_loss: 0.1612 - val_acc: 0.9897\n",
      "Epoch 15/20\n",
      "11918/11918 [==============================] - 1s 94us/step - loss: 0.0035 - acc: 0.9992 - val_loss: 0.2122 - val_acc: 0.9868\n",
      "Epoch 16/20\n",
      "11918/11918 [==============================] - 2s 131us/step - loss: 0.0061 - acc: 0.9986 - val_loss: 0.2874 - val_acc: 0.9822\n",
      "Epoch 17/20\n",
      "11918/11918 [==============================] - 1s 124us/step - loss: 0.0071 - acc: 0.9985 - val_loss: 0.3331 - val_acc: 0.9793\n",
      "Epoch 18/20\n",
      "11918/11918 [==============================] - 1s 107us/step - loss: 0.0040 - acc: 0.9992 - val_loss: 0.4193 - val_acc: 0.9738\n",
      "Epoch 19/20\n",
      "11918/11918 [==============================] - 1s 98us/step - loss: 0.0017 - acc: 0.9993 - val_loss: 0.3197 - val_acc: 0.9802\n",
      "Epoch 20/20\n",
      "11918/11918 [==============================] - 1s 101us/step - loss: 0.0035 - acc: 0.9992 - val_loss: 0.1558 - val_acc: 0.9903\n",
      "Test score: 0.155808356583\n",
      "Test accuracy: 0.990333333333\n",
      "25.5 s ± 0 ns per loop (mean ± std. dev. of 1 run, 1 loop each)\n",
      "\n",
      "\n",
      "ACTIVATION tanh \n",
      "\n"
     ]
    },
    {
     "name": "stderr",
     "output_type": "stream",
     "text": [
      "/Users/prajwal967/anaconda3/lib/python3.6/site-packages/keras/models.py:874: UserWarning: The `nb_epoch` argument in `fit` has been renamed `epochs`.\n",
      "  warnings.warn('The `nb_epoch` argument in `fit` '\n"
     ]
    },
    {
     "name": "stdout",
     "output_type": "stream",
     "text": [
      "Train on 11918 samples, validate on 6000 samples\n",
      "Epoch 1/20\n",
      "11918/11918 [==============================] - 1s 112us/step - loss: 0.2787 - acc: 0.9351 - val_loss: 0.1683 - val_acc: 0.9445\n",
      "Epoch 2/20\n",
      "11918/11918 [==============================] - 1s 98us/step - loss: 0.0625 - acc: 0.9783 - val_loss: 0.0454 - val_acc: 0.9843\n",
      "Epoch 3/20\n",
      "11918/11918 [==============================] - 1s 101us/step - loss: 0.0360 - acc: 0.9874 - val_loss: 0.0894 - val_acc: 0.9728\n",
      "Epoch 4/20\n",
      "11918/11918 [==============================] - 1s 96us/step - loss: 0.0244 - acc: 0.9919 - val_loss: 0.0847 - val_acc: 0.9745\n",
      "Epoch 5/20\n",
      "11918/11918 [==============================] - 1s 94us/step - loss: 0.0155 - acc: 0.9952 - val_loss: 0.0758 - val_acc: 0.9768\n",
      "Epoch 6/20\n",
      "11918/11918 [==============================] - 1s 93us/step - loss: 0.0120 - acc: 0.9963 - val_loss: 0.1566 - val_acc: 0.9627\n",
      "Epoch 7/20\n",
      "11918/11918 [==============================] - 1s 91us/step - loss: 0.0091 - acc: 0.9969 - val_loss: 0.1034 - val_acc: 0.9753\n",
      "Epoch 8/20\n",
      "11918/11918 [==============================] - 1s 99us/step - loss: 0.0059 - acc: 0.9981 - val_loss: 0.1243 - val_acc: 0.9720\n",
      "Epoch 9/20\n",
      "11918/11918 [==============================] - 1s 100us/step - loss: 0.0055 - acc: 0.9982 - val_loss: 0.3353 - val_acc: 0.9277\n",
      "Epoch 10/20\n",
      "11918/11918 [==============================] - 1s 98us/step - loss: 0.0039 - acc: 0.9984 - val_loss: 0.1644 - val_acc: 0.9660\n",
      "Epoch 11/20\n",
      "11918/11918 [==============================] - 1s 103us/step - loss: 0.0037 - acc: 0.9991 - val_loss: 0.1605 - val_acc: 0.9680\n",
      "Epoch 12/20\n",
      "11918/11918 [==============================] - 1s 96us/step - loss: 0.0033 - acc: 0.9989 - val_loss: 0.1408 - val_acc: 0.9763\n",
      "Epoch 13/20\n",
      "11918/11918 [==============================] - 1s 99us/step - loss: 0.0024 - acc: 0.9992 - val_loss: 0.0840 - val_acc: 0.9843\n",
      "Epoch 14/20\n",
      "11918/11918 [==============================] - 1s 98us/step - loss: 0.0015 - acc: 0.9993 - val_loss: 0.1790 - val_acc: 0.9697\n",
      "Epoch 15/20\n",
      "11918/11918 [==============================] - 1s 100us/step - loss: 0.0020 - acc: 0.9994 - val_loss: 0.1634 - val_acc: 0.9738\n",
      "Epoch 16/20\n",
      "11918/11918 [==============================] - 1s 98us/step - loss: 4.0414e-04 - acc: 0.9999 - val_loss: 0.2057 - val_acc: 0.9678\n",
      "Epoch 17/20\n",
      "11918/11918 [==============================] - 1s 109us/step - loss: 0.0028 - acc: 0.9995 - val_loss: 0.2068 - val_acc: 0.9680\n",
      "Epoch 18/20\n",
      "11918/11918 [==============================] - 1s 104us/step - loss: 0.0016 - acc: 0.9994 - val_loss: 0.1667 - val_acc: 0.9762\n",
      "Epoch 19/20\n",
      "11918/11918 [==============================] - 2s 140us/step - loss: 0.0014 - acc: 0.9993 - val_loss: 0.1939 - val_acc: 0.9703\n",
      "Epoch 20/20\n",
      "11918/11918 [==============================] - 1s 124us/step - loss: 0.0010 - acc: 0.9995 - val_loss: 0.2458 - val_acc: 0.9640\n",
      "Test score: 0.245788349845\n",
      "Test accuracy: 0.964\n",
      "25 s ± 0 ns per loop (mean ± std. dev. of 1 run, 1 loop each)\n",
      "\n",
      "\n",
      "ACTIVATION sigmoid \n",
      "\n"
     ]
    },
    {
     "name": "stderr",
     "output_type": "stream",
     "text": [
      "/Users/prajwal967/anaconda3/lib/python3.6/site-packages/keras/models.py:874: UserWarning: The `nb_epoch` argument in `fit` has been renamed `epochs`.\n",
      "  warnings.warn('The `nb_epoch` argument in `fit` '\n"
     ]
    },
    {
     "name": "stdout",
     "output_type": "stream",
     "text": [
      "Train on 11918 samples, validate on 6000 samples\n",
      "Epoch 1/20\n",
      "11918/11918 [==============================] - 1s 113us/step - loss: 0.1949 - acc: 0.9296 - val_loss: 0.1725 - val_acc: 0.9503\n",
      "Epoch 2/20\n",
      "11918/11918 [==============================] - 1s 94us/step - loss: 0.0725 - acc: 0.9753 - val_loss: 0.0792 - val_acc: 0.9752\n",
      "Epoch 3/20\n",
      "11918/11918 [==============================] - 1s 94us/step - loss: 0.0407 - acc: 0.9861 - val_loss: 0.0632 - val_acc: 0.9843\n",
      "Epoch 4/20\n",
      "11918/11918 [==============================] - 1s 94us/step - loss: 0.0254 - acc: 0.9910 - val_loss: 0.0461 - val_acc: 0.9897\n",
      "Epoch 5/20\n",
      "11918/11918 [==============================] - 1s 93us/step - loss: 0.0178 - acc: 0.9937 - val_loss: 0.0777 - val_acc: 0.9822\n",
      "Epoch 6/20\n",
      "11918/11918 [==============================] - 1s 93us/step - loss: 0.0124 - acc: 0.9958 - val_loss: 0.0779 - val_acc: 0.9847\n",
      "Epoch 7/20\n",
      "11918/11918 [==============================] - 1s 93us/step - loss: 0.0093 - acc: 0.9973 - val_loss: 0.0531 - val_acc: 0.9900\n",
      "Epoch 8/20\n",
      "11918/11918 [==============================] - 1s 93us/step - loss: 0.0057 - acc: 0.9982 - val_loss: 0.0717 - val_acc: 0.9883\n",
      "Epoch 9/20\n",
      "11918/11918 [==============================] - 1s 92us/step - loss: 0.0048 - acc: 0.9980 - val_loss: 0.0919 - val_acc: 0.9837\n",
      "Epoch 10/20\n",
      "11918/11918 [==============================] - 1s 93us/step - loss: 0.0042 - acc: 0.9988 - val_loss: 0.0648 - val_acc: 0.9910\n",
      "Epoch 11/20\n",
      "11918/11918 [==============================] - 1s 94us/step - loss: 0.0030 - acc: 0.9989 - val_loss: 0.0713 - val_acc: 0.9902\n",
      "Epoch 12/20\n",
      "11918/11918 [==============================] - 1s 93us/step - loss: 0.0021 - acc: 0.9992 - val_loss: 0.0541 - val_acc: 0.9917\n",
      "Epoch 13/20\n",
      "11918/11918 [==============================] - 1s 93us/step - loss: 0.0012 - acc: 0.9996 - val_loss: 0.0522 - val_acc: 0.9928\n",
      "Epoch 14/20\n",
      "11918/11918 [==============================] - 1s 94us/step - loss: 0.0019 - acc: 0.9994 - val_loss: 0.0843 - val_acc: 0.9892\n",
      "Epoch 15/20\n",
      "11918/11918 [==============================] - 1s 92us/step - loss: 0.0014 - acc: 0.9994 - val_loss: 0.0973 - val_acc: 0.9858\n",
      "Epoch 16/20\n",
      "11918/11918 [==============================] - 1s 93us/step - loss: 6.0908e-04 - acc: 0.9998 - val_loss: 0.0851 - val_acc: 0.9885\n",
      "Epoch 17/20\n",
      "11918/11918 [==============================] - 1s 95us/step - loss: 8.3476e-04 - acc: 0.9997 - val_loss: 0.1103 - val_acc: 0.9870\n",
      "Epoch 18/20\n",
      "11918/11918 [==============================] - 1s 95us/step - loss: 2.5809e-04 - acc: 1.0000 - val_loss: 0.1044 - val_acc: 0.9872\n",
      "Epoch 19/20\n",
      "11918/11918 [==============================] - 1s 93us/step - loss: 5.8764e-04 - acc: 0.9997 - val_loss: 0.0683 - val_acc: 0.9937\n",
      "Epoch 20/20\n",
      "11918/11918 [==============================] - 1s 93us/step - loss: 0.0011 - acc: 0.9997 - val_loss: 0.1158 - val_acc: 0.9855\n",
      "Test score: 0.115834564243\n",
      "Test accuracy: 0.9855\n",
      "23 s ± 0 ns per loop (mean ± std. dev. of 1 run, 1 loop each)\n",
      "\n",
      "\n"
     ]
    }
   ],
   "source": [
    "for i in activations:\n",
    "    print('ACTIVATION',i,'\\n')\n",
    "    %timeit -n1 -r1 build_model(i)\n",
    "    print('\\n')"
   ]
  },
  {
   "cell_type": "code",
   "execution_count": 9,
   "metadata": {},
   "outputs": [],
   "source": [
    "#%timeit -n1 -r1 build_model()"
   ]
  },
  {
   "cell_type": "code",
   "execution_count": null,
   "metadata": {
    "collapsed": true
   },
   "outputs": [],
   "source": []
  }
 ],
 "metadata": {
  "kernelspec": {
   "display_name": "Python 3",
   "language": "python",
   "name": "python3"
  },
  "language_info": {
   "codemirror_mode": {
    "name": "ipython",
    "version": 3
   },
   "file_extension": ".py",
   "mimetype": "text/x-python",
   "name": "python",
   "nbconvert_exporter": "python",
   "pygments_lexer": "ipython3",
   "version": "3.6.3"
  }
 },
 "nbformat": 4,
 "nbformat_minor": 1
}
