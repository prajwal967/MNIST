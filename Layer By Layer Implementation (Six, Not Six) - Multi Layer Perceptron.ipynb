{
 "cells": [
  {
   "cell_type": "code",
   "execution_count": 1,
   "metadata": {
    "collapsed": false
   },
   "outputs": [
    {
     "name": "stderr",
     "output_type": "stream",
     "text": [
      "Using Theano backend.\n"
     ]
    }
   ],
   "source": [
    "import numpy as np\n",
    "from keras.datasets import mnist\n",
    "from keras.models import Sequential\n",
    "from keras.layers import Dense, Dropout, Activation, Flatten\n",
    "from keras.layers import Convolution2D, MaxPooling2D\n",
    "from keras.utils import np_utils\n",
    "from joblib import Parallel, delayed"
   ]
  },
  {
   "cell_type": "code",
   "execution_count": 2,
   "metadata": {
    "collapsed": true
   },
   "outputs": [],
   "source": [
    "#Loading the training and testing data\n",
    "(X_train, y_train), (X_test, y_test) = mnist.load_data()\n",
    "X_train = X_train.reshape(60000, 784)\n",
    "X_test = X_test.reshape(10000, 784)\n",
    "X_train = X_train.astype('float32')\n",
    "X_test = X_test.astype('float32')\n",
    "X_train /= 255\n",
    "X_test /= 255"
   ]
  },
  {
   "cell_type": "code",
   "execution_count": 3,
   "metadata": {
    "collapsed": true
   },
   "outputs": [],
   "source": [
    "#Seed for reproducibilty\n",
    "np.random.seed(1338)\n",
    "\n",
    "#Selecting 6000 random examples from the test data\n",
    "test_rows = np.random.randint(0,X_test.shape[0],6000)\n",
    "X_test = X_test[test_rows]\n",
    "Y = y_test[test_rows]\n",
    "#Converting the output to binary classification(Six=1,Not Six=0)\n",
    "Y_test = Y == 6\n",
    "Y_test = Y_test.astype(int)\n",
    "\n",
    "#Selecting the 5918 examples where the output is 6\n",
    "X_six = X_train[y_train == 6]\n",
    "Y_six = y_train[y_train == 6]\n",
    "#Selecting the examples where the output is not 6\n",
    "X_not_six = X_train[y_train != 6]\n",
    "Y_not_six = y_train[y_train != 6]\n",
    "\n",
    "#Selecting 6000 random examples from the data that contains only the data where the output is not 6\n",
    "random_rows = np.random.randint(0,X_not_six.shape[0],6000)\n",
    "X_not_six = X_not_six[random_rows]\n",
    "Y_not_six = Y_not_six[random_rows]"
   ]
  },
  {
   "cell_type": "code",
   "execution_count": 4,
   "metadata": {
    "collapsed": true
   },
   "outputs": [],
   "source": [
    "#Appending the data with output as 6 and data with output as not six\n",
    "X_train = np.append(X_six,X_not_six)\n",
    "#Reshaping the appended data to appropraite form\n",
    "X_train = X_train.reshape(X_six.shape[0] + X_not_six.shape[0], 784)\n",
    "#Appending the labels and converting the labels to binary classification(Six=1,Not Six=0)\n",
    "Y_labels = np.append(Y_six,Y_not_six)\n",
    "Y_train = Y_labels == 6 \n",
    "Y_train = Y_train.astype(int)"
   ]
  },
  {
   "cell_type": "code",
   "execution_count": 5,
   "metadata": {
    "collapsed": true
   },
   "outputs": [],
   "source": [
    "#Converting the classes to its binary categorical form\n",
    "nb_classes = 2\n",
    "Y_train = np_utils.to_categorical(Y_train, nb_classes)\n",
    "Y_test = np_utils.to_categorical(Y_test, nb_classes)"
   ]
  },
  {
   "cell_type": "code",
   "execution_count": 6,
   "metadata": {
    "collapsed": true
   },
   "outputs": [],
   "source": [
    "#Initializing the values for the convolution neural network\n",
    "batch_size = 128\n",
    "nb_epoch = 20"
   ]
  },
  {
   "cell_type": "code",
   "execution_count": 7,
   "metadata": {
    "collapsed": true
   },
   "outputs": [],
   "source": [
    "#Buliding the first layer (Dense Layer) of the network\n",
    "def build_layer_1():\n",
    "    \n",
    "    model = Sequential()\n",
    "    model.add(Dense(512, input_shape=(784,)))\n",
    "    return model"
   ]
  },
  {
   "cell_type": "code",
   "execution_count": 8,
   "metadata": {
    "collapsed": true
   },
   "outputs": [],
   "source": [
    "#Adding dropout to the model(network)\n",
    "def add_droput(model, x):\n",
    "    \n",
    "    model.add(Dropout(x))\n",
    "    return model"
   ]
  },
  {
   "cell_type": "code",
   "execution_count": 9,
   "metadata": {
    "collapsed": true
   },
   "outputs": [],
   "source": [
    "#Adding a dense layer to the model(network)\n",
    "def add_dense(model,nodes):\n",
    "    \n",
    "    model.add(Dense(nodes))\n",
    "    return model"
   ]
  },
  {
   "cell_type": "code",
   "execution_count": 10,
   "metadata": {
    "collapsed": true
   },
   "outputs": [],
   "source": [
    "#Adding a activation layer to the model(network)\n",
    "def add_activation(model, activation):\n",
    "    \n",
    "    model.add(Activation(activation))\n",
    "    return model"
   ]
  },
  {
   "cell_type": "code",
   "execution_count": 11,
   "metadata": {
    "collapsed": true
   },
   "outputs": [],
   "source": [
    "#The final step in building the model, compiling and fitting the model to the data\n",
    "def build_layer_final(model):\n",
    "    \n",
    "    model.add(Dense(nb_classes))\n",
    "    model.add(Activation('softmax'))\n",
    "    \n",
    "    compile_fit_score_model(model)"
   ]
  },
  {
   "cell_type": "code",
   "execution_count": 12,
   "metadata": {
    "collapsed": true
   },
   "outputs": [],
   "source": [
    "#Compiling, fitting and scoring the model\n",
    "def compile_fit_score_model(model_final):\n",
    "    \n",
    "    model_final.compile(loss='categorical_crossentropy',\n",
    "              optimizer='rmsprop',\n",
    "              metrics=['accuracy'])\n",
    "    \n",
    "    model_final.fit(X_train, Y_train, batch_size=batch_size, nb_epoch=nb_epoch,verbose=1,\n",
    "              validation_data=(X_test, Y_test))\n",
    "    \n",
    "    score = model_final.evaluate(X_test, Y_test, verbose=0)\n",
    "    print('Test score:', score[0])\n",
    "    print('Test accuracy:', score[1])"
   ]
  },
  {
   "cell_type": "code",
   "execution_count": 13,
   "metadata": {
    "collapsed": true
   },
   "outputs": [],
   "source": [
    "#1.Initial Dense layer\n",
    "def build_layers():\n",
    "    np.random.seed(1338)\n",
    "    \n",
    "    model = build_layer_1()\n",
    "    model = add_activation(model, 'relu')\n",
    "    build_layer_final(model)"
   ]
  },
  {
   "cell_type": "code",
   "execution_count": 14,
   "metadata": {
    "collapsed": true
   },
   "outputs": [],
   "source": [
    "#1.Initial dense layer, 2.Dropout(0.2), 3.Dense Layer, 4.Dropout(0.2)\n",
    "def build_layers_multiple():\n",
    "    np.random.seed(1338)\n",
    "    \n",
    "    model = build_layer_1()\n",
    "    model = add_activation(model, 'relu')\n",
    "    model = add_droput(model,0.2)\n",
    "\n",
    "    model = add_dense(model,512)\n",
    "    model = add_activation(model, 'relu')\n",
    "    model = add_droput(model,0.2)\n",
    "    \n",
    "    build_layer_final(model)"
   ]
  },
  {
   "cell_type": "code",
   "execution_count": 15,
   "metadata": {
    "collapsed": false
   },
   "outputs": [
    {
     "name": "stdout",
     "output_type": "stream",
     "text": [
      "Train on 11918 samples, validate on 6000 samples\n",
      "Epoch 1/20\n",
      "11918/11918 [==============================] - 1s - loss: 0.1224 - acc: 0.9550 - val_loss: 0.0492 - val_acc: 0.9817\n",
      "Epoch 2/20\n",
      "11918/11918 [==============================] - 1s - loss: 0.0461 - acc: 0.9856 - val_loss: 0.0368 - val_acc: 0.9848\n",
      "Epoch 3/20\n",
      "11918/11918 [==============================] - 0s - loss: 0.0256 - acc: 0.9931 - val_loss: 0.0308 - val_acc: 0.9888\n",
      "Epoch 4/20\n",
      "11918/11918 [==============================] - 0s - loss: 0.0163 - acc: 0.9954 - val_loss: 0.0261 - val_acc: 0.9913\n",
      "Epoch 5/20\n",
      "11918/11918 [==============================] - 1s - loss: 0.0116 - acc: 0.9970 - val_loss: 0.0531 - val_acc: 0.9820\n",
      "Epoch 6/20\n",
      "11918/11918 [==============================] - 1s - loss: 0.0070 - acc: 0.9986 - val_loss: 0.0230 - val_acc: 0.9922\n",
      "Epoch 7/20\n",
      "11918/11918 [==============================] - 1s - loss: 0.0044 - acc: 0.9996 - val_loss: 0.0306 - val_acc: 0.9890\n",
      "Epoch 8/20\n",
      "11918/11918 [==============================] - 1s - loss: 0.0034 - acc: 0.9994 - val_loss: 0.0301 - val_acc: 0.9887\n",
      "Epoch 9/20\n",
      "11918/11918 [==============================] - 1s - loss: 0.0024 - acc: 0.9999 - val_loss: 0.0320 - val_acc: 0.9878\n",
      "Epoch 10/20\n",
      "11918/11918 [==============================] - 1s - loss: 0.0017 - acc: 1.0000 - val_loss: 0.0409 - val_acc: 0.9870\n",
      "Epoch 11/20\n",
      "11918/11918 [==============================] - 1s - loss: 0.0013 - acc: 1.0000 - val_loss: 0.0376 - val_acc: 0.9875\n",
      "Epoch 12/20\n",
      "11918/11918 [==============================] - 1s - loss: 0.0011 - acc: 1.0000 - val_loss: 0.0417 - val_acc: 0.9873\n",
      "Epoch 13/20\n",
      "11918/11918 [==============================] - 1s - loss: 8.7534e-04 - acc: 1.0000 - val_loss: 0.0437 - val_acc: 0.9872\n",
      "Epoch 14/20\n",
      "11918/11918 [==============================] - 1s - loss: 7.7118e-04 - acc: 1.0000 - val_loss: 0.0360 - val_acc: 0.9882\n",
      "Epoch 15/20\n",
      "11918/11918 [==============================] - 1s - loss: 6.7760e-04 - acc: 1.0000 - val_loss: 0.0272 - val_acc: 0.9918\n",
      "Epoch 16/20\n",
      "11918/11918 [==============================] - 1s - loss: 6.4711e-04 - acc: 1.0000 - val_loss: 0.0352 - val_acc: 0.9898\n",
      "Epoch 17/20\n",
      "11918/11918 [==============================] - 1s - loss: 5.8935e-04 - acc: 1.0000 - val_loss: 0.0456 - val_acc: 0.9875\n",
      "Epoch 18/20\n",
      "11918/11918 [==============================] - 1s - loss: 4.8157e-04 - acc: 1.0000 - val_loss: 0.0444 - val_acc: 0.9870\n",
      "Epoch 19/20\n",
      "11918/11918 [==============================] - 1s - loss: 4.4039e-04 - acc: 1.0000 - val_loss: 0.0469 - val_acc: 0.9868\n",
      "Epoch 20/20\n",
      "11918/11918 [==============================] - 1s - loss: 4.0436e-04 - acc: 1.0000 - val_loss: 0.0478 - val_acc: 0.9867\n",
      "Test score: 0.0477670164979\n",
      "Test accuracy: 0.986666666667\n",
      "1 loop, best of 1: 23.8 s per loop\n"
     ]
    }
   ],
   "source": [
    "%timeit -n1 -r1 build_layers()"
   ]
  },
  {
   "cell_type": "code",
   "execution_count": 16,
   "metadata": {
    "collapsed": false
   },
   "outputs": [
    {
     "name": "stdout",
     "output_type": "stream",
     "text": [
      "Train on 11918 samples, validate on 6000 samples\n",
      "Epoch 1/20\n",
      "11918/11918 [==============================] - 2s - loss: 0.1219 - acc: 0.9537 - val_loss: 0.0598 - val_acc: 0.9760\n",
      "Epoch 2/20\n",
      "11918/11918 [==============================] - 2s - loss: 0.0389 - acc: 0.9867 - val_loss: 0.0251 - val_acc: 0.9928\n",
      "Epoch 3/20\n",
      "11918/11918 [==============================] - 2s - loss: 0.0209 - acc: 0.9930 - val_loss: 0.0248 - val_acc: 0.9915\n",
      "Epoch 4/20\n",
      "11918/11918 [==============================] - 2s - loss: 0.0135 - acc: 0.9961 - val_loss: 0.0266 - val_acc: 0.9912\n",
      "Epoch 5/20\n",
      "11918/11918 [==============================] - 2s - loss: 0.0091 - acc: 0.9971 - val_loss: 0.0324 - val_acc: 0.9898\n",
      "Epoch 6/20\n",
      "11918/11918 [==============================] - 2s - loss: 0.0059 - acc: 0.9982 - val_loss: 0.0500 - val_acc: 0.9853\n",
      "Epoch 7/20\n",
      "11918/11918 [==============================] - 2s - loss: 0.0035 - acc: 0.9988 - val_loss: 0.0474 - val_acc: 0.9878\n",
      "Epoch 8/20\n",
      "11918/11918 [==============================] - 2s - loss: 0.0018 - acc: 0.9995 - val_loss: 0.0482 - val_acc: 0.9892\n",
      "Epoch 9/20\n",
      "11918/11918 [==============================] - 2s - loss: 0.0018 - acc: 0.9997 - val_loss: 0.0443 - val_acc: 0.9895\n",
      "Epoch 10/20\n",
      "11918/11918 [==============================] - 2s - loss: 0.0011 - acc: 0.9997 - val_loss: 0.0406 - val_acc: 0.9903\n",
      "Epoch 11/20\n",
      "11918/11918 [==============================] - 2s - loss: 4.7290e-04 - acc: 0.9999 - val_loss: 0.0491 - val_acc: 0.9885\n",
      "Epoch 12/20\n",
      "11918/11918 [==============================] - 2s - loss: 2.8724e-04 - acc: 1.0000 - val_loss: 0.0413 - val_acc: 0.9902\n",
      "Epoch 13/20\n",
      "11918/11918 [==============================] - 2s - loss: 3.5255e-04 - acc: 0.9999 - val_loss: 0.0499 - val_acc: 0.9880\n",
      "Epoch 14/20\n",
      "11918/11918 [==============================] - 2s - loss: 2.0966e-04 - acc: 1.0000 - val_loss: 0.0475 - val_acc: 0.9890\n",
      "Epoch 15/20\n",
      "11918/11918 [==============================] - 3s - loss: 1.6114e-04 - acc: 1.0000 - val_loss: 0.0533 - val_acc: 0.9883\n",
      "Epoch 16/20\n",
      "11918/11918 [==============================] - 2s - loss: 1.0213e-04 - acc: 1.0000 - val_loss: 0.0547 - val_acc: 0.9885\n",
      "Epoch 17/20\n",
      "11918/11918 [==============================] - 2s - loss: 1.0450e-04 - acc: 1.0000 - val_loss: 0.0565 - val_acc: 0.9888\n",
      "Epoch 18/20\n",
      "11918/11918 [==============================] - 2s - loss: 1.1771e-04 - acc: 1.0000 - val_loss: 0.0523 - val_acc: 0.9890\n",
      "Epoch 19/20\n",
      "11918/11918 [==============================] - 2s - loss: 1.4454e-04 - acc: 1.0000 - val_loss: 0.0558 - val_acc: 0.9888\n",
      "Epoch 20/20\n",
      "11918/11918 [==============================] - 2s - loss: 9.7533e-05 - acc: 1.0000 - val_loss: 0.0549 - val_acc: 0.9890\n",
      "Test score: 0.0549472076656\n",
      "Test accuracy: 0.989\n",
      "1 loop, best of 1: 51.5 s per loop\n"
     ]
    }
   ],
   "source": [
    "%timeit -n1 -r1 build_layers_multiple()"
   ]
  }
 ],
 "metadata": {
  "kernelspec": {
   "display_name": "Python 3",
   "language": "python",
   "name": "python3"
  },
  "language_info": {
   "codemirror_mode": {
    "name": "ipython",
    "version": 3
   },
   "file_extension": ".py",
   "mimetype": "text/x-python",
   "name": "python",
   "nbconvert_exporter": "python",
   "pygments_lexer": "ipython3",
   "version": "3.5.1"
  }
 },
 "nbformat": 4,
 "nbformat_minor": 0
}
