{
 "cells": [
  {
   "cell_type": "code",
   "execution_count": 1,
   "metadata": {
    "collapsed": false
   },
   "outputs": [
    {
     "name": "stderr",
     "output_type": "stream",
     "text": [
      "Using Theano backend.\n"
     ]
    }
   ],
   "source": [
    "import numpy as np\n",
    "from keras.datasets import mnist\n",
    "from keras.models import Sequential, Model\n",
    "from keras.layers import Dense, Dropout, Activation, Flatten, Input\n",
    "from keras.layers import Convolution2D, MaxPooling2D\n",
    "from keras.utils import np_utils\n",
    "from joblib import Parallel, delayed\n",
    "import matplotlib.pyplot as plt\n",
    "#Seed for reproducibilty\n",
    "np.random.seed(1338)"
   ]
  },
  {
   "cell_type": "code",
   "execution_count": 2,
   "metadata": {
    "collapsed": false
   },
   "outputs": [
    {
     "name": "stdout",
     "output_type": "stream",
     "text": [
      "CPU times: user 1.3 s, sys: 168 ms, total: 1.47 s\n",
      "Wall time: 1.47 s\n"
     ]
    }
   ],
   "source": [
    "%%time\n",
    "#Loading the training and testing data\n",
    "(X_train, y_train), (X_test, y_test) = mnist.load_data()\n",
    "X_train = X_train.reshape(60000, 784)\n",
    "X_test = X_test.reshape(10000, 784)\n",
    "X_train = X_train.astype('float32')\n",
    "X_test = X_test.astype('float32')\n",
    "X_train /= 255\n",
    "X_test /= 255"
   ]
  },
  {
   "cell_type": "code",
   "execution_count": 3,
   "metadata": {
    "collapsed": false
   },
   "outputs": [
    {
     "name": "stdout",
     "output_type": "stream",
     "text": [
      "CPU times: user 56 ms, sys: 12 ms, total: 68 ms\n",
      "Wall time: 68.9 ms\n"
     ]
    }
   ],
   "source": [
    "%%time\n",
    "#Selecting 6000 random examples from the test data\n",
    "test_rows = np.random.randint(0,X_test.shape[0],6000)\n",
    "X_test = X_test[test_rows]\n",
    "Y = y_test[test_rows]\n",
    "#Converting the output to binary classification(Six=1,Not Six=0)\n",
    "Y_test = Y == 6\n",
    "Y_test = Y_test.astype(int)\n",
    "\n",
    "#Selecting the 5918 examples where the output is 6\n",
    "X_six = X_train[y_train == 6]\n",
    "Y_six = y_train[y_train == 6]\n",
    "#Selecting the examples where the output is not 6\n",
    "X_not_six = X_train[y_train != 6]\n",
    "Y_not_six = y_train[y_train != 6]\n",
    "\n",
    "#Selecting 6000 random examples from the data that contains only the data where the output is not 6\n",
    "random_rows = np.random.randint(0,X_six.shape[0],6000)\n",
    "X_not_six = X_not_six[random_rows]\n",
    "Y_not_six = Y_not_six[random_rows]\n"
   ]
  },
  {
   "cell_type": "code",
   "execution_count": 4,
   "metadata": {
    "collapsed": false
   },
   "outputs": [
    {
     "name": "stdout",
     "output_type": "stream",
     "text": [
      "CPU times: user 16 ms, sys: 0 ns, total: 16 ms\n",
      "Wall time: 13.4 ms\n"
     ]
    }
   ],
   "source": [
    "%%time\n",
    "#Appending the data with output as 6 and data with output as not six\n",
    "X_train = np.append(X_six,X_not_six)\n",
    "#Reshaping the appended data to appropraite form\n",
    "X_train = X_train.reshape(X_six.shape[0] + X_not_six.shape[0], 784)"
   ]
  },
  {
   "cell_type": "code",
   "execution_count": 5,
   "metadata": {
    "collapsed": false
   },
   "outputs": [
    {
     "name": "stdout",
     "output_type": "stream",
     "text": [
      "CPU times: user 8 ms, sys: 0 ns, total: 8 ms\n",
      "Wall time: 7.8 ms\n"
     ]
    }
   ],
   "source": [
    "%%time\n",
    "# this is the size of our encoded representations\n",
    "encoding_dim = 32  # 32 floats -> compression of factor 24.5, assuming the input is 784 floats\n",
    "\n",
    "# this is our input placeholder\n",
    "input_img = Input(shape=(784,))\n",
    "# \"encoded\" is the encoded representation of the input\n",
    "encoded = Dense(encoding_dim, activation='relu')(input_img)\n",
    "# \"decoded\" is the lossy reconstruction of the input\n",
    "decoded = Dense(784, activation='sigmoid')(encoded)\n",
    "\n",
    "# this model maps an input to its reconstruction\n",
    "autoencoder = Model(input=input_img, output=decoded)"
   ]
  },
  {
   "cell_type": "code",
   "execution_count": 6,
   "metadata": {
    "collapsed": false
   },
   "outputs": [
    {
     "name": "stdout",
     "output_type": "stream",
     "text": [
      "CPU times: user 0 ns, sys: 0 ns, total: 0 ns\n",
      "Wall time: 89.4 µs\n"
     ]
    }
   ],
   "source": [
    "%%time\n",
    "# this model maps an input to its encoded representation\n",
    "encoder = Model(input=input_img, output=encoded)"
   ]
  },
  {
   "cell_type": "code",
   "execution_count": 7,
   "metadata": {
    "collapsed": false
   },
   "outputs": [
    {
     "name": "stdout",
     "output_type": "stream",
     "text": [
      "CPU times: user 0 ns, sys: 0 ns, total: 0 ns\n",
      "Wall time: 764 µs\n"
     ]
    }
   ],
   "source": [
    "%%time\n",
    "# create a placeholder for an encoded (32-dimensional) input\n",
    "encoded_input = Input(shape=(encoding_dim,))\n",
    "# retrieve the last layer of the autoencoder model\n",
    "decoder_layer = autoencoder.layers[-1]\n",
    "# create the decoder model\n",
    "decoder = Model(input=encoded_input, output=decoder_layer(encoded_input))"
   ]
  },
  {
   "cell_type": "code",
   "execution_count": 8,
   "metadata": {
    "collapsed": false
   },
   "outputs": [
    {
     "name": "stdout",
     "output_type": "stream",
     "text": [
      "CPU times: user 12 ms, sys: 0 ns, total: 12 ms\n",
      "Wall time: 12.6 ms\n"
     ]
    }
   ],
   "source": [
    "%%time\n",
    "autoencoder.compile(optimizer='adadelta', loss='binary_crossentropy')"
   ]
  },
  {
   "cell_type": "code",
   "execution_count": 9,
   "metadata": {
    "collapsed": false
   },
   "outputs": [
    {
     "name": "stdout",
     "output_type": "stream",
     "text": [
      "Train on 11918 samples, validate on 6000 samples\n",
      "Epoch 1/50\n",
      "11918/11918 [==============================] - 1s - loss: 0.6261 - val_loss: 0.4316\n",
      "Epoch 2/50\n",
      "11918/11918 [==============================] - 1s - loss: 0.3130 - val_loss: 0.2993\n",
      "Epoch 3/50\n",
      "11918/11918 [==============================] - 1s - loss: 0.2750 - val_loss: 0.2896\n",
      "Epoch 4/50\n",
      "11918/11918 [==============================] - 1s - loss: 0.2697 - val_loss: 0.2853\n",
      "Epoch 5/50\n",
      "11918/11918 [==============================] - 1s - loss: 0.2669 - val_loss: 0.2835\n",
      "Epoch 6/50\n",
      "11918/11918 [==============================] - 1s - loss: 0.2645 - val_loss: 0.2806\n",
      "Epoch 7/50\n",
      "11918/11918 [==============================] - 1s - loss: 0.2620 - val_loss: 0.2780\n",
      "Epoch 8/50\n",
      "11918/11918 [==============================] - 1s - loss: 0.2590 - val_loss: 0.2741\n",
      "Epoch 9/50\n",
      "11918/11918 [==============================] - 1s - loss: 0.2552 - val_loss: 0.2706\n",
      "Epoch 10/50\n",
      "11918/11918 [==============================] - 1s - loss: 0.2507 - val_loss: 0.2654\n",
      "Epoch 11/50\n",
      "11918/11918 [==============================] - 1s - loss: 0.2457 - val_loss: 0.2607\n",
      "Epoch 12/50\n",
      "11918/11918 [==============================] - 1s - loss: 0.2404 - val_loss: 0.2558\n",
      "Epoch 13/50\n",
      "11918/11918 [==============================] - 1s - loss: 0.2352 - val_loss: 0.2509\n",
      "Epoch 14/50\n",
      "11918/11918 [==============================] - 1s - loss: 0.2303 - val_loss: 0.2462\n",
      "Epoch 15/50\n",
      "11918/11918 [==============================] - 1s - loss: 0.2259 - val_loss: 0.2417\n",
      "Epoch 16/50\n",
      "11918/11918 [==============================] - 1s - loss: 0.2218 - val_loss: 0.2378\n",
      "Epoch 17/50\n",
      "11918/11918 [==============================] - 1s - loss: 0.2180 - val_loss: 0.2342\n",
      "Epoch 18/50\n",
      "11918/11918 [==============================] - 1s - loss: 0.2146 - val_loss: 0.2308\n",
      "Epoch 19/50\n",
      "11918/11918 [==============================] - 1s - loss: 0.2113 - val_loss: 0.2276\n",
      "Epoch 20/50\n",
      "11918/11918 [==============================] - 1s - loss: 0.2083 - val_loss: 0.2245\n",
      "Epoch 21/50\n",
      "11918/11918 [==============================] - 1s - loss: 0.2055 - val_loss: 0.2217\n",
      "Epoch 22/50\n",
      "11918/11918 [==============================] - 1s - loss: 0.2029 - val_loss: 0.2192\n",
      "Epoch 23/50\n",
      "11918/11918 [==============================] - 1s - loss: 0.2004 - val_loss: 0.2166\n",
      "Epoch 24/50\n",
      "11918/11918 [==============================] - 1s - loss: 0.1981 - val_loss: 0.2143\n",
      "Epoch 25/50\n",
      "11918/11918 [==============================] - 1s - loss: 0.1959 - val_loss: 0.2122\n",
      "Epoch 26/50\n",
      "11918/11918 [==============================] - 1s - loss: 0.1939 - val_loss: 0.2101\n",
      "Epoch 27/50\n",
      "11918/11918 [==============================] - 1s - loss: 0.1920 - val_loss: 0.2080\n",
      "Epoch 28/50\n",
      "11918/11918 [==============================] - 2s - loss: 0.1902 - val_loss: 0.2062\n",
      "Epoch 29/50\n",
      "11918/11918 [==============================] - 2s - loss: 0.1885 - val_loss: 0.2043\n",
      "Epoch 30/50\n",
      "11918/11918 [==============================] - 1s - loss: 0.1869 - val_loss: 0.2027\n",
      "Epoch 31/50\n",
      "11918/11918 [==============================] - 1s - loss: 0.1854 - val_loss: 0.2011\n",
      "Epoch 32/50\n",
      "11918/11918 [==============================] - 1s - loss: 0.1839 - val_loss: 0.1995\n",
      "Epoch 33/50\n",
      "11918/11918 [==============================] - 1s - loss: 0.1825 - val_loss: 0.1980\n",
      "Epoch 34/50\n",
      "11918/11918 [==============================] - 2s - loss: 0.1811 - val_loss: 0.1965\n",
      "Epoch 35/50\n",
      "11918/11918 [==============================] - 2s - loss: 0.1798 - val_loss: 0.1951\n",
      "Epoch 36/50\n",
      "11918/11918 [==============================] - 1s - loss: 0.1785 - val_loss: 0.1937\n",
      "Epoch 37/50\n",
      "11918/11918 [==============================] - 2s - loss: 0.1772 - val_loss: 0.1924\n",
      "Epoch 38/50\n",
      "11918/11918 [==============================] - 2s - loss: 0.1760 - val_loss: 0.1911\n",
      "Epoch 39/50\n",
      "11918/11918 [==============================] - 1s - loss: 0.1748 - val_loss: 0.1898\n",
      "Epoch 40/50\n",
      "11918/11918 [==============================] - 2s - loss: 0.1737 - val_loss: 0.1886\n",
      "Epoch 41/50\n",
      "11918/11918 [==============================] - 2s - loss: 0.1726 - val_loss: 0.1874\n",
      "Epoch 42/50\n",
      "11918/11918 [==============================] - 2s - loss: 0.1715 - val_loss: 0.1862\n",
      "Epoch 43/50\n",
      "11918/11918 [==============================] - 2s - loss: 0.1704 - val_loss: 0.1851\n",
      "Epoch 44/50\n",
      "11918/11918 [==============================] - 2s - loss: 0.1694 - val_loss: 0.1839\n",
      "Epoch 45/50\n",
      "11918/11918 [==============================] - 2s - loss: 0.1684 - val_loss: 0.1828\n",
      "Epoch 46/50\n",
      "11918/11918 [==============================] - 2s - loss: 0.1674 - val_loss: 0.1818\n",
      "Epoch 47/50\n",
      "11918/11918 [==============================] - 2s - loss: 0.1664 - val_loss: 0.1808\n",
      "Epoch 48/50\n",
      "11918/11918 [==============================] - 2s - loss: 0.1655 - val_loss: 0.1799\n",
      "Epoch 49/50\n",
      "11918/11918 [==============================] - 2s - loss: 0.1646 - val_loss: 0.1789\n",
      "Epoch 50/50\n",
      "11918/11918 [==============================] - 2s - loss: 0.1637 - val_loss: 0.1781\n",
      "CPU times: user 3min 5s, sys: 3.28 s, total: 3min 8s\n",
      "Wall time: 1min 36s\n"
     ]
    },
    {
     "data": {
      "text/plain": [
       "<keras.callbacks.History at 0x7f8a53075668>"
      ]
     },
     "execution_count": 9,
     "metadata": {},
     "output_type": "execute_result"
    }
   ],
   "source": [
    "%%time\n",
    "autoencoder.fit(X_train, X_train,\n",
    "                nb_epoch=50,\n",
    "                batch_size=256,\n",
    "                shuffle=True,\n",
    "                validation_data=(X_test, X_test))"
   ]
  },
  {
   "cell_type": "code",
   "execution_count": 10,
   "metadata": {
    "collapsed": false
   },
   "outputs": [
    {
     "name": "stdout",
     "output_type": "stream",
     "text": [
      "CPU times: user 536 ms, sys: 20 ms, total: 556 ms\n",
      "Wall time: 302 ms\n"
     ]
    }
   ],
   "source": [
    "%%time\n",
    "# encode and decode some digits\n",
    "# note that we take them from the *test* set\n",
    "encoder.compile(optimizer='adadelta', loss='binary_crossentropy')\n",
    "decoder.compile(optimizer='adadelta', loss='binary_crossentropy')\n",
    "encoded_imgs = encoder.predict(X_test)\n",
    "decoded_imgs = decoder.predict(encoded_imgs)"
   ]
  },
  {
   "cell_type": "code",
   "execution_count": 11,
   "metadata": {
    "collapsed": false
   },
   "outputs": [
    {
     "name": "stdout",
     "output_type": "stream",
     "text": [
      "CPU times: user 7.48 s, sys: 100 ms, total: 7.58 s\n",
      "Wall time: 44.6 s\n"
     ]
    }
   ],
   "source": [
    "%%time\n",
    "# use Matplotlib (don't ask)\n",
    "import matplotlib.pyplot as plt\n",
    "\n",
    "n = 10  # how many digits we will display\n",
    "plt.figure(figsize=(20, 4))\n",
    "for i in range(n):\n",
    "    # display original\n",
    "    ax = plt.subplot(2, n, i + 1)\n",
    "    plt.imshow(X_test[i].reshape(28, 28))\n",
    "    plt.gray()\n",
    "    ax.get_xaxis().set_visible(False)\n",
    "    ax.get_yaxis().set_visible(False)\n",
    "\n",
    "    # display reconstruction\n",
    "    ax = plt.subplot(2, n, i + 1 + n)\n",
    "    plt.imshow(decoded_imgs[i].reshape(28, 28))\n",
    "    plt.gray()\n",
    "    ax.get_xaxis().set_visible(False)\n",
    "    ax.get_yaxis().set_visible(False)\n",
    "plt.show()"
   ]
  },
  {
   "cell_type": "code",
   "execution_count": null,
   "metadata": {
    "collapsed": true
   },
   "outputs": [],
   "source": []
  }
 ],
 "metadata": {
  "kernelspec": {
   "display_name": "Python 3",
   "language": "python",
   "name": "python3"
  },
  "language_info": {
   "codemirror_mode": {
    "name": "ipython",
    "version": 3
   },
   "file_extension": ".py",
   "mimetype": "text/x-python",
   "name": "python",
   "nbconvert_exporter": "python",
   "pygments_lexer": "ipython3",
   "version": "3.5.1"
  }
 },
 "nbformat": 4,
 "nbformat_minor": 0
}
