{
 "cells": [
  {
   "cell_type": "code",
   "execution_count": 1,
   "metadata": {
    "collapsed": false
   },
   "outputs": [
    {
     "name": "stderr",
     "output_type": "stream",
     "text": [
      "Using Theano backend.\n"
     ]
    }
   ],
   "source": [
    "import numpy as np\n",
    "from keras.datasets import mnist\n",
    "from keras.models import Sequential\n",
    "from keras.layers import Dense, Dropout, Activation, Flatten\n",
    "from keras.layers import Convolution2D, MaxPooling2D\n",
    "from keras.utils import np_utils\n",
    "from joblib import Parallel, delayed"
   ]
  },
  {
   "cell_type": "code",
   "execution_count": 2,
   "metadata": {
    "collapsed": true
   },
   "outputs": [],
   "source": [
    "#Loading the training and testing data\n",
    "(X_train, y_train), (X_test, y_test) = mnist.load_data()\n",
    "img_rows, img_cols = 28, 28\n",
    "X_train = X_train.reshape(X_train.shape[0], 1, img_rows, img_cols)\n",
    "X_test = X_test.reshape(X_test.shape[0], 1, img_rows, img_cols)\n",
    "X_train = X_train.astype('float32')\n",
    "X_test = X_test.astype('float32')\n",
    "X_train /= 255\n",
    "X_test /= 255"
   ]
  },
  {
   "cell_type": "code",
   "execution_count": 3,
   "metadata": {
    "collapsed": true
   },
   "outputs": [],
   "source": [
    "#Seed for reproducibility\n",
    "np.random.seed(1338)\n",
    "\n",
    "#Selecting 6000 random examples from the test data\n",
    "test_rows = np.random.randint(0,X_test.shape[0],6000)\n",
    "X_test = X_test[test_rows]\n",
    "Y = y_test[test_rows]\n",
    "#Converting the output to binary classification(Six=1,Not Six=0)\n",
    "Y_test = Y == 6\n",
    "Y_test = Y_test.astype(int)\n",
    "\n",
    "#Selecting the 5918 examples where the output is 6\n",
    "X_six = X_train[y_train == 6]\n",
    "Y_six = y_train[y_train == 6]\n",
    "#Selecting the examples where the output is not 6\n",
    "X_not_six = X_train[y_train != 6]\n",
    "Y_not_six = y_train[y_train != 6]\n",
    "#Selecting 6000 random examples from the data that contains only the data where the output is not 6\n",
    "random_rows = np.random.randint(0,X_not_six.shape[0],6000)\n",
    "X_not_six = X_not_six[random_rows]\n",
    "Y_not_six = Y_not_six[random_rows]"
   ]
  },
  {
   "cell_type": "code",
   "execution_count": 4,
   "metadata": {
    "collapsed": true
   },
   "outputs": [],
   "source": [
    "#Appending the data with output as 6 and data with output as not six\n",
    "X_train = np.append(X_six,X_not_six)\n",
    "#Reshaping the appended data to appropraite form\n",
    "X_train = X_train.reshape(X_six.shape[0] + X_not_six.shape[0], 1, img_rows, img_cols)\n",
    "#Appending the labels and converting the labels to binary classification(Six=1,Not Six=0)\n",
    "Y_labels = np.append(Y_six,Y_not_six)\n",
    "Y_train = Y_labels == 6 \n",
    "Y_train = Y_train.astype(int)"
   ]
  },
  {
   "cell_type": "code",
   "execution_count": 5,
   "metadata": {
    "collapsed": true
   },
   "outputs": [],
   "source": [
    "#Converting the classes to its binary categorical form\n",
    "nb_classes = 2\n",
    "Y_train = np_utils.to_categorical(Y_train, nb_classes)\n",
    "Y_test = np_utils.to_categorical(Y_test, nb_classes)"
   ]
  },
  {
   "cell_type": "code",
   "execution_count": 6,
   "metadata": {
    "collapsed": true
   },
   "outputs": [],
   "source": [
    "#Initializing the values for the convolution neural network\n",
    "nb_epoch = 12\n",
    "batch_size = 128\n",
    "# number of convolutional filters to use\n",
    "nb_filters = 32\n",
    "# size of pooling area for max pooling\n",
    "#nb_pool = 2\n",
    "nb_pool = [2,3,4]\n",
    "# convolution kernel size\n",
    "nb_conv = 3\n",
    "#Activations\n",
    "activations=['relu','tanh','sigmoid']"
   ]
  },
  {
   "cell_type": "code",
   "execution_count": 7,
   "metadata": {
    "collapsed": false
   },
   "outputs": [],
   "source": [
    "#Buliding the first layer (Convolution Layer) of the network\n",
    "def build_layer_1():\n",
    "    \n",
    "    model = Sequential()\n",
    "    model.add(Convolution2D(nb_filters, nb_conv, nb_conv,\n",
    "                        border_mode='valid',\n",
    "                        input_shape=(1, img_rows, img_cols)))\n",
    "    return model"
   ]
  },
  {
   "cell_type": "code",
   "execution_count": 8,
   "metadata": {
    "collapsed": false
   },
   "outputs": [],
   "source": [
    "#Adding a convolution layer to the model(network)\n",
    "def add_convolution(model):\n",
    "    \n",
    "    model.add(Convolution2D(nb_filters, nb_conv, nb_conv)) \n",
    "    return model"
   ]
  },
  {
   "cell_type": "code",
   "execution_count": 9,
   "metadata": {
    "collapsed": true
   },
   "outputs": [],
   "source": [
    "#Adding a max pooling layer to the model(network)\n",
    "def add_max_pooling(model,nb_pool):\n",
    "    \n",
    "    model.add(MaxPooling2D(pool_size=(nb_pool, nb_pool)))\n",
    "    return model"
   ]
  },
  {
   "cell_type": "code",
   "execution_count": 10,
   "metadata": {
    "collapsed": true
   },
   "outputs": [],
   "source": [
    "#Adding dropout to the model(network)\n",
    "def add_droput(model, x):\n",
    "    \n",
    "    model.add(Dropout(x))\n",
    "    return model"
   ]
  },
  {
   "cell_type": "code",
   "execution_count": 11,
   "metadata": {
    "collapsed": true
   },
   "outputs": [],
   "source": [
    "#Adding a flattening layer to the model(network), before adding a dense layer\n",
    "def add_flatten(model):\n",
    "    \n",
    "    model.add(Flatten())\n",
    "    return model"
   ]
  },
  {
   "cell_type": "code",
   "execution_count": 12,
   "metadata": {
    "collapsed": true
   },
   "outputs": [],
   "source": [
    "#Adding a dense layer to the model(network)\n",
    "def add_dense(model,nodes):\n",
    "    \n",
    "    model.add(Dense(nodes))\n",
    "    return model"
   ]
  },
  {
   "cell_type": "code",
   "execution_count": 13,
   "metadata": {
    "collapsed": true
   },
   "outputs": [],
   "source": [
    "#Adding a activation layer to the model(network)\n",
    "def add_activation(model, activation):\n",
    "    \n",
    "    model.add(Activation(activation))\n",
    "    return model"
   ]
  },
  {
   "cell_type": "code",
   "execution_count": 14,
   "metadata": {
    "collapsed": true
   },
   "outputs": [],
   "source": [
    "#The final step in building the model, compiling and fitting the model to the data\n",
    "def build_layer_final(model):\n",
    "    \n",
    "    model.add(Dense(nb_classes))\n",
    "    model.add(Activation('softmax'))\n",
    "    \n",
    "    compile_fit_score_model(model)"
   ]
  },
  {
   "cell_type": "code",
   "execution_count": 15,
   "metadata": {
    "collapsed": true
   },
   "outputs": [],
   "source": [
    "#Compiling, fitting and scoring the model\n",
    "def compile_fit_score_model(model_final):\n",
    "    \n",
    "    model_final.compile(loss='categorical_crossentropy',\n",
    "              optimizer='adadelta',\n",
    "              metrics=['accuracy'])\n",
    "    \n",
    "    model_final.fit(X_train, Y_train, batch_size=batch_size, nb_epoch=nb_epoch,verbose=1,\n",
    "              validation_data=(X_test, Y_test))\n",
    "    \n",
    "    score = model_final.evaluate(X_test, Y_test, verbose=0)\n",
    "    print('Test score:', score[0])\n",
    "    print('Test accuracy:', score[1])"
   ]
  },
  {
   "cell_type": "code",
   "execution_count": 20,
   "metadata": {
    "collapsed": true
   },
   "outputs": [],
   "source": [
    "#1.Initial convolution layer\n",
    "def build_layers():\n",
    "    \n",
    "    np.random.seed(1338)\n",
    "    \n",
    "    model = build_layer_1()\n",
    "    model = add_activation(model, 'relu')\n",
    "    model = add_flatten(model)\n",
    "    build_layer_final(model)"
   ]
  },
  {
   "cell_type": "code",
   "execution_count": 21,
   "metadata": {
    "collapsed": false
   },
   "outputs": [
    {
     "name": "stdout",
     "output_type": "stream",
     "text": [
      "Train on 11918 samples, validate on 6000 samples\n",
      "Epoch 1/12\n",
      "11918/11918 [==============================] - 4s - loss: 0.1640 - acc: 0.9481 - val_loss: 0.0970 - val_acc: 0.9650\n",
      "Epoch 2/12\n",
      "11918/11918 [==============================] - 4s - loss: 0.0545 - acc: 0.9825 - val_loss: 0.0440 - val_acc: 0.9828\n",
      "Epoch 3/12\n",
      "11918/11918 [==============================] - 4s - loss: 0.0269 - acc: 0.9916 - val_loss: 0.0462 - val_acc: 0.9818\n",
      "Epoch 4/12\n",
      "11918/11918 [==============================] - 4s - loss: 0.0185 - acc: 0.9941 - val_loss: 0.0284 - val_acc: 0.9892\n",
      "Epoch 5/12\n",
      "11918/11918 [==============================] - 4s - loss: 0.0101 - acc: 0.9975 - val_loss: 0.0326 - val_acc: 0.9870\n",
      "Epoch 6/12\n",
      "11918/11918 [==============================] - 5s - loss: 0.0082 - acc: 0.9980 - val_loss: 0.0241 - val_acc: 0.9908\n",
      "Epoch 7/12\n",
      "11918/11918 [==============================] - 5s - loss: 0.0063 - acc: 0.9986 - val_loss: 0.0204 - val_acc: 0.9933\n",
      "Epoch 8/12\n",
      "11918/11918 [==============================] - 5s - loss: 0.0054 - acc: 0.9984 - val_loss: 0.0315 - val_acc: 0.9875\n",
      "Epoch 9/12\n",
      "11918/11918 [==============================] - 5s - loss: 0.0038 - acc: 0.9993 - val_loss: 0.0349 - val_acc: 0.9862\n",
      "Epoch 10/12\n",
      "11918/11918 [==============================] - 5s - loss: 0.0035 - acc: 0.9993 - val_loss: 0.0367 - val_acc: 0.9867\n",
      "Epoch 11/12\n",
      "11918/11918 [==============================] - 5s - loss: 0.0025 - acc: 0.9997 - val_loss: 0.0455 - val_acc: 0.9840\n",
      "Epoch 12/12\n",
      "11918/11918 [==============================] - 5s - loss: 0.0018 - acc: 0.9999 - val_loss: 0.0323 - val_acc: 0.9895\n",
      "Test score: 0.0322758521028\n",
      "Test accuracy: 0.9895\n",
      "1 loop, best of 1: 1min 3s per loop\n"
     ]
    }
   ],
   "source": [
    "%timeit -n1 -r1 build_layers()"
   ]
  },
  {
   "cell_type": "code",
   "execution_count": 18,
   "metadata": {
    "collapsed": false
   },
   "outputs": [],
   "source": [
    "#1.Initial convolution layer, 2.Add convolution layer\n",
    "def build_layers_2():\n",
    "    np.random.seed(1338)\n",
    "    \n",
    "    model = build_layer_1()\n",
    "    model = add_activation(model, 'relu')\n",
    "    \n",
    "    model = add_convolution(model)\n",
    "    model = add_activation(model, 'relu')\n",
    "    model = add_flatten(model)\n",
    "    build_layer_final(model)"
   ]
  },
  {
   "cell_type": "code",
   "execution_count": 19,
   "metadata": {
    "collapsed": false
   },
   "outputs": [
    {
     "name": "stdout",
     "output_type": "stream",
     "text": [
      "Train on 11918 samples, validate on 6000 samples\n",
      "Epoch 1/12\n",
      "11918/11918 [==============================] - 41s - loss: 0.1001 - acc: 0.9646 - val_loss: 0.0415 - val_acc: 0.9840\n",
      "Epoch 2/12\n",
      "11918/11918 [==============================] - 45s - loss: 0.0222 - acc: 0.9926 - val_loss: 0.0114 - val_acc: 0.9970\n",
      "Epoch 3/12\n",
      "11918/11918 [==============================] - 45s - loss: 0.0144 - acc: 0.9950 - val_loss: 0.0236 - val_acc: 0.9920\n",
      "Epoch 4/12\n",
      "11918/11918 [==============================] - 40s - loss: 0.0073 - acc: 0.9977 - val_loss: 0.0785 - val_acc: 0.9742\n",
      "Epoch 5/12\n",
      "11918/11918 [==============================] - 40s - loss: 0.0061 - acc: 0.9979 - val_loss: 0.0300 - val_acc: 0.9898\n",
      "Epoch 6/12\n",
      "11918/11918 [==============================] - 41s - loss: 0.0031 - acc: 0.9992 - val_loss: 0.0192 - val_acc: 0.9947\n",
      "Epoch 7/12\n",
      "11918/11918 [==============================] - 34s - loss: 0.0023 - acc: 0.9994 - val_loss: 0.0200 - val_acc: 0.9940\n",
      "Epoch 8/12\n",
      "11918/11918 [==============================] - 24s - loss: 0.0012 - acc: 0.9997 - val_loss: 0.0285 - val_acc: 0.9913\n",
      "Epoch 9/12\n",
      "11918/11918 [==============================] - 24s - loss: 8.8517e-04 - acc: 0.9998 - val_loss: 0.0316 - val_acc: 0.9915\n",
      "Epoch 10/12\n",
      "11918/11918 [==============================] - 21s - loss: 4.3279e-04 - acc: 1.0000 - val_loss: 0.0241 - val_acc: 0.9938\n",
      "Epoch 11/12\n",
      "11918/11918 [==============================] - 21s - loss: 2.9332e-04 - acc: 1.0000 - val_loss: 0.0278 - val_acc: 0.9930\n",
      "Epoch 12/12\n",
      "11918/11918 [==============================] - 21s - loss: 2.0912e-04 - acc: 1.0000 - val_loss: 0.0313 - val_acc: 0.9927\n",
      "Test score: 0.0313312477754\n",
      "Test accuracy: 0.992666666667\n",
      "1 loop, best of 1: 6min 50s per loop\n"
     ]
    }
   ],
   "source": [
    "%timeit -n1 -r1 build_layers_2()"
   ]
  },
  {
   "cell_type": "code",
   "execution_count": 20,
   "metadata": {
    "collapsed": true
   },
   "outputs": [],
   "source": [
    "#1.Initial convolution layer, 2.Convolution layer, 3.Add max pooling\n",
    "def build_layers_3():\n",
    "    np.random.seed(1338)\n",
    "    \n",
    "    model = build_layer_1()\n",
    "    model = add_activation(model, 'relu')\n",
    "    \n",
    "    model = add_convolution(model)\n",
    "    model = add_activation(model, 'relu')\n",
    "    \n",
    "    model = add_max_pooling(model)\n",
    "    \n",
    "    model = add_flatten(model)\n",
    "    build_layer_final(model)"
   ]
  },
  {
   "cell_type": "code",
   "execution_count": 21,
   "metadata": {
    "collapsed": false
   },
   "outputs": [
    {
     "name": "stdout",
     "output_type": "stream",
     "text": [
      "Train on 11918 samples, validate on 6000 samples\n",
      "Epoch 1/12\n",
      "11918/11918 [==============================] - 23s - loss: 0.1303 - acc: 0.9567 - val_loss: 0.1501 - val_acc: 0.9425\n",
      "Epoch 2/12\n",
      "11918/11918 [==============================] - 24s - loss: 0.0274 - acc: 0.9914 - val_loss: 0.0455 - val_acc: 0.9828\n",
      "Epoch 3/12\n",
      "11918/11918 [==============================] - 23s - loss: 0.0155 - acc: 0.9951 - val_loss: 0.0223 - val_acc: 0.9918\n",
      "Epoch 4/12\n",
      "11918/11918 [==============================] - 23s - loss: 0.0122 - acc: 0.9958 - val_loss: 0.0294 - val_acc: 0.9880\n",
      "Epoch 5/12\n",
      "11918/11918 [==============================] - 23s - loss: 0.0095 - acc: 0.9961 - val_loss: 0.0201 - val_acc: 0.9917\n",
      "Epoch 6/12\n",
      "11918/11918 [==============================] - 23s - loss: 0.0076 - acc: 0.9978 - val_loss: 0.0159 - val_acc: 0.9952\n",
      "Epoch 7/12\n",
      "11918/11918 [==============================] - 23s - loss: 0.0050 - acc: 0.9981 - val_loss: 0.0240 - val_acc: 0.9923\n",
      "Epoch 8/12\n",
      "11918/11918 [==============================] - 23s - loss: 0.0037 - acc: 0.9989 - val_loss: 0.0197 - val_acc: 0.9937\n",
      "Epoch 9/12\n",
      "11918/11918 [==============================] - 23s - loss: 0.0033 - acc: 0.9988 - val_loss: 0.0178 - val_acc: 0.9955\n",
      "Epoch 10/12\n",
      "11918/11918 [==============================] - 24s - loss: 0.0020 - acc: 0.9996 - val_loss: 0.0265 - val_acc: 0.9917\n",
      "Epoch 11/12\n",
      "11918/11918 [==============================] - 23s - loss: 0.0015 - acc: 0.9997 - val_loss: 0.0206 - val_acc: 0.9943\n",
      "Epoch 12/12\n",
      "11918/11918 [==============================] - 23s - loss: 8.5103e-04 - acc: 0.9998 - val_loss: 0.0251 - val_acc: 0.9938\n",
      "Test score: 0.0251007298561\n",
      "Test accuracy: 0.993833333333\n",
      "1 loop, best of 1: 4min 48s per loop\n"
     ]
    }
   ],
   "source": [
    "%timeit -n1 -r1 build_layers_3()"
   ]
  },
  {
   "cell_type": "code",
   "execution_count": 22,
   "metadata": {
    "collapsed": true
   },
   "outputs": [],
   "source": [
    "#1.Initial convolution layer, 2.Convolution layer, 3.Max pooling, 4.Add dropout(0.25)\n",
    "def build_layers_4():\n",
    "    np.random.seed(1338)\n",
    "    \n",
    "    model = build_layer_1()\n",
    "    model = add_activation(model, 'relu')\n",
    "    \n",
    "    model = add_convolution(model)\n",
    "    model = add_activation(model, 'relu')\n",
    "    \n",
    "    model = add_max_pooling(model)\n",
    "    model = add_droput(model,0.25)\n",
    "    \n",
    "    model = add_flatten(model)\n",
    "    build_layer_final(model)"
   ]
  },
  {
   "cell_type": "code",
   "execution_count": 23,
   "metadata": {
    "collapsed": false
   },
   "outputs": [
    {
     "name": "stdout",
     "output_type": "stream",
     "text": [
      "Train on 11918 samples, validate on 6000 samples\n",
      "Epoch 1/12\n",
      "11918/11918 [==============================] - 26s - loss: 0.1188 - acc: 0.9585 - val_loss: 0.1940 - val_acc: 0.9210\n",
      "Epoch 2/12\n",
      "11918/11918 [==============================] - 26s - loss: 0.0333 - acc: 0.9881 - val_loss: 0.0237 - val_acc: 0.9902\n",
      "Epoch 3/12\n",
      "11918/11918 [==============================] - 26s - loss: 0.0238 - acc: 0.9905 - val_loss: 0.0146 - val_acc: 0.9950\n",
      "Epoch 4/12\n",
      "11918/11918 [==============================] - 26s - loss: 0.0178 - acc: 0.9934 - val_loss: 0.0184 - val_acc: 0.9943\n",
      "Epoch 5/12\n",
      "11918/11918 [==============================] - 26s - loss: 0.0126 - acc: 0.9951 - val_loss: 0.0412 - val_acc: 0.9838\n",
      "Epoch 6/12\n",
      "11918/11918 [==============================] - 26s - loss: 0.0115 - acc: 0.9965 - val_loss: 0.0199 - val_acc: 0.9937\n",
      "Epoch 7/12\n",
      "11918/11918 [==============================] - 26s - loss: 0.0092 - acc: 0.9965 - val_loss: 0.0165 - val_acc: 0.9948\n",
      "Epoch 8/12\n",
      "11918/11918 [==============================] - 26s - loss: 0.0095 - acc: 0.9961 - val_loss: 0.0146 - val_acc: 0.9960\n",
      "Epoch 9/12\n",
      "11918/11918 [==============================] - 26s - loss: 0.0065 - acc: 0.9980 - val_loss: 0.0269 - val_acc: 0.9918\n",
      "Epoch 10/12\n",
      "11918/11918 [==============================] - 26s - loss: 0.0082 - acc: 0.9974 - val_loss: 0.0112 - val_acc: 0.9965\n",
      "Epoch 11/12\n",
      "11918/11918 [==============================] - 26s - loss: 0.0049 - acc: 0.9986 - val_loss: 0.0229 - val_acc: 0.9928\n",
      "Epoch 12/12\n",
      "11918/11918 [==============================] - 26s - loss: 0.0047 - acc: 0.9985 - val_loss: 0.0179 - val_acc: 0.9955\n",
      "Test score: 0.0179145773511\n",
      "Test accuracy: 0.9955\n",
      "1 loop, best of 1: 5min 23s per loop\n"
     ]
    }
   ],
   "source": [
    "%timeit -n1 -r1 build_layers_4()"
   ]
  },
  {
   "cell_type": "code",
   "execution_count": 24,
   "metadata": {
    "collapsed": true
   },
   "outputs": [],
   "source": [
    "#1.Initial convolution layer, 2.Convolution layer, 3.Max pooling, 4.Dropout(0.25), 5.Add dense layer\n",
    "def build_layers_5():\n",
    "    np.random.seed(1338)\n",
    "    \n",
    "    model = build_layer_1()\n",
    "    model = add_activation(model, 'relu')\n",
    "    \n",
    "    model = add_convolution(model)\n",
    "    model = add_activation(model, 'relu')\n",
    "    \n",
    "    model = add_max_pooling(model)\n",
    "    model = add_droput(model,0.25)\n",
    "    \n",
    "    model = add_flatten(model)\n",
    "    model = add_dense(model,128)\n",
    "    model = add_activation(model, 'relu')\n",
    "    \n",
    "    build_layer_final(model)"
   ]
  },
  {
   "cell_type": "code",
   "execution_count": 25,
   "metadata": {
    "collapsed": false
   },
   "outputs": [
    {
     "name": "stdout",
     "output_type": "stream",
     "text": [
      "Train on 11918 samples, validate on 6000 samples\n",
      "Epoch 1/12\n",
      "11918/11918 [==============================] - 28s - loss: 0.1335 - acc: 0.9605 - val_loss: 0.2473 - val_acc: 0.9020\n",
      "Epoch 2/12\n",
      "11918/11918 [==============================] - 27s - loss: 0.0285 - acc: 0.9895 - val_loss: 0.2526 - val_acc: 0.9238\n",
      "Epoch 3/12\n",
      "11918/11918 [==============================] - 27s - loss: 0.0187 - acc: 0.9930 - val_loss: 0.0439 - val_acc: 0.9847\n",
      "Epoch 4/12\n",
      "11918/11918 [==============================] - 27s - loss: 0.0105 - acc: 0.9961 - val_loss: 0.0279 - val_acc: 0.9900\n",
      "Epoch 5/12\n",
      "11918/11918 [==============================] - 27s - loss: 0.0114 - acc: 0.9961 - val_loss: 0.0166 - val_acc: 0.9948\n",
      "Epoch 6/12\n",
      "11918/11918 [==============================] - 27s - loss: 0.0061 - acc: 0.9977 - val_loss: 0.0299 - val_acc: 0.9908\n",
      "Epoch 7/12\n",
      "11918/11918 [==============================] - 27s - loss: 0.0044 - acc: 0.9985 - val_loss: 0.0261 - val_acc: 0.9918\n",
      "Epoch 8/12\n",
      "11918/11918 [==============================] - 27s - loss: 0.0029 - acc: 0.9989 - val_loss: 0.0188 - val_acc: 0.9943\n",
      "Epoch 9/12\n",
      "11918/11918 [==============================] - 27s - loss: 0.0030 - acc: 0.9988 - val_loss: 0.0190 - val_acc: 0.9950\n",
      "Epoch 10/12\n",
      "11918/11918 [==============================] - 27s - loss: 0.0017 - acc: 0.9995 - val_loss: 0.0192 - val_acc: 0.9948\n",
      "Epoch 11/12\n",
      "11918/11918 [==============================] - 27s - loss: 0.0012 - acc: 0.9998 - val_loss: 0.0178 - val_acc: 0.9955\n",
      "Epoch 12/12\n",
      "11918/11918 [==============================] - 27s - loss: 0.0024 - acc: 0.9992 - val_loss: 0.0237 - val_acc: 0.9933\n",
      "Test score: 0.023739155326\n",
      "Test accuracy: 0.993333333333\n",
      "1 loop, best of 1: 5min 37s per loop\n"
     ]
    }
   ],
   "source": [
    "%timeit -n1 -r1 build_layers_5()"
   ]
  },
  {
   "cell_type": "code",
   "execution_count": 26,
   "metadata": {
    "collapsed": true
   },
   "outputs": [],
   "source": [
    "#1.Initial convolution layer, 2.Convolution layer, 3.Max pooling, 4.Dropout(0.25), 5.Dense layer, 6.Add dropout(0.5)\n",
    "def build_layers_6():\n",
    "    np.random.seed(1338)\n",
    "    \n",
    "    model = build_layer_1()\n",
    "    model = add_activation(model, 'relu')\n",
    "    \n",
    "    model = add_convolution(model)\n",
    "    model = add_activation(model, 'relu')\n",
    "    \n",
    "    model = add_max_pooling(model)\n",
    "    model = add_droput(model,0.25)\n",
    "    \n",
    "    model = add_flatten(model)\n",
    "    model = add_dense(model,128)\n",
    "    model = add_activation(model, 'relu')\n",
    "    \n",
    "    model = add_droput(model,0.5)\n",
    "    \n",
    "    build_layer_final(model)"
   ]
  },
  {
   "cell_type": "code",
   "execution_count": 27,
   "metadata": {
    "collapsed": false
   },
   "outputs": [
    {
     "name": "stdout",
     "output_type": "stream",
     "text": [
      "Train on 11918 samples, validate on 6000 samples\n",
      "Epoch 1/12\n",
      "11918/11918 [==============================] - 27s - loss: 0.1442 - acc: 0.9535 - val_loss: 0.1519 - val_acc: 0.9440\n",
      "Epoch 2/12\n",
      "11918/11918 [==============================] - 27s - loss: 0.0346 - acc: 0.9883 - val_loss: 0.0294 - val_acc: 0.9907\n",
      "Epoch 3/12\n",
      "11918/11918 [==============================] - 27s - loss: 0.0204 - acc: 0.9930 - val_loss: 0.0191 - val_acc: 0.9932\n",
      "Epoch 4/12\n",
      "11918/11918 [==============================] - 27s - loss: 0.0154 - acc: 0.9939 - val_loss: 0.0455 - val_acc: 0.9820\n",
      "Epoch 5/12\n",
      "11918/11918 [==============================] - 27s - loss: 0.0121 - acc: 0.9956 - val_loss: 0.0263 - val_acc: 0.9912\n",
      "Epoch 6/12\n",
      "11918/11918 [==============================] - 27s - loss: 0.0113 - acc: 0.9960 - val_loss: 0.0191 - val_acc: 0.9935\n",
      "Epoch 7/12\n",
      "11918/11918 [==============================] - 27s - loss: 0.0089 - acc: 0.9962 - val_loss: 0.0209 - val_acc: 0.9945\n",
      "Epoch 8/12\n",
      "11918/11918 [==============================] - 27s - loss: 0.0071 - acc: 0.9972 - val_loss: 0.0294 - val_acc: 0.9910\n",
      "Epoch 9/12\n",
      "11918/11918 [==============================] - 27s - loss: 0.0080 - acc: 0.9971 - val_loss: 0.0236 - val_acc: 0.9937\n",
      "Epoch 10/12\n",
      "11918/11918 [==============================] - 27s - loss: 0.0054 - acc: 0.9982 - val_loss: 0.0174 - val_acc: 0.9947\n",
      "Epoch 11/12\n",
      "11918/11918 [==============================] - 27s - loss: 0.0050 - acc: 0.9985 - val_loss: 0.0292 - val_acc: 0.9918\n",
      "Epoch 12/12\n",
      "11918/11918 [==============================] - 27s - loss: 0.0031 - acc: 0.9989 - val_loss: 0.0173 - val_acc: 0.9962\n",
      "Test score: 0.0173432658147\n",
      "Test accuracy: 0.996166666667\n",
      "1 loop, best of 1: 5min 36s per loop\n"
     ]
    }
   ],
   "source": [
    "%timeit -n1 -r1 build_layers_6()"
   ]
  },
  {
   "cell_type": "code",
   "execution_count": 28,
   "metadata": {
    "collapsed": false
   },
   "outputs": [],
   "source": [
    "#(Parallel(n_jobs = -1)(delayed(function)()for function in (build_layers,build_layers_2)))      "
   ]
  }
 ],
 "metadata": {
  "kernelspec": {
   "display_name": "Python 3",
   "language": "python",
   "name": "python3"
  },
  "language_info": {
   "codemirror_mode": {
    "name": "ipython",
    "version": 3
   },
   "file_extension": ".py",
   "mimetype": "text/x-python",
   "name": "python",
   "nbconvert_exporter": "python",
   "pygments_lexer": "ipython3",
   "version": "3.5.1"
  }
 },
 "nbformat": 4,
 "nbformat_minor": 0
}
