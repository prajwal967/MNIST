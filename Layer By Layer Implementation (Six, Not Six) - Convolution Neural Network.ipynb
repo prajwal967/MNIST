{
 "cells": [
  {
   "cell_type": "code",
   "execution_count": 1,
   "metadata": {},
   "outputs": [
    {
     "name": "stderr",
     "output_type": "stream",
     "text": [
      "Using TensorFlow backend.\n"
     ]
    }
   ],
   "source": [
    "import numpy as np\n",
    "from keras.datasets import mnist\n",
    "from keras.models import Sequential\n",
    "from keras.layers import Dense, Dropout, Activation, Flatten\n",
    "from keras.layers import Convolution2D, MaxPooling2D\n",
    "from keras.utils import np_utils\n",
    "from joblib import Parallel, delayed"
   ]
  },
  {
   "cell_type": "code",
   "execution_count": 2,
   "metadata": {
    "collapsed": true
   },
   "outputs": [],
   "source": [
    "#Loading the training and testing data\n",
    "(X_train, y_train), (X_test, y_test) = mnist.load_data()\n",
    "img_rows, img_cols = 28, 28\n",
    "X_train = X_train.astype('float32')\n",
    "X_test = X_test.astype('float32')\n",
    "X_train -= np.mean(X_train)\n",
    "X_train /= np.std(X_train)\n",
    "X_test -= np.mean(X_train)\n",
    "X_test /= np.std(X_train)\n",
    "X_train = X_train.reshape(X_train.shape[0], 1, img_rows, img_cols)\n",
    "X_test = X_test.reshape(X_test.shape[0], 1, img_rows, img_cols)"
   ]
  },
  {
   "cell_type": "code",
   "execution_count": 3,
   "metadata": {
    "collapsed": true
   },
   "outputs": [],
   "source": [
    "#Seed for reproducibility\n",
    "np.random.seed(1338)\n",
    "\n",
    "#Selecting 6000 random examples from the test data\n",
    "test_rows = np.random.randint(0,X_test.shape[0],6000)\n",
    "X_test = X_test[test_rows]\n",
    "Y = y_test[test_rows]\n",
    "#Converting the output to binary classification(Six=1,Not Six=0)\n",
    "Y_test = Y == 6\n",
    "Y_test = Y_test.astype(int)\n",
    "\n",
    "#Selecting the 5918 examples where the output is 6\n",
    "X_six = X_train[y_train == 6]\n",
    "Y_six = y_train[y_train == 6]\n",
    "#Selecting the examples where the output is not 6\n",
    "X_not_six = X_train[y_train != 6]\n",
    "Y_not_six = y_train[y_train != 6]\n",
    "#Selecting 6000 random examples from the data that contains only the data where the output is not 6\n",
    "random_rows = np.random.randint(0,X_not_six.shape[0],6000)\n",
    "X_not_six = X_not_six[random_rows]\n",
    "Y_not_six = Y_not_six[random_rows]"
   ]
  },
  {
   "cell_type": "code",
   "execution_count": 4,
   "metadata": {
    "collapsed": true
   },
   "outputs": [],
   "source": [
    "#Appending the data with output as 6 and data with output as not six\n",
    "X_train = np.append(X_six,X_not_six)\n",
    "#Reshaping the appended data to appropraite form\n",
    "X_train = X_train.reshape(X_six.shape[0] + X_not_six.shape[0], 1, img_rows, img_cols)\n",
    "#Appending the labels and converting the labels to binary classification(Six=1,Not Six=0)\n",
    "Y_labels = np.append(Y_six,Y_not_six)\n",
    "Y_train = Y_labels == 6 \n",
    "Y_train = Y_train.astype(int)"
   ]
  },
  {
   "cell_type": "code",
   "execution_count": 5,
   "metadata": {
    "collapsed": true
   },
   "outputs": [],
   "source": [
    "#Converting the classes to its binary categorical form\n",
    "nb_classes = 2\n",
    "Y_train = np_utils.to_categorical(Y_train, nb_classes)\n",
    "Y_test = np_utils.to_categorical(Y_test, nb_classes)"
   ]
  },
  {
   "cell_type": "code",
   "execution_count": 25,
   "metadata": {
    "collapsed": true
   },
   "outputs": [],
   "source": [
    "#Initializing the values for the convolution neural network\n",
    "nb_epoch = 12\n",
    "batch_size = 128\n",
    "# number of convolutional filters to use\n",
    "nb_filters = 32\n",
    "# size of pooling area for max pooling\n",
    "#nb_pool = 2\n",
    "nb_pool = 2\n",
    "# convolution kernel size\n",
    "nb_conv = 3\n",
    "#Activations\n",
    "activations=['relu','tanh','sigmoid']"
   ]
  },
  {
   "cell_type": "code",
   "execution_count": 7,
   "metadata": {
    "collapsed": true
   },
   "outputs": [],
   "source": [
    "#Buliding the first layer (Convolution Layer) of the network\n",
    "def build_layer_1():\n",
    "    \n",
    "    model = Sequential()\n",
    "    model.add(Convolution2D(nb_filters, (nb_conv, nb_conv),\n",
    "                        input_shape=(1, img_rows, img_cols),padding='valid',data_format='channels_first'))\n",
    "    return model"
   ]
  },
  {
   "cell_type": "code",
   "execution_count": 8,
   "metadata": {
    "collapsed": true
   },
   "outputs": [],
   "source": [
    "#Adding a convolution layer to the model(network)\n",
    "def add_convolution(model):\n",
    "    \n",
    "    model.add(Convolution2D(nb_filters, nb_conv, nb_conv)) \n",
    "    return model"
   ]
  },
  {
   "cell_type": "code",
   "execution_count": 9,
   "metadata": {
    "collapsed": true
   },
   "outputs": [],
   "source": [
    "#Adding a max pooling layer to the model(network)\n",
    "def add_max_pooling(model,nb_pool):\n",
    "    \n",
    "    model.add(MaxPooling2D(pool_size=(nb_pool, nb_pool)))\n",
    "    return model"
   ]
  },
  {
   "cell_type": "code",
   "execution_count": 10,
   "metadata": {
    "collapsed": true
   },
   "outputs": [],
   "source": [
    "#Adding dropout to the model(network)\n",
    "def add_droput(model, x):\n",
    "    \n",
    "    model.add(Dropout(x))\n",
    "    return model"
   ]
  },
  {
   "cell_type": "code",
   "execution_count": 11,
   "metadata": {
    "collapsed": true
   },
   "outputs": [],
   "source": [
    "#Adding a flattening layer to the model(network), before adding a dense layer\n",
    "def add_flatten(model):\n",
    "    \n",
    "    model.add(Flatten())\n",
    "    return model"
   ]
  },
  {
   "cell_type": "code",
   "execution_count": 12,
   "metadata": {
    "collapsed": true
   },
   "outputs": [],
   "source": [
    "#Adding a dense layer to the model(network)\n",
    "def add_dense(model,nodes):\n",
    "    \n",
    "    model.add(Dense(nodes))\n",
    "    return model"
   ]
  },
  {
   "cell_type": "code",
   "execution_count": 13,
   "metadata": {
    "collapsed": true
   },
   "outputs": [],
   "source": [
    "#Adding a activation layer to the model(network)\n",
    "def add_activation(model, activation):\n",
    "    \n",
    "    model.add(Activation(activation))\n",
    "    return model"
   ]
  },
  {
   "cell_type": "code",
   "execution_count": 14,
   "metadata": {
    "collapsed": true
   },
   "outputs": [],
   "source": [
    "#The final step in building the model, compiling and fitting the model to the data\n",
    "def build_layer_final(model):\n",
    "    \n",
    "    model.add(Dense(nb_classes))\n",
    "    model.add(Activation('softmax'))\n",
    "    \n",
    "    compile_fit_score_model(model)"
   ]
  },
  {
   "cell_type": "code",
   "execution_count": 15,
   "metadata": {
    "collapsed": true
   },
   "outputs": [],
   "source": [
    "#Compiling, fitting and scoring the model\n",
    "def compile_fit_score_model(model_final):\n",
    "    \n",
    "    model_final.compile(loss='categorical_crossentropy',\n",
    "              optimizer='adadelta',\n",
    "              metrics=['accuracy'])\n",
    "    \n",
    "    model_final.fit(X_train, Y_train, batch_size=batch_size, epochs=nb_epoch,verbose=1,\n",
    "              validation_data=(X_test, Y_test))\n",
    "    \n",
    "    score = model_final.evaluate(X_test, Y_test, verbose=0)\n",
    "    print('Test score:', score[0])\n",
    "    print('Test accuracy:', score[1])"
   ]
  },
  {
   "cell_type": "code",
   "execution_count": 16,
   "metadata": {
    "collapsed": true
   },
   "outputs": [],
   "source": [
    "#1.Initial convolution layer\n",
    "def build_layers():\n",
    "    \n",
    "    np.random.seed(1338)\n",
    "    \n",
    "    model = build_layer_1()\n",
    "    model = add_activation(model, 'relu')\n",
    "    model = add_flatten(model)\n",
    "    build_layer_final(model)"
   ]
  },
  {
   "cell_type": "code",
   "execution_count": 17,
   "metadata": {},
   "outputs": [
    {
     "name": "stdout",
     "output_type": "stream",
     "text": [
      "Train on 11918 samples, validate on 6000 samples\n",
      "Epoch 1/12\n",
      "11918/11918 [==============================] - 14s 1ms/step - loss: 0.1553 - acc: 0.9451 - val_loss: 0.1176 - val_acc: 0.9617\n",
      "Epoch 2/12\n",
      "11918/11918 [==============================] - 15s 1ms/step - loss: 0.0725 - acc: 0.9752 - val_loss: 0.0697 - val_acc: 0.9743\n",
      "Epoch 3/12\n",
      "11918/11918 [==============================] - 14s 1ms/step - loss: 0.0537 - acc: 0.9812 - val_loss: 0.0713 - val_acc: 0.9747\n",
      "Epoch 4/12\n",
      "11918/11918 [==============================] - 14s 1ms/step - loss: 0.0438 - acc: 0.9854 - val_loss: 0.0807 - val_acc: 0.9700\n",
      "Epoch 5/12\n",
      "11918/11918 [==============================] - 14s 1ms/step - loss: 0.0330 - acc: 0.9883 - val_loss: 0.0341 - val_acc: 0.9885\n",
      "Epoch 6/12\n",
      "11918/11918 [==============================] - 14s 1ms/step - loss: 0.0262 - acc: 0.9915 - val_loss: 0.0216 - val_acc: 0.9928\n",
      "Epoch 7/12\n",
      "11918/11918 [==============================] - 14s 1ms/step - loss: 0.0221 - acc: 0.9927 - val_loss: 0.0293 - val_acc: 0.9903\n",
      "Epoch 8/12\n",
      "11918/11918 [==============================] - 13s 1ms/step - loss: 0.0184 - acc: 0.9940 - val_loss: 0.0523 - val_acc: 0.9790\n",
      "Epoch 9/12\n",
      "11918/11918 [==============================] - 13s 1ms/step - loss: 0.0153 - acc: 0.9957 - val_loss: 0.0303 - val_acc: 0.9893\n",
      "Epoch 10/12\n",
      "11918/11918 [==============================] - 13s 1ms/step - loss: 0.0135 - acc: 0.9958 - val_loss: 0.0425 - val_acc: 0.9843\n",
      "Epoch 11/12\n",
      "11918/11918 [==============================] - 14s 1ms/step - loss: 0.0118 - acc: 0.9965 - val_loss: 0.0154 - val_acc: 0.9948\n",
      "Epoch 12/12\n",
      "11918/11918 [==============================] - 14s 1ms/step - loss: 0.0101 - acc: 0.9976 - val_loss: 0.0142 - val_acc: 0.9952\n",
      "Test score: 0.0142097178651\n",
      "Test accuracy: 0.995166666667\n",
      "2min 48s ± 0 ns per loop (mean ± std. dev. of 1 run, 1 loop each)\n"
     ]
    }
   ],
   "source": [
    "%timeit -n1 -r1 build_layers()"
   ]
  },
  {
   "cell_type": "code",
   "execution_count": 18,
   "metadata": {
    "collapsed": true
   },
   "outputs": [],
   "source": [
    "#1.Initial convolution layer, 2.Add convolution layer\n",
    "def build_layers_2():\n",
    "    np.random.seed(1338)\n",
    "    \n",
    "    model = build_layer_1()\n",
    "    model = add_activation(model, 'relu')\n",
    "    \n",
    "    model = add_convolution(model)\n",
    "    model = add_activation(model, 'relu')\n",
    "    model = add_flatten(model)\n",
    "    build_layer_final(model)"
   ]
  },
  {
   "cell_type": "code",
   "execution_count": 19,
   "metadata": {},
   "outputs": [
    {
     "name": "stderr",
     "output_type": "stream",
     "text": [
      "/Users/prajwal967/anaconda3/lib/python3.6/site-packages/ipykernel_launcher.py:4: UserWarning: Update your `Conv2D` call to the Keras 2 API: `Conv2D(32, (3, 3))`\n",
      "  after removing the cwd from sys.path.\n"
     ]
    },
    {
     "name": "stdout",
     "output_type": "stream",
     "text": [
      "Train on 11918 samples, validate on 6000 samples\n",
      "Epoch 1/12\n",
      "11918/11918 [==============================] - 28s 2ms/step - loss: 0.1382 - acc: 0.9498 - val_loss: 0.1262 - val_acc: 0.9570\n",
      "Epoch 2/12\n",
      "11918/11918 [==============================] - 28s 2ms/step - loss: 0.0567 - acc: 0.9794 - val_loss: 0.0611 - val_acc: 0.9777\n",
      "Epoch 3/12\n",
      "11918/11918 [==============================] - 28s 2ms/step - loss: 0.0413 - acc: 0.9862 - val_loss: 0.0381 - val_acc: 0.9862\n",
      "Epoch 4/12\n",
      "11918/11918 [==============================] - 28s 2ms/step - loss: 0.0289 - acc: 0.9907 - val_loss: 0.0227 - val_acc: 0.9917\n",
      "Epoch 5/12\n",
      "11918/11918 [==============================] - 28s 2ms/step - loss: 0.0228 - acc: 0.9932 - val_loss: 0.0280 - val_acc: 0.9888\n",
      "Epoch 6/12\n",
      "11918/11918 [==============================] - 28s 2ms/step - loss: 0.0195 - acc: 0.9934 - val_loss: 0.0159 - val_acc: 0.9943\n",
      "Epoch 7/12\n",
      "11918/11918 [==============================] - 28s 2ms/step - loss: 0.0150 - acc: 0.9956 - val_loss: 0.0202 - val_acc: 0.9935\n",
      "Epoch 8/12\n",
      "11918/11918 [==============================] - 29s 2ms/step - loss: 0.0125 - acc: 0.9961 - val_loss: 0.0390 - val_acc: 0.9850\n",
      "Epoch 9/12\n",
      "11918/11918 [==============================] - 31s 3ms/step - loss: 0.0107 - acc: 0.9972 - val_loss: 0.0162 - val_acc: 0.9937\n",
      "Epoch 10/12\n",
      "11918/11918 [==============================] - 31s 3ms/step - loss: 0.0094 - acc: 0.9971 - val_loss: 0.0311 - val_acc: 0.9890\n",
      "Epoch 11/12\n",
      "11918/11918 [==============================] - 30s 3ms/step - loss: 0.0072 - acc: 0.9979 - val_loss: 0.0106 - val_acc: 0.9965\n",
      "Epoch 12/12\n",
      "11918/11918 [==============================] - 31s 3ms/step - loss: 0.0068 - acc: 0.9978 - val_loss: 0.0136 - val_acc: 0.9942\n",
      "Test score: 0.0136292841806\n",
      "Test accuracy: 0.994166666667\n",
      "5min 54s ± 0 ns per loop (mean ± std. dev. of 1 run, 1 loop each)\n"
     ]
    }
   ],
   "source": [
    "%timeit -n1 -r1 build_layers_2()"
   ]
  },
  {
   "cell_type": "code",
   "execution_count": 23,
   "metadata": {
    "collapsed": true
   },
   "outputs": [],
   "source": [
    "#1.Initial convolution layer, 2.Convolution layer, 3.Add max pooling\n",
    "def build_layers_3():\n",
    "    np.random.seed(1338)\n",
    "    \n",
    "    model = build_layer_1()\n",
    "    model = add_activation(model, 'relu')\n",
    "    \n",
    "    model = add_convolution(model)\n",
    "    model = add_activation(model, 'relu')\n",
    "    \n",
    "    model = add_max_pooling(model, nb_pool)\n",
    "    \n",
    "    model = add_flatten(model)\n",
    "    build_layer_final(model)"
   ]
  },
  {
   "cell_type": "code",
   "execution_count": 26,
   "metadata": {},
   "outputs": [
    {
     "name": "stderr",
     "output_type": "stream",
     "text": [
      "/Users/prajwal967/anaconda3/lib/python3.6/site-packages/ipykernel_launcher.py:4: UserWarning: Update your `Conv2D` call to the Keras 2 API: `Conv2D(32, (3, 3))`\n",
      "  after removing the cwd from sys.path.\n"
     ]
    },
    {
     "name": "stdout",
     "output_type": "stream",
     "text": [
      "Train on 11918 samples, validate on 6000 samples\n",
      "Epoch 1/12\n",
      "11918/11918 [==============================] - 27s 2ms/step - loss: 0.1857 - acc: 0.9387 - val_loss: 0.1521 - val_acc: 0.9417\n",
      "Epoch 2/12\n",
      "11918/11918 [==============================] - 26s 2ms/step - loss: 0.0714 - acc: 0.9750 - val_loss: 0.0742 - val_acc: 0.9732\n",
      "Epoch 3/12\n",
      "11918/11918 [==============================] - 26s 2ms/step - loss: 0.0538 - acc: 0.9821 - val_loss: 0.0504 - val_acc: 0.9815\n",
      "Epoch 4/12\n",
      "11918/11918 [==============================] - 26s 2ms/step - loss: 0.0412 - acc: 0.9862 - val_loss: 0.0269 - val_acc: 0.9912\n",
      "Epoch 5/12\n",
      "11918/11918 [==============================] - 26s 2ms/step - loss: 0.0326 - acc: 0.9897 - val_loss: 0.0316 - val_acc: 0.9882\n",
      "Epoch 6/12\n",
      "11918/11918 [==============================] - 26s 2ms/step - loss: 0.0286 - acc: 0.9905 - val_loss: 0.0208 - val_acc: 0.9920\n",
      "Epoch 7/12\n",
      "11918/11918 [==============================] - 26s 2ms/step - loss: 0.0223 - acc: 0.9930 - val_loss: 0.0266 - val_acc: 0.9910\n",
      "Epoch 8/12\n",
      "11918/11918 [==============================] - 26s 2ms/step - loss: 0.0189 - acc: 0.9943 - val_loss: 0.0373 - val_acc: 0.9872\n",
      "Epoch 9/12\n",
      "11918/11918 [==============================] - 26s 2ms/step - loss: 0.0167 - acc: 0.9948 - val_loss: 0.0240 - val_acc: 0.9907\n",
      "Epoch 10/12\n",
      "11918/11918 [==============================] - 26s 2ms/step - loss: 0.0163 - acc: 0.9947 - val_loss: 0.0332 - val_acc: 0.9880\n",
      "Epoch 11/12\n",
      "11918/11918 [==============================] - 26s 2ms/step - loss: 0.0128 - acc: 0.9961 - val_loss: 0.0134 - val_acc: 0.9957\n",
      "Epoch 12/12\n",
      "11918/11918 [==============================] - 26s 2ms/step - loss: 0.0120 - acc: 0.9966 - val_loss: 0.0152 - val_acc: 0.9943\n",
      "Test score: 0.0152262347387\n",
      "Test accuracy: 0.994333333333\n",
      "5min 19s ± 0 ns per loop (mean ± std. dev. of 1 run, 1 loop each)\n"
     ]
    }
   ],
   "source": [
    "%timeit -n1 -r1 build_layers_3()"
   ]
  },
  {
   "cell_type": "code",
   "execution_count": 27,
   "metadata": {
    "collapsed": true
   },
   "outputs": [],
   "source": [
    "#1.Initial convolution layer, 2.Convolution layer, 3.Max pooling, 4.Add dropout(0.25)\n",
    "def build_layers_4():\n",
    "    np.random.seed(1338)\n",
    "    \n",
    "    model = build_layer_1()\n",
    "    model = add_activation(model, 'relu')\n",
    "    \n",
    "    model = add_convolution(model)\n",
    "    model = add_activation(model, 'relu')\n",
    "    \n",
    "    model = add_max_pooling(model, nb_pool)\n",
    "    model = add_droput(model,0.25)\n",
    "    \n",
    "    model = add_flatten(model)\n",
    "    build_layer_final(model)"
   ]
  },
  {
   "cell_type": "code",
   "execution_count": 28,
   "metadata": {},
   "outputs": [
    {
     "name": "stderr",
     "output_type": "stream",
     "text": [
      "/Users/prajwal967/anaconda3/lib/python3.6/site-packages/ipykernel_launcher.py:4: UserWarning: Update your `Conv2D` call to the Keras 2 API: `Conv2D(32, (3, 3))`\n",
      "  after removing the cwd from sys.path.\n"
     ]
    },
    {
     "name": "stdout",
     "output_type": "stream",
     "text": [
      "Train on 11918 samples, validate on 6000 samples\n",
      "Epoch 1/12\n",
      "11918/11918 [==============================] - 29s 2ms/step - loss: 0.1955 - acc: 0.9340 - val_loss: 0.0947 - val_acc: 0.9698\n",
      "Epoch 2/12\n",
      "11918/11918 [==============================] - 28s 2ms/step - loss: 0.0734 - acc: 0.9741 - val_loss: 0.0619 - val_acc: 0.9785\n",
      "Epoch 3/12\n",
      "11918/11918 [==============================] - 29s 2ms/step - loss: 0.0572 - acc: 0.9805 - val_loss: 0.0505 - val_acc: 0.9813\n",
      "Epoch 4/12\n",
      "11918/11918 [==============================] - 33s 3ms/step - loss: 0.0417 - acc: 0.9859 - val_loss: 0.0225 - val_acc: 0.9927\n",
      "Epoch 5/12\n",
      "11918/11918 [==============================] - 30s 2ms/step - loss: 0.0343 - acc: 0.9878 - val_loss: 0.0292 - val_acc: 0.9877\n",
      "Epoch 6/12\n",
      "11918/11918 [==============================] - 28s 2ms/step - loss: 0.0308 - acc: 0.9891 - val_loss: 0.0214 - val_acc: 0.9915\n",
      "Epoch 7/12\n",
      "11918/11918 [==============================] - 28s 2ms/step - loss: 0.0241 - acc: 0.9915 - val_loss: 0.0240 - val_acc: 0.9910\n",
      "Epoch 8/12\n",
      "11918/11918 [==============================] - 28s 2ms/step - loss: 0.0227 - acc: 0.9930 - val_loss: 0.0347 - val_acc: 0.9877\n",
      "Epoch 9/12\n",
      "11918/11918 [==============================] - 28s 2ms/step - loss: 0.0179 - acc: 0.9949 - val_loss: 0.0243 - val_acc: 0.9907\n",
      "Epoch 10/12\n",
      "11918/11918 [==============================] - 28s 2ms/step - loss: 0.0177 - acc: 0.9940 - val_loss: 0.0224 - val_acc: 0.9913\n",
      "Epoch 11/12\n",
      "11918/11918 [==============================] - 28s 2ms/step - loss: 0.0140 - acc: 0.9959 - val_loss: 0.0135 - val_acc: 0.9947\n",
      "Epoch 12/12\n",
      "11918/11918 [==============================] - 28s 2ms/step - loss: 0.0122 - acc: 0.9958 - val_loss: 0.0183 - val_acc: 0.9925\n",
      "Test score: 0.0183116004176\n",
      "Test accuracy: 0.9925\n",
      "5min 53s ± 0 ns per loop (mean ± std. dev. of 1 run, 1 loop each)\n"
     ]
    }
   ],
   "source": [
    "%timeit -n1 -r1 build_layers_4()"
   ]
  },
  {
   "cell_type": "code",
   "execution_count": 29,
   "metadata": {
    "collapsed": true
   },
   "outputs": [],
   "source": [
    "#1.Initial convolution layer, 2.Convolution layer, 3.Max pooling, 4.Dropout(0.25), 5.Add dense layer\n",
    "def build_layers_5():\n",
    "    np.random.seed(1338)\n",
    "    \n",
    "    model = build_layer_1()\n",
    "    model = add_activation(model, 'relu')\n",
    "    \n",
    "    model = add_convolution(model)\n",
    "    model = add_activation(model, 'relu')\n",
    "    \n",
    "    model = add_max_pooling(model, nb_pool)\n",
    "    model = add_droput(model,0.25)\n",
    "    \n",
    "    model = add_flatten(model)\n",
    "    model = add_dense(model,128)\n",
    "    model = add_activation(model, 'relu')\n",
    "    \n",
    "    build_layer_final(model)"
   ]
  },
  {
   "cell_type": "code",
   "execution_count": 30,
   "metadata": {},
   "outputs": [
    {
     "name": "stderr",
     "output_type": "stream",
     "text": [
      "/Users/prajwal967/anaconda3/lib/python3.6/site-packages/ipykernel_launcher.py:4: UserWarning: Update your `Conv2D` call to the Keras 2 API: `Conv2D(32, (3, 3))`\n",
      "  after removing the cwd from sys.path.\n"
     ]
    },
    {
     "name": "stdout",
     "output_type": "stream",
     "text": [
      "Train on 11918 samples, validate on 6000 samples\n",
      "Epoch 1/12\n",
      "11918/11918 [==============================] - 31s 3ms/step - loss: 0.1628 - acc: 0.9306 - val_loss: 0.0617 - val_acc: 0.9788\n",
      "Epoch 2/12\n",
      "11918/11918 [==============================] - 31s 3ms/step - loss: 0.0604 - acc: 0.9784 - val_loss: 0.0473 - val_acc: 0.9815\n",
      "Epoch 3/12\n",
      "11918/11918 [==============================] - 33s 3ms/step - loss: 0.0414 - acc: 0.9855 - val_loss: 0.0236 - val_acc: 0.9918\n",
      "Epoch 4/12\n",
      "11918/11918 [==============================] - 31s 3ms/step - loss: 0.0264 - acc: 0.9913 - val_loss: 0.0227 - val_acc: 0.9908\n",
      "Epoch 5/12\n",
      "11918/11918 [==============================] - 31s 3ms/step - loss: 0.0201 - acc: 0.9935 - val_loss: 0.0306 - val_acc: 0.9892\n",
      "Epoch 6/12\n",
      "11918/11918 [==============================] - 31s 3ms/step - loss: 0.0179 - acc: 0.9935 - val_loss: 0.0118 - val_acc: 0.9957\n",
      "Epoch 7/12\n",
      "11918/11918 [==============================] - 31s 3ms/step - loss: 0.0127 - acc: 0.9961 - val_loss: 0.0147 - val_acc: 0.9955\n",
      "Epoch 8/12\n",
      "11918/11918 [==============================] - 31s 3ms/step - loss: 0.0115 - acc: 0.9960 - val_loss: 0.0345 - val_acc: 0.9877\n",
      "Epoch 9/12\n",
      "11918/11918 [==============================] - 31s 3ms/step - loss: 0.0092 - acc: 0.9971 - val_loss: 0.0131 - val_acc: 0.9948\n",
      "Epoch 10/12\n",
      "11918/11918 [==============================] - 31s 3ms/step - loss: 0.0076 - acc: 0.9974 - val_loss: 0.0174 - val_acc: 0.9937\n",
      "Epoch 11/12\n",
      "11918/11918 [==============================] - 31s 3ms/step - loss: 0.0058 - acc: 0.9985 - val_loss: 0.0103 - val_acc: 0.9970\n",
      "Epoch 12/12\n",
      "11918/11918 [==============================] - 34s 3ms/step - loss: 0.0064 - acc: 0.9982 - val_loss: 0.0146 - val_acc: 0.9945\n",
      "Test score: 0.0145941480642\n",
      "Test accuracy: 0.9945\n",
      "6min 22s ± 0 ns per loop (mean ± std. dev. of 1 run, 1 loop each)\n"
     ]
    }
   ],
   "source": [
    "%timeit -n1 -r1 build_layers_5()"
   ]
  },
  {
   "cell_type": "code",
   "execution_count": 31,
   "metadata": {
    "collapsed": true
   },
   "outputs": [],
   "source": [
    "#1.Initial convolution layer, 2.Convolution layer, 3.Max pooling, 4.Dropout(0.25), 5.Dense layer, 6.Add dropout(0.5)\n",
    "def build_layers_6():\n",
    "    np.random.seed(1338)\n",
    "    \n",
    "    model = build_layer_1()\n",
    "    model = add_activation(model, 'relu')\n",
    "    \n",
    "    model = add_convolution(model)\n",
    "    model = add_activation(model, 'relu')\n",
    "    \n",
    "    model = add_max_pooling(model, nb_pool)\n",
    "    model = add_droput(model,0.25)\n",
    "    \n",
    "    model = add_flatten(model)\n",
    "    model = add_dense(model,128)\n",
    "    model = add_activation(model, 'relu')\n",
    "    \n",
    "    model = add_droput(model,0.5)\n",
    "    \n",
    "    build_layer_final(model)"
   ]
  },
  {
   "cell_type": "code",
   "execution_count": 32,
   "metadata": {},
   "outputs": [
    {
     "name": "stderr",
     "output_type": "stream",
     "text": [
      "/Users/prajwal967/anaconda3/lib/python3.6/site-packages/ipykernel_launcher.py:4: UserWarning: Update your `Conv2D` call to the Keras 2 API: `Conv2D(32, (3, 3))`\n",
      "  after removing the cwd from sys.path.\n"
     ]
    },
    {
     "name": "stdout",
     "output_type": "stream",
     "text": [
      "Train on 11918 samples, validate on 6000 samples\n",
      "Epoch 1/12\n",
      "11918/11918 [==============================] - 33s 3ms/step - loss: 0.1789 - acc: 0.9231 - val_loss: 0.0511 - val_acc: 0.9817\n",
      "Epoch 2/12\n",
      "11918/11918 [==============================] - 33s 3ms/step - loss: 0.0658 - acc: 0.9785 - val_loss: 0.0479 - val_acc: 0.9817\n",
      "Epoch 3/12\n",
      "11918/11918 [==============================] - 34s 3ms/step - loss: 0.0435 - acc: 0.9853 - val_loss: 0.0269 - val_acc: 0.9910\n",
      "Epoch 4/12\n",
      "11918/11918 [==============================] - 36s 3ms/step - loss: 0.0321 - acc: 0.9885 - val_loss: 0.0211 - val_acc: 0.9922\n",
      "Epoch 5/12\n",
      "11918/11918 [==============================] - 33s 3ms/step - loss: 0.0262 - acc: 0.9902 - val_loss: 0.0243 - val_acc: 0.9903\n",
      "Epoch 6/12\n",
      "11918/11918 [==============================] - 36s 3ms/step - loss: 0.0207 - acc: 0.9919 - val_loss: 0.0179 - val_acc: 0.9920\n",
      "Epoch 7/12\n",
      "11918/11918 [==============================] - 32s 3ms/step - loss: 0.0170 - acc: 0.9949 - val_loss: 0.0148 - val_acc: 0.9940\n",
      "Epoch 8/12\n",
      "11918/11918 [==============================] - 34s 3ms/step - loss: 0.0154 - acc: 0.9945 - val_loss: 0.0346 - val_acc: 0.9868\n",
      "Epoch 9/12\n",
      "11918/11918 [==============================] - 34s 3ms/step - loss: 0.0122 - acc: 0.9963 - val_loss: 0.0217 - val_acc: 0.9923\n",
      "Epoch 10/12\n",
      "11918/11918 [==============================] - 36s 3ms/step - loss: 0.0095 - acc: 0.9968 - val_loss: 0.0254 - val_acc: 0.9908\n",
      "Epoch 11/12\n",
      "11918/11918 [==============================] - 33s 3ms/step - loss: 0.0093 - acc: 0.9966 - val_loss: 0.0144 - val_acc: 0.9942\n",
      "Epoch 12/12\n",
      "11918/11918 [==============================] - 32s 3ms/step - loss: 0.0083 - acc: 0.9974 - val_loss: 0.0169 - val_acc: 0.9938\n",
      "Test score: 0.01692859797\n",
      "Test accuracy: 0.993833333333\n",
      "6min 53s ± 0 ns per loop (mean ± std. dev. of 1 run, 1 loop each)\n"
     ]
    }
   ],
   "source": [
    "%timeit -n1 -r1 build_layers_6()"
   ]
  },
  {
   "cell_type": "code",
   "execution_count": null,
   "metadata": {
    "collapsed": true
   },
   "outputs": [],
   "source": [
    "#(Parallel(n_jobs = -1)(delayed(function)()for function in (build_layers,build_layers_2)))      "
   ]
  }
 ],
 "metadata": {
  "kernelspec": {
   "display_name": "Python 3",
   "language": "python",
   "name": "python3"
  },
  "language_info": {
   "codemirror_mode": {
    "name": "ipython",
    "version": 3
   },
   "file_extension": ".py",
   "mimetype": "text/x-python",
   "name": "python",
   "nbconvert_exporter": "python",
   "pygments_lexer": "ipython3",
   "version": "3.6.3"
  }
 },
 "nbformat": 4,
 "nbformat_minor": 1
}
