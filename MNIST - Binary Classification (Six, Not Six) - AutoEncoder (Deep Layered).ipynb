{
 "cells": [
  {
   "cell_type": "code",
   "execution_count": 1,
   "metadata": {
    "collapsed": false
   },
   "outputs": [
    {
     "name": "stderr",
     "output_type": "stream",
     "text": [
      "Using Theano backend.\n"
     ]
    }
   ],
   "source": [
    "import numpy as np\n",
    "from keras.datasets import mnist\n",
    "from keras.models import Sequential, Model\n",
    "from keras.layers import Dense, Dropout, Activation, Flatten, Input, UpSampling2D\n",
    "from keras.layers import Convolution2D, MaxPooling2D\n",
    "from keras.utils import np_utils\n",
    "from joblib import Parallel, delayed\n",
    "import matplotlib.pyplot as plt\n",
    "#Seed for reproducibilty\n",
    "np.random.seed(1338)"
   ]
  },
  {
   "cell_type": "code",
   "execution_count": 2,
   "metadata": {
    "collapsed": false
   },
   "outputs": [
    {
     "name": "stdout",
     "output_type": "stream",
     "text": [
      "CPU times: user 1.38 s, sys: 108 ms, total: 1.48 s\n",
      "Wall time: 1.48 s\n"
     ]
    }
   ],
   "source": [
    "%%time\n",
    "#Loading the training and testing data\n",
    "(X_train, y_train), (X_test, y_test) = mnist.load_data()\n",
    "img_rows, img_cols = 28, 28\n",
    "X_train = X_train.reshape(X_train.shape[0], 1, img_rows, img_cols)\n",
    "X_test = X_test.reshape(X_test.shape[0], 1, img_rows, img_cols)\n",
    "X_train = X_train.astype('float32')\n",
    "X_test = X_test.astype('float32')\n",
    "X_train /= 255\n",
    "X_test /= 255"
   ]
  },
  {
   "cell_type": "code",
   "execution_count": 3,
   "metadata": {
    "collapsed": false
   },
   "outputs": [
    {
     "name": "stdout",
     "output_type": "stream",
     "text": [
      "CPU times: user 84 ms, sys: 8 ms, total: 92 ms\n",
      "Wall time: 89 ms\n"
     ]
    }
   ],
   "source": [
    "%%time\n",
    "#Selecting 6000 random examples from the test data\n",
    "test_rows = np.random.randint(0,X_test.shape[0],6000)\n",
    "X_test = X_test[test_rows]\n",
    "\n",
    "#Selecting the 5918 examples where the output is 6\n",
    "X_six = X_train[y_train == 6]\n",
    "#Selecting the examples where the output is not 6\n",
    "X_not_six = X_train[y_train != 6]\n",
    "\n",
    "#Selecting 6000 random examples from the data that contains only the data where the output is not 6\n",
    "random_rows = np.random.randint(0,X_six.shape[0],6000)\n",
    "X_not_six = X_not_six[random_rows]"
   ]
  },
  {
   "cell_type": "code",
   "execution_count": 4,
   "metadata": {
    "collapsed": false
   },
   "outputs": [
    {
     "name": "stdout",
     "output_type": "stream",
     "text": [
      "CPU times: user 12 ms, sys: 4 ms, total: 16 ms\n",
      "Wall time: 14.6 ms\n"
     ]
    }
   ],
   "source": [
    "%%time\n",
    "#Appending the data with output as 6 and data with output as not six\n",
    "X_train = np.append(X_six,X_not_six)\n",
    "#Reshaping the appended data to appropraite form\n",
    "X_train = X_train.reshape(X_six.shape[0] + X_not_six.shape[0], 1, img_rows, img_cols)"
   ]
  },
  {
   "cell_type": "code",
   "execution_count": 5,
   "metadata": {
    "collapsed": false
   },
   "outputs": [
    {
     "name": "stdout",
     "output_type": "stream",
     "text": [
      "CPU times: user 484 ms, sys: 36 ms, total: 520 ms\n",
      "Wall time: 587 ms\n"
     ]
    }
   ],
   "source": [
    "%%time\n",
    "input_img = Input(shape=(1, 28, 28))\n",
    "\n",
    "x = Convolution2D(32, 3, 3, activation='relu', border_mode='same')(input_img)\n",
    "x = Convolution2D(16, 3, 3, activation='relu', border_mode='same')(x)\n",
    "x = Convolution2D(16, 3, 3, activation='relu', border_mode='same')(x)\n",
    "encoded = Convolution2D(8, 3, 3, activation='relu', border_mode='same')(x)\n",
    "\n",
    "# at this point the representation is (8, 4, 4) i.e. 128-dimensional\n",
    "\n",
    "x = Convolution2D(8, 3, 3, activation='relu', border_mode='same')(encoded)\n",
    "x = Convolution2D(16, 3, 3, activation='relu', border_mode='same')(x)\n",
    "x = Convolution2D(16, 3, 3, activation='relu', border_mode='same')(x)\n",
    "x = Convolution2D(32, 3, 3, activation='relu',border_mode='same')(x)\n",
    "decoded = Convolution2D(1, 3, 3, activation='sigmoid', border_mode='same')(x)"
   ]
  },
  {
   "cell_type": "code",
   "execution_count": 6,
   "metadata": {
    "collapsed": false
   },
   "outputs": [
    {
     "name": "stdout",
     "output_type": "stream",
     "text": [
      "CPU times: user 32 ms, sys: 0 ns, total: 32 ms\n",
      "Wall time: 35.9 ms\n"
     ]
    }
   ],
   "source": [
    "%%time\n",
    "autoencoder = Model(input_img, decoded)\n",
    "autoencoder.compile(optimizer='adadelta', loss='binary_crossentropy')"
   ]
  },
  {
   "cell_type": "code",
   "execution_count": 7,
   "metadata": {
    "collapsed": false
   },
   "outputs": [
    {
     "name": "stdout",
     "output_type": "stream",
     "text": [
      "Train on 11918 samples, validate on 6000 samples\n",
      "Epoch 1/15\n",
      "11918/11918 [==============================] - 165s - loss: 0.1582 - val_loss: 0.0944\n",
      "Epoch 2/15\n",
      "11918/11918 [==============================] - 169s - loss: 0.0844 - val_loss: 0.0790\n",
      "Epoch 3/15\n",
      "11918/11918 [==============================] - 173s - loss: 0.0778 - val_loss: 0.0781\n",
      "Epoch 4/15\n",
      "11918/11918 [==============================] - 171s - loss: 0.0734 - val_loss: 0.0688\n",
      "Epoch 5/15\n",
      "11918/11918 [==============================] - 167s - loss: 0.0705 - val_loss: 0.0663\n",
      "Epoch 6/15\n",
      "11918/11918 [==============================] - 168s - loss: 0.0687 - val_loss: 0.0661\n",
      "Epoch 7/15\n",
      "11918/11918 [==============================] - 167s - loss: 0.0676 - val_loss: 0.0642\n",
      "Epoch 8/15\n",
      "11918/11918 [==============================] - 172s - loss: 0.0666 - val_loss: 0.0637\n",
      "Epoch 9/15\n",
      "11918/11918 [==============================] - 173s - loss: 0.0657 - val_loss: 0.0650\n",
      "Epoch 10/15\n",
      "11918/11918 [==============================] - 166s - loss: 0.0652 - val_loss: 0.0627\n",
      "Epoch 11/15\n",
      "11918/11918 [==============================] - 166s - loss: 0.0646 - val_loss: 0.0630\n",
      "Epoch 12/15\n",
      "11918/11918 [==============================] - 167s - loss: 0.0644 - val_loss: 0.0621\n",
      "Epoch 13/15\n",
      "11918/11918 [==============================] - 167s - loss: 0.0639 - val_loss: 0.0622\n",
      "Epoch 14/15\n",
      "11918/11918 [==============================] - 168s - loss: 0.0636 - val_loss: 0.0629\n",
      "Epoch 15/15\n",
      "11918/11918 [==============================] - 167s - loss: 0.0634 - val_loss: 0.0619\n",
      "CPU times: user 1h 22min 38s, sys: 1min 4s, total: 1h 23min 42s\n",
      "Wall time: 42min 19s\n"
     ]
    },
    {
     "data": {
      "text/plain": [
       "<keras.callbacks.History at 0x7f3972e05ac8>"
      ]
     },
     "execution_count": 7,
     "metadata": {},
     "output_type": "execute_result"
    }
   ],
   "source": [
    "%%time\n",
    "autoencoder.fit(X_train, X_train,\n",
    "                nb_epoch=15,\n",
    "                batch_size=128,\n",
    "                shuffle=True,\n",
    "                validation_data=(X_test, X_test))"
   ]
  },
  {
   "cell_type": "code",
   "execution_count": null,
   "metadata": {
    "collapsed": false
   },
   "outputs": [
    {
     "name": "stdout",
     "output_type": "stream",
     "text": [
      "CPU times: user 40.3 s, sys: 544 ms, total: 40.9 s\n",
      "Wall time: 20.8 s\n"
     ]
    }
   ],
   "source": [
    "%%time\n",
    "decoded_imgs = autoencoder.predict(X_test)"
   ]
  },
  {
   "cell_type": "code",
   "execution_count": null,
   "metadata": {
    "collapsed": false
   },
   "outputs": [],
   "source": [
    "%%time\n",
    "# use Matplotlib (don't ask)\n",
    "import matplotlib.pyplot as plt\n",
    "\n",
    "n = 10  # how many digits we will display\n",
    "plt.figure(figsize=(20, 4))\n",
    "for i in range(n):\n",
    "    # display original\n",
    "    ax = plt.subplot(2, n, i + 1)\n",
    "    plt.imshow(X_test[i].reshape(28, 28))\n",
    "    plt.gray()\n",
    "    ax.get_xaxis().set_visible(False)\n",
    "    ax.get_yaxis().set_visible(False)\n",
    "\n",
    "    # display reconstruction\n",
    "    ax = plt.subplot(2, n, i + 1 + n)\n",
    "    plt.imshow(decoded_imgs[i].reshape(28, 28))\n",
    "    plt.gray()\n",
    "    ax.get_xaxis().set_visible(False)\n",
    "    ax.get_yaxis().set_visible(False)\n",
    "plt.show()"
   ]
  },
  {
   "cell_type": "code",
   "execution_count": null,
   "metadata": {
    "collapsed": true
   },
   "outputs": [],
   "source": []
  },
  {
   "cell_type": "code",
   "execution_count": null,
   "metadata": {
    "collapsed": true
   },
   "outputs": [],
   "source": []
  }
 ],
 "metadata": {
  "kernelspec": {
   "display_name": "Python 3",
   "language": "python",
   "name": "python3"
  },
  "language_info": {
   "codemirror_mode": {
    "name": "ipython",
    "version": 3
   },
   "file_extension": ".py",
   "mimetype": "text/x-python",
   "name": "python",
   "nbconvert_exporter": "python",
   "pygments_lexer": "ipython3",
   "version": "3.5.1"
  }
 },
 "nbformat": 4,
 "nbformat_minor": 0
}
