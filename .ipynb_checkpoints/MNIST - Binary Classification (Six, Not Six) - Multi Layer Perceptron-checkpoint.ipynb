{
 "cells": [
  {
   "cell_type": "code",
   "execution_count": 1,
   "metadata": {},
   "outputs": [
    {
     "name": "stderr",
     "output_type": "stream",
     "text": [
      "Using TensorFlow backend.\n"
     ]
    }
   ],
   "source": [
    "import numpy as np\n",
    "from keras.datasets import mnist\n",
    "from keras.models import Sequential\n",
    "from keras.layers import Dense, Dropout, Activation, Flatten\n",
    "from keras.layers import Convolution2D, MaxPooling2D\n",
    "from keras.utils import np_utils"
   ]
  },
  {
   "cell_type": "code",
   "execution_count": 2,
   "metadata": {},
   "outputs": [],
   "source": [
    "#Loading the training and testing data\n",
    "(X_train, y_train), (X_test, y_test) = mnist.load_data()\n",
    "X_train = X_train.astype('float32')\n",
    "X_test = X_test.astype('float32')\n",
    "X_train -= np.mean(X_train)\n",
    "X_train /= np.std(X_train)\n",
    "X_test -= np.mean(X_train)\n",
    "X_test /= np.std(X_train)\n",
    "X_train = X_train.reshape(60000, 784)\n",
    "X_test = X_test.reshape(10000, 784)"
   ]
  },
  {
   "cell_type": "code",
   "execution_count": 3,
   "metadata": {
    "collapsed": true
   },
   "outputs": [],
   "source": [
    "#Seed for reproducibilty\n",
    "np.random.seed(1338)\n",
    "\n",
    "#Selecting 6000 random examples from the test data\n",
    "test_rows = np.random.randint(0,X_test.shape[0],6000)\n",
    "X_test = X_test[test_rows]\n",
    "Y = y_test[test_rows]\n",
    "#Converting the output to binary classification(Six=1,Not Six=0)\n",
    "Y_test = Y == 6\n",
    "Y_test = Y_test.astype(int)\n",
    "\n",
    "#Selecting the 5918 examples where the output is 6\n",
    "X_six = X_train[y_train == 6]\n",
    "Y_six = y_train[y_train == 6]\n",
    "#Selecting the examples where the output is not 6\n",
    "X_not_six = X_train[y_train != 6]\n",
    "Y_not_six = y_train[y_train != 6]\n",
    "\n",
    "#Selecting 6000 random examples from the data that contains only the data where the output is not 6\n",
    "random_rows = np.random.randint(0,X_not_six.shape[0],6000)\n",
    "X_not_six = X_not_six[random_rows]\n",
    "Y_not_six = Y_not_six[random_rows]"
   ]
  },
  {
   "cell_type": "code",
   "execution_count": 4,
   "metadata": {},
   "outputs": [],
   "source": [
    "#Appending the data with output as 6 and data with output as not six\n",
    "X_train = np.append(X_six,X_not_six)\n",
    "#Reshaping the appended data to appropraite form\n",
    "X_train = X_train.reshape(X_six.shape[0] + X_not_six.shape[0], 784)\n",
    "#Appending the labels and converting the labels to binary classification(Six=1,Not Six=0)\n",
    "Y_labels = np.append(Y_six,Y_not_six)\n",
    "Y_train = Y_labels == 6 \n",
    "Y_train = Y_train.astype(int)"
   ]
  },
  {
   "cell_type": "code",
   "execution_count": 5,
   "metadata": {
    "collapsed": true
   },
   "outputs": [],
   "source": [
    "#Converting the classes to its binary categorical form\n",
    "nb_classes = 2\n",
    "Y_train = np_utils.to_categorical(Y_train, nb_classes)\n",
    "Y_test = np_utils.to_categorical(Y_test, nb_classes)"
   ]
  },
  {
   "cell_type": "code",
   "execution_count": 6,
   "metadata": {
    "collapsed": true
   },
   "outputs": [],
   "source": [
    "#Initializing the values for the multi layer perceptron\n",
    "batch_size = 128\n",
    "nb_epoch = 20\n",
    "#Activation Functions\n",
    "activations = ['relu','tanh','sigmoid']"
   ]
  },
  {
   "cell_type": "code",
   "execution_count": null,
   "metadata": {
    "collapsed": true
   },
   "outputs": [],
   "source": [
    "#Function for constructing the multi layer perceptron\n",
    "def build_model(activation):\n",
    "    \n",
    "    np.random.seed(1338)\n",
    "    model = Sequential()\n",
    "    model.add(Dense(512, input_shape=(784,)))\n",
    "    model.add(Activation(activation))\n",
    "    model.add(Dropout(0.2))\n",
    "    model.add(Dense(512))\n",
    "    model.add(Activation(activation))\n",
    "    model.add(Dropout(0.2))\n",
    "    model.add(Dense(nb_classes))\n",
    "    model.add(Activation('softmax'))\n",
    "    \n",
    "    model.compile(loss='categorical_crossentropy',\n",
    "              optimizer='rmsprop',\n",
    "              metrics=['accuracy'])\n",
    "\n",
    "    model.fit(X_train, Y_train, batch_size=batch_size, nb_epoch=nb_epoch,verbose=1,\n",
    "              validation_data=(X_test, Y_test))\n",
    "          \n",
    "\n",
    "    score = model.evaluate(X_test, Y_test, verbose=0)\n",
    "    print('Test score:', score[0])\n",
    "    print('Test accuracy:', score[1])"
   ]
  },
  {
   "cell_type": "code",
   "execution_count": null,
   "metadata": {
    "scrolled": false
   },
   "outputs": [
    {
     "name": "stdout",
     "output_type": "stream",
     "text": [
      "ACTIVATION relu \n",
      "\n"
     ]
    },
    {
     "name": "stderr",
     "output_type": "stream",
     "text": [
      "/Users/prajwal967/anaconda3/lib/python3.6/site-packages/keras/models.py:874: UserWarning: The `nb_epoch` argument in `fit` has been renamed `epochs`.\n",
      "  warnings.warn('The `nb_epoch` argument in `fit` '\n"
     ]
    },
    {
     "name": "stdout",
     "output_type": "stream",
     "text": [
      "Train on 11918 samples, validate on 6000 samples\n",
      "Epoch 1/20\n",
      "11918/11918 [==============================] - 2s 132us/step - loss: 0.1594 - acc: 0.9559 - val_loss: 0.2581 - val_acc: 0.9830\n",
      "Epoch 2/20\n",
      "11918/11918 [==============================] - 1s 111us/step - loss: 0.0401 - acc: 0.9860 - val_loss: 0.0972 - val_acc: 0.9937\n",
      "Epoch 3/20\n",
      "11918/11918 [==============================] - 1s 100us/step - loss: 0.0264 - acc: 0.9917 - val_loss: 0.1673 - val_acc: 0.9895\n",
      "Epoch 4/20\n",
      "11918/11918 [==============================] - 1s 103us/step - loss: 0.0162 - acc: 0.9950 - val_loss: 0.1563 - val_acc: 0.9902\n",
      "Epoch 5/20\n",
      "11918/11918 [==============================] - 1s 109us/step - loss: 0.0146 - acc: 0.9961 - val_loss: 0.2548 - val_acc: 0.9838\n",
      "Epoch 6/20\n",
      "11918/11918 [==============================] - 1s 97us/step - loss: 0.0108 - acc: 0.9965 - val_loss: 0.4104 - val_acc: 0.9745\n",
      "Epoch 7/20\n",
      "11918/11918 [==============================] - 1s 93us/step - loss: 0.0084 - acc: 0.9975 - val_loss: 0.2445 - val_acc: 0.9848\n",
      "Epoch 8/20\n",
      "11918/11918 [==============================] - 1s 98us/step - loss: 0.0076 - acc: 0.9980 - val_loss: 0.1504 - val_acc: 0.9903\n",
      "Epoch 9/20\n",
      "11918/11918 [==============================] - 1s 99us/step - loss: 0.0054 - acc: 0.9986 - val_loss: 0.2575 - val_acc: 0.9840\n",
      "Epoch 10/20\n",
      "11918/11918 [==============================] - 1s 100us/step - loss: 0.0045 - acc: 0.9985 - val_loss: 0.2720 - val_acc: 0.9830\n",
      "Epoch 11/20\n",
      "11918/11918 [==============================] - 1s 96us/step - loss: 0.0087 - acc: 0.9977 - val_loss: 0.1504 - val_acc: 0.9907\n",
      "Epoch 12/20\n",
      "11918/11918 [==============================] - 1s 95us/step - loss: 0.0050 - acc: 0.9987 - val_loss: 0.1488 - val_acc: 0.9907\n",
      "Epoch 13/20\n",
      "11918/11918 [==============================] - 1s 103us/step - loss: 0.0020 - acc: 0.9995 - val_loss: 0.1561 - val_acc: 0.9902\n",
      "Epoch 14/20\n",
      "11918/11918 [==============================] - 1s 99us/step - loss: 0.0051 - acc: 0.9989 - val_loss: 0.1612 - val_acc: 0.9897\n",
      "Epoch 15/20\n",
      " 6656/11918 [===============>..............] - ETA: 0s - loss: 0.0040 - acc: 0.9994"
     ]
    }
   ],
   "source": [
    "for i in activations:\n",
    "    print('ACTIVATION',i,'\\n')\n",
    "    %timeit -n1 -r1 build_model(i)\n",
    "    print('\\n')"
   ]
  },
  {
   "cell_type": "code",
   "execution_count": null,
   "metadata": {},
   "outputs": [],
   "source": [
    "#%timeit -n1 -r1 build_model()"
   ]
  },
  {
   "cell_type": "code",
   "execution_count": null,
   "metadata": {
    "collapsed": true
   },
   "outputs": [],
   "source": []
  }
 ],
 "metadata": {
  "kernelspec": {
   "display_name": "Python 3",
   "language": "python",
   "name": "python3"
  },
  "language_info": {
   "codemirror_mode": {
    "name": "ipython",
    "version": 3
   },
   "file_extension": ".py",
   "mimetype": "text/x-python",
   "name": "python",
   "nbconvert_exporter": "python",
   "pygments_lexer": "ipython3",
   "version": "3.6.3"
  }
 },
 "nbformat": 4,
 "nbformat_minor": 1
}
