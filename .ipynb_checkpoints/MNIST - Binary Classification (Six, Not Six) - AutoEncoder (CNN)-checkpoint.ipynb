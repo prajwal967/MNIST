{
 "cells": [
  {
   "cell_type": "code",
   "execution_count": 1,
   "metadata": {},
   "outputs": [
    {
     "name": "stderr",
     "output_type": "stream",
     "text": [
      "Using TensorFlow backend.\n"
     ]
    }
   ],
   "source": [
    "import numpy as np\n",
    "from keras.datasets import mnist\n",
    "from keras.models import Sequential, Model\n",
    "from keras.layers import Dense, Dropout, Activation, Flatten, Input\n",
    "from keras.layers import Convolution2D, MaxPooling2D,UpSampling2D\n",
    "from keras.utils import np_utils\n",
    "from joblib import Parallel, delayed\n",
    "import matplotlib.pyplot as plt\n",
    "#Seed for reproducibilty\n",
    "np.random.seed(1338)"
   ]
  },
  {
   "cell_type": "code",
   "execution_count": 2,
   "metadata": {},
   "outputs": [
    {
     "name": "stdout",
     "output_type": "stream",
     "text": [
      "CPU times: user 470 ms, sys: 178 ms, total: 648 ms\n",
      "Wall time: 647 ms\n"
     ]
    }
   ],
   "source": [
    "%%time\n",
    "#Loading the training and testing data\n",
    "(X_train, y_train), (X_test, y_test) = mnist.load_data()\n",
    "img_rows, img_cols = 28, 28\n",
    "X_train = X_train.astype('float32')\n",
    "X_test = X_test.astype('float32')\n",
    "X_train -= np.mean(X_train)\n",
    "X_train /= np.std(X_train)\n",
    "X_test -= np.mean(X_train)\n",
    "X_test /= np.std(X_train)\n",
    "X_train = X_train.reshape(X_train.shape[0],img_rows, img_cols,1)\n",
    "X_test = X_test.reshape(X_test.shape[0],img_rows, img_cols,1)"
   ]
  },
  {
   "cell_type": "code",
   "execution_count": 3,
   "metadata": {},
   "outputs": [
    {
     "name": "stdout",
     "output_type": "stream",
     "text": [
      "CPU times: user 82.7 ms, sys: 79.3 ms, total: 162 ms\n",
      "Wall time: 160 ms\n"
     ]
    }
   ],
   "source": [
    "%%time\n",
    "#Selecting 6000 random examples from the test data\n",
    "test_rows = np.random.randint(0,X_test.shape[0],6000)\n",
    "X_test = X_test[test_rows]\n",
    "\n",
    "#Selecting the 5918 examples where the output is 6\n",
    "X_six = X_train[y_train == 6]\n",
    "#Selecting the examples where the output is not 6\n",
    "X_not_six = X_train[y_train != 6]\n",
    "\n",
    "#Selecting 6000 random examples from the data that contains only the data where the output is not 6\n",
    "random_rows = np.random.randint(0,X_six.shape[0],6000)\n",
    "X_not_six = X_not_six[random_rows]"
   ]
  },
  {
   "cell_type": "code",
   "execution_count": 4,
   "metadata": {},
   "outputs": [
    {
     "name": "stdout",
     "output_type": "stream",
     "text": [
      "CPU times: user 10.5 ms, sys: 18.7 ms, total: 29.2 ms\n",
      "Wall time: 26.2 ms\n"
     ]
    }
   ],
   "source": [
    "%%time\n",
    "#Appending the data with output as 6 and data with output as not six\n",
    "X_train = np.append(X_six,X_not_six)\n",
    "#Reshaping the appended data to appropraite form\n",
    "X_train = X_train.reshape(X_six.shape[0] + X_not_six.shape[0], img_rows, img_cols,1)"
   ]
  },
  {
   "cell_type": "code",
   "execution_count": 5,
   "metadata": {},
   "outputs": [
    {
     "name": "stdout",
     "output_type": "stream",
     "text": [
      "CPU times: user 55.7 ms, sys: 4.98 ms, total: 60.7 ms\n",
      "Wall time: 57.4 ms\n"
     ]
    }
   ],
   "source": [
    "%%time\n",
    "#Input Dimensions\n",
    "input_img = Input(shape=(28, 28, 1))\n",
    "x = Convolution2D(8, (3, 3), activation='relu', padding='same')(input_img)\n",
    "encoded = MaxPooling2D((2, 2), padding='same')(x)\n",
    "\n",
    "x = Convolution2D(8, (3, 3), activation='relu',padding='same')(encoded)\n",
    "x = UpSampling2D((2, 2))(x)\n",
    "decoded = Convolution2D(1, (3, 3), activation='sigmoid', padding='same')(x)\n",
    "\n",
    "autoencoder = Model(input_img, decoded)"
   ]
  },
  {
   "cell_type": "code",
   "execution_count": 6,
   "metadata": {},
   "outputs": [
    {
     "name": "stdout",
     "output_type": "stream",
     "text": [
      "CPU times: user 25.9 ms, sys: 3.46 ms, total: 29.4 ms\n",
      "Wall time: 26.7 ms\n"
     ]
    }
   ],
   "source": [
    "%%time\n",
    "autoencoder.compile(optimizer='adadelta', loss='binary_crossentropy')"
   ]
  },
  {
   "cell_type": "code",
   "execution_count": 7,
   "metadata": {},
   "outputs": [
    {
     "name": "stdout",
     "output_type": "stream",
     "text": [
      "Train on 11918 samples, validate on 6000 samples\n",
      "Epoch 1/15\n",
      "11918/11918 [==============================] - 6s 536us/step - loss: -3.5028 - val_loss: -7.8857\n",
      "Epoch 2/15\n",
      "11918/11918 [==============================] - 7s 597us/step - loss: -8.2121 - val_loss: -8.3260\n",
      "Epoch 3/15\n",
      "11918/11918 [==============================] - 6s 527us/step - loss: -8.4085 - val_loss: -8.4206\n",
      "Epoch 4/15\n",
      "11918/11918 [==============================] - 6s 476us/step - loss: -8.4758 - val_loss: -8.4535\n",
      "Epoch 5/15\n",
      "11918/11918 [==============================] - 6s 473us/step - loss: -8.5173 - val_loss: -8.4968\n",
      "Epoch 6/15\n",
      "11918/11918 [==============================] - 5s 437us/step - loss: -8.5459 - val_loss: -8.5220\n",
      "Epoch 7/15\n",
      "11918/11918 [==============================] - 5s 437us/step - loss: -8.5700 - val_loss: -8.5306\n",
      "Epoch 8/15\n",
      "11918/11918 [==============================] - 7s 566us/step - loss: -8.5879 - val_loss: -8.5608\n",
      "Epoch 9/15\n",
      "11918/11918 [==============================] - 6s 543us/step - loss: -8.6048 - val_loss: -8.5633\n",
      "Epoch 10/15\n",
      "11918/11918 [==============================] - 7s 616us/step - loss: -8.6181 - val_loss: -8.5778\n",
      "Epoch 11/15\n",
      "11918/11918 [==============================] - 6s 477us/step - loss: -8.6263 - val_loss: -8.5820\n",
      "Epoch 12/15\n",
      "11918/11918 [==============================] - 6s 477us/step - loss: -8.6340 - val_loss: -8.5940\n",
      "Epoch 13/15\n",
      "11918/11918 [==============================] - 5s 433us/step - loss: -8.6401 - val_loss: -8.6009\n",
      "Epoch 14/15\n",
      "11918/11918 [==============================] - 6s 465us/step - loss: -8.6460 - val_loss: -8.6030\n",
      "Epoch 15/15\n",
      "11918/11918 [==============================] - 6s 482us/step - loss: -8.6504 - val_loss: -8.6095\n",
      "CPU times: user 4min 47s, sys: 1min 49s, total: 6min 37s\n",
      "Wall time: 1min 30s\n"
     ]
    },
    {
     "data": {
      "text/plain": [
       "<keras.callbacks.History at 0x11531b978>"
      ]
     },
     "execution_count": 7,
     "metadata": {},
     "output_type": "execute_result"
    }
   ],
   "source": [
    "%%time\n",
    "autoencoder.fit(X_train, X_train,\n",
    "                epochs=15,\n",
    "                batch_size=128,\n",
    "                shuffle=True,\n",
    "                validation_data=(X_test, X_test))"
   ]
  },
  {
   "cell_type": "code",
   "execution_count": 8,
   "metadata": {},
   "outputs": [
    {
     "name": "stdout",
     "output_type": "stream",
     "text": [
      "CPU times: user 3.19 s, sys: 165 ms, total: 3.36 s\n",
      "Wall time: 1.04 s\n"
     ]
    }
   ],
   "source": [
    "%%time\n",
    "decoded_imgs = autoencoder.predict(X_test)"
   ]
  },
  {
   "cell_type": "code",
   "execution_count": 9,
   "metadata": {},
   "outputs": [
    {
     "data": {
      "image/png": "[encoded data removed]",
      "text/plain": [
       "<matplotlib.figure.Figure at 0x115726b38>"
      ]
     },
     "metadata": {},
     "output_type": "display_data"
    },
    {
     "name": "stdout",
     "output_type": "stream",
     "text": [
      "CPU times: user 721 ms, sys: 20.3 ms, total: 741 ms\n",
      "Wall time: 759 ms\n"
     ]
    }
   ],
   "source": [
    "%%time\n",
    "# use Matplotlib (don't ask)\n",
    "import matplotlib.pyplot as plt\n",
    "\n",
    "n = 10  # how many digits we will display\n",
    "plt.figure(figsize=(20, 4))\n",
    "for i in range(n):\n",
    "    # display original\n",
    "    ax = plt.subplot(2, n, i + 1)\n",
    "    plt.imshow(X_test[i].reshape(28, 28))\n",
    "    plt.gray()\n",
    "    ax.get_xaxis().set_visible(False)\n",
    "    ax.get_yaxis().set_visible(False)\n",
    "\n",
    "    # display reconstruction\n",
    "    ax = plt.subplot(2, n, i + 1 + n)\n",
    "    plt.imshow(decoded_imgs[i].reshape(28, 28))\n",
    "    plt.gray()\n",
    "    ax.get_xaxis().set_visible(False)\n",
    "    ax.get_yaxis().set_visible(False)\n",
    "plt.show()"
   ]
  },
  {
   "cell_type": "code",
   "execution_count": null,
   "metadata": {
    "collapsed": true
   },
   "outputs": [],
   "source": []
  }
 ],
 "metadata": {
  "kernelspec": {
   "display_name": "Python 3",
   "language": "python",
   "name": "python3"
  },
  "language_info": {
   "codemirror_mode": {
    "name": "ipython",
    "version": 3
   },
   "file_extension": ".py",
   "mimetype": "text/x-python",
   "name": "python",
   "nbconvert_exporter": "python",
   "pygments_lexer": "ipython3",
   "version": "3.6.3"
  }
 },
 "nbformat": 4,
 "nbformat_minor": 1
}
