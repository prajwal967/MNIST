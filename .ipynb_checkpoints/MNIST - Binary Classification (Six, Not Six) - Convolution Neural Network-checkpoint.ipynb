{
 "cells": [
  {
   "cell_type": "code",
   "execution_count": 1,
   "metadata": {},
   "outputs": [
    {
     "name": "stderr",
     "output_type": "stream",
     "text": [
      "Using TensorFlow backend.\n"
     ]
    }
   ],
   "source": [
    "import numpy as np\n",
    "from keras.datasets import mnist\n",
    "from keras.models import Sequential\n",
    "from keras.layers import Dense, Dropout, Activation, Flatten\n",
    "from keras.layers import Convolution2D, MaxPooling2D\n",
    "from keras.utils import np_utils"
   ]
  },
  {
   "cell_type": "code",
   "execution_count": 2,
   "metadata": {
    "collapsed": true
   },
   "outputs": [],
   "source": [
    "#Loading the training and testing data\n",
    "(X_train, y_train), (X_test, y_test) = mnist.load_data()\n",
    "img_rows, img_cols = 28, 28\n",
    "X_train = X_train.astype('float32')\n",
    "X_test = X_test.astype('float32')\n",
    "X_train -= np.mean(X_train)\n",
    "X_train /= np.std(X_train)\n",
    "X_test -= np.mean(X_train)\n",
    "X_test /= np.std(X_train)\n",
    "X_train = X_train.reshape(X_train.shape[0], 1, img_rows, img_cols)\n",
    "X_test = X_test.reshape(X_test.shape[0], 1, img_rows, img_cols)"
   ]
  },
  {
   "cell_type": "code",
   "execution_count": 3,
   "metadata": {},
   "outputs": [
    {
     "name": "stdout",
     "output_type": "stream",
     "text": [
      "(60000, 1, 28, 28)\n"
     ]
    }
   ],
   "source": [
    "print(X_train.shape)"
   ]
  },
  {
   "cell_type": "code",
   "execution_count": 4,
   "metadata": {
    "collapsed": true
   },
   "outputs": [],
   "source": [
    "#Seed for reproducibilty\n",
    "np.random.seed(1338)\n",
    "\n",
    "#Selecting 6000 random examples from the test data\n",
    "test_rows = np.random.randint(0,X_test.shape[0],6000)\n",
    "X_test = X_test[test_rows]\n",
    "Y = y_test[test_rows]\n",
    "#Converting the output to binary classification(Six=1,Not Six=0)\n",
    "Y_test = Y == 6\n",
    "Y_test = Y_test.astype(int)\n",
    "\n",
    "#Selecting the 5918 examples where the output is 6\n",
    "X_six = X_train[y_train == 6]\n",
    "Y_six = y_train[y_train == 6]\n",
    "#Selecting the examples where the output is not 6\n",
    "X_not_six = X_train[y_train != 6]\n",
    "Y_not_six = y_train[y_train != 6]\n",
    "\n",
    "#Selecting 6000 random examples from the data that contains only the data where the output is not 6\n",
    "random_rows = np.random.randint(0,X_not_six.shape[0],6000)\n",
    "X_not_six = X_not_six[random_rows]\n",
    "Y_not_six = Y_not_six[random_rows]"
   ]
  },
  {
   "cell_type": "code",
   "execution_count": 5,
   "metadata": {
    "collapsed": true
   },
   "outputs": [],
   "source": [
    "#Appending the data with output as 6 and data with output as not six\n",
    "X_train = np.append(X_six,X_not_six)\n",
    "#Reshaping the appended data to appropraite form\n",
    "X_train = X_train.reshape(X_six.shape[0] + X_not_six.shape[0], 1, img_rows, img_cols)\n",
    "#Appending the labels and converting the labels to binary classification(Six=1,Not Six=0)\n",
    "Y_labels = np.append(Y_six,Y_not_six)\n",
    "Y_train = Y_labels == 6 \n",
    "Y_train = Y_train.astype(int)"
   ]
  },
  {
   "cell_type": "code",
   "execution_count": 6,
   "metadata": {
    "collapsed": true
   },
   "outputs": [],
   "source": [
    "#Converting the classes to its binary categorical form\n",
    "nb_classes = 2\n",
    "Y_train = np_utils.to_categorical(Y_train, nb_classes)\n",
    "Y_test = np_utils.to_categorical(Y_test, nb_classes)"
   ]
  },
  {
   "cell_type": "code",
   "execution_count": 7,
   "metadata": {
    "collapsed": true
   },
   "outputs": [],
   "source": [
    "#Initializing the values for the convolution neural network\n",
    "nb_epoch = 12\n",
    "batch_size = 128\n",
    "# number of convolutional filters to use\n",
    "nb_filters = 32\n",
    "# size of pooling area for max pooling\n",
    "nb_pool = [2,3,4]\n",
    "#nb_pool = 2\n",
    "# convolution kernel size\n",
    "nb_conv = 3\n",
    "#Activation Functions\n",
    "activations = ['relu','tanh','sigmoid']"
   ]
  },
  {
   "cell_type": "code",
   "execution_count": 8,
   "metadata": {
    "collapsed": true
   },
   "outputs": [],
   "source": [
    "#Function for constructing the convolution neural network\n",
    "def build_model(nb_pool,activation):\n",
    "    \n",
    "    np.random.seed(1338)\n",
    "    model = Sequential()\n",
    "    model.add(Convolution2D(nb_filters, (nb_conv, nb_conv),\n",
    "                        padding='valid',\n",
    "                        input_shape=(1, img_rows, img_cols),data_format='channels_first'))\n",
    "    model.add(Activation(activation))\n",
    "    model.add(Convolution2D(nb_filters, (nb_conv, nb_conv)))\n",
    "    model.add(Activation(activation))\n",
    "    model.add(MaxPooling2D(pool_size=(nb_pool, nb_pool)))\n",
    "    model.add(Dropout(0.25))\n",
    "    \n",
    "    model.add(Flatten())\n",
    "    model.add(Dense(128))\n",
    "    model.add(Activation(activation))\n",
    "    model.add(Dropout(0.5))\n",
    "    model.add(Dense(nb_classes))\n",
    "    model.add(Activation('softmax'))\n",
    "    \n",
    "    model.compile(loss='categorical_crossentropy',\n",
    "              optimizer='adadelta',\n",
    "              metrics=['accuracy'])\n",
    "\n",
    "    model.fit(X_train, Y_train, batch_size=batch_size, nb_epoch=nb_epoch,verbose=1,\n",
    "              validation_data=(X_test, Y_test))\n",
    "          \n",
    "\n",
    "    score = model.evaluate(X_test, Y_test, verbose=0)\n",
    "    print('Test score:', score[0])\n",
    "    print('Test accuracy:', score[1])\n",
    "    \n",
    "    "
   ]
  },
  {
   "cell_type": "code",
   "execution_count": 9,
   "metadata": {
    "scrolled": false
   },
   "outputs": [
    {
     "name": "stdout",
     "output_type": "stream",
     "text": [
      "ACTIVATION relu \n",
      "\n"
     ]
    },
    {
     "name": "stderr",
     "output_type": "stream",
     "text": [
      "/Users/prajwal967/anaconda3/lib/python3.6/site-packages/keras/models.py:874: UserWarning: The `nb_epoch` argument in `fit` has been renamed `epochs`.\n",
      "  warnings.warn('The `nb_epoch` argument in `fit` '\n"
     ]
    },
    {
     "name": "stdout",
     "output_type": "stream",
     "text": [
      "Train on 11918 samples, validate on 6000 samples\n",
      "Epoch 1/12\n",
      "11918/11918 [==============================] - 50s 4ms/step - loss: 0.1790 - acc: 0.9231 - val_loss: 0.0506 - val_acc: 0.9820\n",
      "Epoch 2/12\n",
      "11918/11918 [==============================] - 47s 4ms/step - loss: 0.0658 - acc: 0.9778 - val_loss: 0.0486 - val_acc: 0.9808\n",
      "Epoch 3/12\n",
      "11918/11918 [==============================] - 48s 4ms/step - loss: 0.0436 - acc: 0.9851 - val_loss: 0.0268 - val_acc: 0.9908\n",
      "Epoch 4/12\n",
      "11918/11918 [==============================] - 47s 4ms/step - loss: 0.0330 - acc: 0.9884 - val_loss: 0.0195 - val_acc: 0.9937\n",
      "Epoch 5/12\n",
      "11918/11918 [==============================] - 47s 4ms/step - loss: 0.0263 - acc: 0.9906 - val_loss: 0.0246 - val_acc: 0.9910\n",
      "Epoch 6/12\n",
      "11918/11918 [==============================] - 48s 4ms/step - loss: 0.0212 - acc: 0.9921 - val_loss: 0.0194 - val_acc: 0.9918\n",
      "Epoch 7/12\n",
      "11918/11918 [==============================] - 47s 4ms/step - loss: 0.0170 - acc: 0.9945 - val_loss: 0.0150 - val_acc: 0.9940\n",
      "Epoch 8/12\n",
      "11918/11918 [==============================] - 47s 4ms/step - loss: 0.0158 - acc: 0.9947 - val_loss: 0.0345 - val_acc: 0.9863\n",
      "Epoch 9/12\n",
      "11918/11918 [==============================] - 47s 4ms/step - loss: 0.0123 - acc: 0.9962 - val_loss: 0.0207 - val_acc: 0.9925\n",
      "Epoch 10/12\n",
      "11918/11918 [==============================] - 47s 4ms/step - loss: 0.0097 - acc: 0.9971 - val_loss: 0.0262 - val_acc: 0.9897\n",
      "Epoch 11/12\n",
      "11918/11918 [==============================] - 47s 4ms/step - loss: 0.0095 - acc: 0.9968 - val_loss: 0.0141 - val_acc: 0.9943\n",
      "Epoch 12/12\n",
      "11918/11918 [==============================] - 48s 4ms/step - loss: 0.0083 - acc: 0.9977 - val_loss: 0.0172 - val_acc: 0.9938\n",
      "Test score: 0.0171915547651\n",
      "Test accuracy: 0.993833333333\n",
      "9min 38s ± 0 ns per loop (mean ± std. dev. of 1 run, 1 loop each)\n",
      "\n",
      "\n",
      "ACTIVATION tanh \n",
      "\n"
     ]
    },
    {
     "name": "stderr",
     "output_type": "stream",
     "text": [
      "/Users/prajwal967/anaconda3/lib/python3.6/site-packages/keras/models.py:874: UserWarning: The `nb_epoch` argument in `fit` has been renamed `epochs`.\n",
      "  warnings.warn('The `nb_epoch` argument in `fit` '\n"
     ]
    },
    {
     "name": "stdout",
     "output_type": "stream",
     "text": [
      "Train on 11918 samples, validate on 6000 samples\n",
      "Epoch 1/12\n",
      "11918/11918 [==============================] - 49s 4ms/step - loss: 0.1970 - acc: 0.9285 - val_loss: 0.0472 - val_acc: 0.9847\n",
      "Epoch 2/12\n",
      "11918/11918 [==============================] - 48s 4ms/step - loss: 0.0677 - acc: 0.9759 - val_loss: 0.0506 - val_acc: 0.9810\n",
      "Epoch 3/12\n",
      "11918/11918 [==============================] - 46s 4ms/step - loss: 0.0543 - acc: 0.9806 - val_loss: 0.0260 - val_acc: 0.9918\n",
      "Epoch 4/12\n",
      "11918/11918 [==============================] - 26s 2ms/step - loss: 0.0347 - acc: 0.9871 - val_loss: 0.0170 - val_acc: 0.9950\n",
      "Epoch 5/12\n",
      "11918/11918 [==============================] - 26s 2ms/step - loss: 0.0254 - acc: 0.9909 - val_loss: 0.0355 - val_acc: 0.9890\n",
      "Epoch 6/12\n",
      "11918/11918 [==============================] - 26s 2ms/step - loss: 0.0240 - acc: 0.9914 - val_loss: 0.0172 - val_acc: 0.9935\n",
      "Epoch 7/12\n",
      "11918/11918 [==============================] - 26s 2ms/step - loss: 0.0190 - acc: 0.9932 - val_loss: 0.0187 - val_acc: 0.9933\n",
      "Epoch 8/12\n",
      "11918/11918 [==============================] - 26s 2ms/step - loss: 0.0155 - acc: 0.9948 - val_loss: 0.0308 - val_acc: 0.9897\n",
      "Epoch 9/12\n",
      "11918/11918 [==============================] - 26s 2ms/step - loss: 0.0135 - acc: 0.9956 - val_loss: 0.0144 - val_acc: 0.9945\n",
      "Epoch 10/12\n",
      "11918/11918 [==============================] - 26s 2ms/step - loss: 0.0127 - acc: 0.9952 - val_loss: 0.0758 - val_acc: 0.9738\n",
      "Epoch 11/12\n",
      "11918/11918 [==============================] - 26s 2ms/step - loss: 0.0109 - acc: 0.9960 - val_loss: 0.0106 - val_acc: 0.9972\n",
      "Epoch 12/12\n",
      "11918/11918 [==============================] - 26s 2ms/step - loss: 0.0089 - acc: 0.9969 - val_loss: 0.0102 - val_acc: 0.9965\n",
      "Test score: 0.0101916796893\n",
      "Test accuracy: 0.9965\n",
      "6min 19s ± 0 ns per loop (mean ± std. dev. of 1 run, 1 loop each)\n",
      "\n",
      "\n",
      "ACTIVATION sigmoid \n",
      "\n"
     ]
    },
    {
     "name": "stderr",
     "output_type": "stream",
     "text": [
      "/Users/prajwal967/anaconda3/lib/python3.6/site-packages/keras/models.py:874: UserWarning: The `nb_epoch` argument in `fit` has been renamed `epochs`.\n",
      "  warnings.warn('The `nb_epoch` argument in `fit` '\n"
     ]
    },
    {
     "name": "stdout",
     "output_type": "stream",
     "text": [
      "Train on 11918 samples, validate on 6000 samples\n",
      "Epoch 1/12\n",
      "11918/11918 [==============================] - 26s 2ms/step - loss: 0.7631 - acc: 0.5096 - val_loss: 0.9973 - val_acc: 0.0990\n",
      "Epoch 2/12\n",
      "11918/11918 [==============================] - 26s 2ms/step - loss: 0.6936 - acc: 0.5196 - val_loss: 0.6370 - val_acc: 0.9010\n",
      "Epoch 3/12\n",
      "11918/11918 [==============================] - 26s 2ms/step - loss: 0.5880 - acc: 0.6595 - val_loss: 0.2298 - val_acc: 0.9253\n",
      "Epoch 4/12\n",
      "11918/11918 [==============================] - 26s 2ms/step - loss: 0.1959 - acc: 0.9267 - val_loss: 0.0715 - val_acc: 0.9742\n",
      "Epoch 5/12\n",
      "11918/11918 [==============================] - 26s 2ms/step - loss: 0.1325 - acc: 0.9504 - val_loss: 0.0529 - val_acc: 0.9817\n",
      "Epoch 6/12\n",
      "11918/11918 [==============================] - 26s 2ms/step - loss: 0.1044 - acc: 0.9597 - val_loss: 0.0565 - val_acc: 0.9780\n",
      "Epoch 7/12\n",
      "11918/11918 [==============================] - 26s 2ms/step - loss: 0.0913 - acc: 0.9656 - val_loss: 0.0429 - val_acc: 0.9857\n",
      "Epoch 8/12\n",
      "11918/11918 [==============================] - 26s 2ms/step - loss: 0.0800 - acc: 0.9709 - val_loss: 0.0799 - val_acc: 0.9688\n",
      "Epoch 9/12\n",
      "11918/11918 [==============================] - 26s 2ms/step - loss: 0.0739 - acc: 0.9731 - val_loss: 0.1058 - val_acc: 0.9587\n",
      "Epoch 10/12\n",
      "11918/11918 [==============================] - 26s 2ms/step - loss: 0.0698 - acc: 0.9737 - val_loss: 0.1375 - val_acc: 0.9473\n",
      "Epoch 11/12\n",
      "11918/11918 [==============================] - 26s 2ms/step - loss: 0.0631 - acc: 0.9770 - val_loss: 0.0419 - val_acc: 0.9837\n",
      "Epoch 12/12\n",
      "11918/11918 [==============================] - 26s 2ms/step - loss: 0.0596 - acc: 0.9781 - val_loss: 0.0375 - val_acc: 0.9863\n",
      "Test score: 0.0375337713609\n",
      "Test accuracy: 0.986333333333\n",
      "5min 15s ± 0 ns per loop (mean ± std. dev. of 1 run, 1 loop each)\n",
      "\n",
      "\n"
     ]
    }
   ],
   "source": [
    "for i in activations:\n",
    "    print('ACTIVATION',i,'\\n')\n",
    "    %timeit -n1 -r1 build_model(2,i)\n",
    "    print('\\n')"
   ]
  },
  {
   "cell_type": "code",
   "execution_count": 10,
   "metadata": {
    "scrolled": false
   },
   "outputs": [
    {
     "name": "stdout",
     "output_type": "stream",
     "text": [
      "MAX POOL 2 \n",
      "\n"
     ]
    },
    {
     "name": "stderr",
     "output_type": "stream",
     "text": [
      "/Users/prajwal967/anaconda3/lib/python3.6/site-packages/keras/models.py:874: UserWarning: The `nb_epoch` argument in `fit` has been renamed `epochs`.\n",
      "  warnings.warn('The `nb_epoch` argument in `fit` '\n"
     ]
    },
    {
     "name": "stdout",
     "output_type": "stream",
     "text": [
      "Train on 11918 samples, validate on 6000 samples\n",
      "Epoch 1/12\n",
      "11918/11918 [==============================] - 26s 2ms/step - loss: 0.1789 - acc: 0.9231 - val_loss: 0.0511 - val_acc: 0.9817\n",
      "Epoch 2/12\n",
      "11918/11918 [==============================] - 26s 2ms/step - loss: 0.0658 - acc: 0.9785 - val_loss: 0.0479 - val_acc: 0.9817\n",
      "Epoch 3/12\n",
      "11918/11918 [==============================] - 25s 2ms/step - loss: 0.0435 - acc: 0.9853 - val_loss: 0.0269 - val_acc: 0.9910\n",
      "Epoch 4/12\n",
      "11918/11918 [==============================] - 25s 2ms/step - loss: 0.0321 - acc: 0.9884 - val_loss: 0.0213 - val_acc: 0.9915\n",
      "Epoch 5/12\n",
      "11918/11918 [==============================] - 26s 2ms/step - loss: 0.0261 - acc: 0.9902 - val_loss: 0.0245 - val_acc: 0.9903\n",
      "Epoch 6/12\n",
      "11918/11918 [==============================] - 25s 2ms/step - loss: 0.0206 - acc: 0.9923 - val_loss: 0.0179 - val_acc: 0.9922\n",
      "Epoch 7/12\n",
      "11918/11918 [==============================] - 26s 2ms/step - loss: 0.0170 - acc: 0.9947 - val_loss: 0.0149 - val_acc: 0.9940\n",
      "Epoch 8/12\n",
      "11918/11918 [==============================] - 26s 2ms/step - loss: 0.0155 - acc: 0.9946 - val_loss: 0.0342 - val_acc: 0.9872\n",
      "Epoch 9/12\n",
      "11918/11918 [==============================] - 25s 2ms/step - loss: 0.0122 - acc: 0.9963 - val_loss: 0.0218 - val_acc: 0.9922\n",
      "Epoch 10/12\n",
      "11918/11918 [==============================] - 25s 2ms/step - loss: 0.0095 - acc: 0.9970 - val_loss: 0.0263 - val_acc: 0.9908\n",
      "Epoch 11/12\n",
      "11918/11918 [==============================] - 25s 2ms/step - loss: 0.0094 - acc: 0.9966 - val_loss: 0.0147 - val_acc: 0.9942\n",
      "Epoch 12/12\n",
      "11918/11918 [==============================] - 25s 2ms/step - loss: 0.0082 - acc: 0.9976 - val_loss: 0.0172 - val_acc: 0.9938\n",
      "Test score: 0.0171579823779\n",
      "Test accuracy: 0.993833333333\n",
      "5min 10s ± 0 ns per loop (mean ± std. dev. of 1 run, 1 loop each)\n",
      "\n",
      "\n",
      "MAX POOL 3 \n",
      "\n"
     ]
    },
    {
     "name": "stderr",
     "output_type": "stream",
     "text": [
      "/Users/prajwal967/anaconda3/lib/python3.6/site-packages/keras/models.py:874: UserWarning: The `nb_epoch` argument in `fit` has been renamed `epochs`.\n",
      "  warnings.warn('The `nb_epoch` argument in `fit` '\n"
     ]
    },
    {
     "name": "stdout",
     "output_type": "stream",
     "text": [
      "Train on 11918 samples, validate on 6000 samples\n",
      "Epoch 1/12\n",
      "11918/11918 [==============================] - 24s 2ms/step - loss: 0.2173 - acc: 0.9080 - val_loss: 0.0787 - val_acc: 0.9743\n",
      "Epoch 2/12\n",
      "11918/11918 [==============================] - 24s 2ms/step - loss: 0.0770 - acc: 0.9748 - val_loss: 0.0526 - val_acc: 0.9820\n",
      "Epoch 3/12\n",
      "11918/11918 [==============================] - 24s 2ms/step - loss: 0.0567 - acc: 0.9807 - val_loss: 0.0447 - val_acc: 0.9842\n",
      "Epoch 4/12\n",
      "11918/11918 [==============================] - 24s 2ms/step - loss: 0.0422 - acc: 0.9848 - val_loss: 0.0240 - val_acc: 0.9910\n",
      "Epoch 5/12\n",
      "11918/11918 [==============================] - 24s 2ms/step - loss: 0.0337 - acc: 0.9891 - val_loss: 0.0234 - val_acc: 0.9912\n",
      "Epoch 6/12\n",
      "11918/11918 [==============================] - 24s 2ms/step - loss: 0.0294 - acc: 0.9894 - val_loss: 0.0229 - val_acc: 0.9912\n",
      "Epoch 7/12\n",
      "11918/11918 [==============================] - 24s 2ms/step - loss: 0.0233 - acc: 0.9919 - val_loss: 0.0223 - val_acc: 0.9910\n",
      "Epoch 8/12\n",
      "11918/11918 [==============================] - 24s 2ms/step - loss: 0.0189 - acc: 0.9945 - val_loss: 0.0269 - val_acc: 0.9898\n",
      "Epoch 9/12\n",
      "11918/11918 [==============================] - 24s 2ms/step - loss: 0.0167 - acc: 0.9942 - val_loss: 0.0174 - val_acc: 0.9933\n",
      "Epoch 10/12\n",
      "11918/11918 [==============================] - 24s 2ms/step - loss: 0.0151 - acc: 0.9955 - val_loss: 0.0187 - val_acc: 0.9925\n",
      "Epoch 11/12\n",
      "11918/11918 [==============================] - 24s 2ms/step - loss: 0.0136 - acc: 0.9951 - val_loss: 0.0143 - val_acc: 0.9947\n",
      "Epoch 12/12\n",
      "11918/11918 [==============================] - 24s 2ms/step - loss: 0.0111 - acc: 0.9968 - val_loss: 0.0218 - val_acc: 0.9920\n",
      "Test score: 0.0217587144159\n",
      "Test accuracy: 0.992\n",
      "4min 53s ± 0 ns per loop (mean ± std. dev. of 1 run, 1 loop each)\n",
      "\n",
      "\n",
      "MAX POOL 4 \n",
      "\n"
     ]
    },
    {
     "name": "stderr",
     "output_type": "stream",
     "text": [
      "/Users/prajwal967/anaconda3/lib/python3.6/site-packages/keras/models.py:874: UserWarning: The `nb_epoch` argument in `fit` has been renamed `epochs`.\n",
      "  warnings.warn('The `nb_epoch` argument in `fit` '\n"
     ]
    },
    {
     "name": "stdout",
     "output_type": "stream",
     "text": [
      "Train on 11918 samples, validate on 6000 samples\n",
      "Epoch 1/12\n",
      "11918/11918 [==============================] - 24s 2ms/step - loss: 0.2591 - acc: 0.8899 - val_loss: 0.0705 - val_acc: 0.9800\n",
      "Epoch 2/12\n",
      "11918/11918 [==============================] - 24s 2ms/step - loss: 0.0902 - acc: 0.9695 - val_loss: 0.0454 - val_acc: 0.9847\n",
      "Epoch 3/12\n",
      "11918/11918 [==============================] - 24s 2ms/step - loss: 0.0643 - acc: 0.9781 - val_loss: 0.0612 - val_acc: 0.9763\n",
      "Epoch 4/12\n",
      "11918/11918 [==============================] - 24s 2ms/step - loss: 0.0495 - acc: 0.9833 - val_loss: 0.0348 - val_acc: 0.9867\n",
      "Epoch 5/12\n",
      "11918/11918 [==============================] - 24s 2ms/step - loss: 0.0392 - acc: 0.9869 - val_loss: 0.0244 - val_acc: 0.9908\n",
      "Epoch 6/12\n",
      "11918/11918 [==============================] - 24s 2ms/step - loss: 0.0338 - acc: 0.9867 - val_loss: 0.0207 - val_acc: 0.9922\n",
      "Epoch 7/12\n",
      "11918/11918 [==============================] - 24s 2ms/step - loss: 0.0289 - acc: 0.9903 - val_loss: 0.0279 - val_acc: 0.9890\n",
      "Epoch 8/12\n",
      "11918/11918 [==============================] - 24s 2ms/step - loss: 0.0235 - acc: 0.9929 - val_loss: 0.0306 - val_acc: 0.9893\n",
      "Epoch 9/12\n",
      "11918/11918 [==============================] - 24s 2ms/step - loss: 0.0225 - acc: 0.9928 - val_loss: 0.0184 - val_acc: 0.9937\n",
      "Epoch 10/12\n",
      "11918/11918 [==============================] - 24s 2ms/step - loss: 0.0206 - acc: 0.9934 - val_loss: 0.0201 - val_acc: 0.9930\n",
      "Epoch 11/12\n",
      "11918/11918 [==============================] - 24s 2ms/step - loss: 0.0179 - acc: 0.9943 - val_loss: 0.0148 - val_acc: 0.9945\n",
      "Epoch 12/12\n",
      "11918/11918 [==============================] - 23s 2ms/step - loss: 0.0147 - acc: 0.9952 - val_loss: 0.0183 - val_acc: 0.9933\n",
      "Test score: 0.018287888305\n",
      "Test accuracy: 0.993333333333\n",
      "4min 49s ± 0 ns per loop (mean ± std. dev. of 1 run, 1 loop each)\n",
      "\n",
      "\n"
     ]
    }
   ],
   "source": [
    "for i in nb_pool:\n",
    "    print('MAX POOL',i,'\\n')\n",
    "    %timeit -n1 -r1 build_model(i,'relu')\n",
    "    print('\\n')"
   ]
  },
  {
   "cell_type": "code",
   "execution_count": 11,
   "metadata": {
    "collapsed": true
   },
   "outputs": [],
   "source": [
    "#Timing how long it takes to build the model and test it.\n",
    "\n",
    "#%timeit -n1 -r1 build_model()"
   ]
  },
  {
   "cell_type": "code",
   "execution_count": null,
   "metadata": {
    "collapsed": true
   },
   "outputs": [],
   "source": []
  },
  {
   "cell_type": "code",
   "execution_count": null,
   "metadata": {
    "collapsed": true
   },
   "outputs": [],
   "source": []
  },
  {
   "cell_type": "code",
   "execution_count": null,
   "metadata": {
    "collapsed": true
   },
   "outputs": [],
   "source": []
  }
 ],
 "metadata": {
  "kernelspec": {
   "display_name": "Python 3",
   "language": "python",
   "name": "python3"
  },
  "language_info": {
   "codemirror_mode": {
    "name": "ipython",
    "version": 3
   },
   "file_extension": ".py",
   "mimetype": "text/x-python",
   "name": "python",
   "nbconvert_exporter": "python",
   "pygments_lexer": "ipython3",
   "version": "3.6.3"
  }
 },
 "nbformat": 4,
 "nbformat_minor": 1
}
