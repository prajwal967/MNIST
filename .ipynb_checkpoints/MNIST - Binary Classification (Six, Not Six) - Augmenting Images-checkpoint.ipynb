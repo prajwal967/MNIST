{
 "cells": [
  {
   "cell_type": "code",
   "execution_count": 1,
   "metadata": {},
   "outputs": [
    {
     "name": "stderr",
     "output_type": "stream",
     "text": [
      "Using TensorFlow backend.\n"
     ]
    }
   ],
   "source": [
    "import numpy as np\n",
    "from keras.datasets import mnist\n",
    "from keras.models import Sequential\n",
    "from keras.layers import Dense, Dropout, Activation, Flatten\n",
    "from keras.layers import Convolution2D, MaxPooling2D\n",
    "from keras.utils import np_utils\n",
    "from joblib import Parallel, delayed\n",
    "import scipy\n",
    "import pandas as pd\n",
    "from numpy import array\n",
    "from PIL import Image\n",
    "import matplotlib.pyplot as plt\n",
    "import scipy.misc\n",
    "np.random.seed(1)"
   ]
  },
  {
   "cell_type": "code",
   "execution_count": 2,
   "metadata": {},
   "outputs": [
    {
     "name": "stdout",
     "output_type": "stream",
     "text": [
      "(60000, 28, 28)\n",
      "(60000, 784)\n"
     ]
    }
   ],
   "source": [
    "#Loading the training and testing data\n",
    "(X_train, y_train), (X_test, y_test) = mnist.load_data()\n",
    "print(X_train.shape)\n",
    "\n",
    "#Reshaping from(,28,28) to (,784) for training using MLP\n",
    "X_train = X_train.astype('float32')\n",
    "X_test = X_test.astype('float32')\n",
    "X_train -= np.mean(X_train)\n",
    "X_train /= np.std(X_train)\n",
    "X_test -= np.mean(X_train)\n",
    "X_test /= np.std(X_train)\n",
    "X_train = X_train.reshape(60000, 784)\n",
    "X_test = X_test.reshape(10000, 784)\n",
    "\n",
    "print(X_train.shape)"
   ]
  },
  {
   "cell_type": "code",
   "execution_count": 3,
   "metadata": {
    "collapsed": true
   },
   "outputs": [],
   "source": [
    "#Selecting 6000 random examples from the test data\n",
    "test_rows = np.random.randint(0,X_test.shape[0],6000)\n",
    "X_test = X_test[test_rows]\n",
    "Y = y_test[test_rows]\n",
    "#Converting the output to binary classification(Six=1,Not Six=0)\n",
    "Y_test = Y == 6\n",
    "Y_test = Y_test.astype(int)\n",
    "\n",
    "#Selecting the examples where the output is 6\n",
    "X_six = X_train[y_train == 6]\n",
    "Y_six = y_train[y_train == 6]\n",
    "#Selecting the examples where the output is not 6\n",
    "X_not_six = X_train[y_train != 6]\n",
    "Y_not_six = y_train[y_train != 6]\n",
    "\n",
    "#Selecting 1000 random examples each from the data(Six and Not Six)\n",
    "random_rows = np.random.randint(0,X_six.shape[0],1000)\n",
    "X_six = X_six[random_rows]\n",
    "Y_six = Y_six[random_rows]\n",
    "random_rows = np.random.randint(0,X_not_six.shape[0],1000)\n",
    "X_not_six = X_not_six[random_rows]\n",
    "Y_not_six = Y_not_six[random_rows]"
   ]
  },
  {
   "cell_type": "code",
   "execution_count": 4,
   "metadata": {
    "collapsed": true
   },
   "outputs": [],
   "source": [
    "#Appending the data with output as 6 and data with output as not six\n",
    "X_train = np.append(X_six,X_not_six)\n",
    "#Reshaping the appended data to appropraite form - (,784)\n",
    "X_train = X_train.reshape(X_six.shape[0] + X_not_six.shape[0], 784)\n",
    "#Appending the labels and converting the labels to binary classification(Six=1,Not Six=0)\n",
    "Y_labels = np.append(Y_six,Y_not_six)\n",
    "Y_train = Y_labels == 6 \n",
    "Y_train = Y_train.astype(int)"
   ]
  },
  {
   "cell_type": "code",
   "execution_count": 5,
   "metadata": {
    "collapsed": true
   },
   "outputs": [],
   "source": [
    "#Converting the classes to its binary categorical form\n",
    "nb_classes = 2\n",
    "Y_train = np_utils.to_categorical(Y_train, nb_classes)\n",
    "Y_test = np_utils.to_categorical(Y_test, nb_classes)"
   ]
  },
  {
   "cell_type": "code",
   "execution_count": 6,
   "metadata": {},
   "outputs": [
    {
     "name": "stderr",
     "output_type": "stream",
     "text": [
      "/Users/prajwal967/anaconda3/lib/python3.6/site-packages/ipykernel_launcher.py:5: DeprecationWarning: `imrotate` is deprecated!\n",
      "`imrotate` is deprecated in SciPy 1.0.0, and will be removed in 1.2.0.\n",
      "Use ``skimage.transform.rotate`` instead.\n",
      "  \"\"\"\n",
      "/Users/prajwal967/anaconda3/lib/python3.6/site-packages/ipykernel_launcher.py:9: DeprecationWarning: `imrotate` is deprecated!\n",
      "`imrotate` is deprecated in SciPy 1.0.0, and will be removed in 1.2.0.\n",
      "Use ``skimage.transform.rotate`` instead.\n",
      "  if __name__ == '__main__':\n"
     ]
    }
   ],
   "source": [
    "#Reshaping to (28,28) and (1,28,28) is done because we are rotating images, so we cant use the (,784) dimension\n",
    "#array, we need to use the original image dimension array which is (28,28)\n",
    "\n",
    "#Initializing the array which will contain images rotated by 15 degrees anti clockwise\n",
    "anti_X_train = scipy.misc.imrotate(X_train[0].reshape(28,28), angle = 15)\n",
    "anti_X_train = anti_X_train.reshape(1, 28,28)\n",
    "\n",
    "#Initializing the array which will contain images rotated by 15 degrees clockwise\n",
    "clock_X_train = scipy.misc.imrotate(X_train[0].reshape(28,28), angle = -15)\n",
    "clock_X_train = clock_X_train.reshape(1, 28,28)"
   ]
  },
  {
   "cell_type": "code",
   "execution_count": 7,
   "metadata": {},
   "outputs": [
    {
     "name": "stderr",
     "output_type": "stream",
     "text": [
      "/Users/prajwal967/anaconda3/lib/python3.6/site-packages/ipykernel_launcher.py:5: DeprecationWarning: `imrotate` is deprecated!\n",
      "`imrotate` is deprecated in SciPy 1.0.0, and will be removed in 1.2.0.\n",
      "Use ``skimage.transform.rotate`` instead.\n",
      "  \"\"\"\n",
      "/Users/prajwal967/anaconda3/lib/python3.6/site-packages/ipykernel_launcher.py:8: DeprecationWarning: `imrotate` is deprecated!\n",
      "`imrotate` is deprecated in SciPy 1.0.0, and will be removed in 1.2.0.\n",
      "Use ``skimage.transform.rotate`` instead.\n",
      "  \n"
     ]
    }
   ],
   "source": [
    "#Performing clockwise and anticlockwise rotation for the rest of the images. Again reshaping needs to be done \n",
    "#below for the same reason as described above\n",
    "for i in range(1,2000):\n",
    "    \n",
    "    rotate_anti = scipy.misc.imrotate(X_train[i].reshape(28,28), angle = 15)\n",
    "    rotate_anti = rotate_anti.reshape(1, 28,28)\n",
    "    \n",
    "    rotate_clock = scipy.misc.imrotate(X_train[i].reshape(28,28), angle = -15)\n",
    "    rotate_clock = rotate_clock.reshape(1, 28,28)\n",
    "    \n",
    "    #Appending the rotated images to the resoective arrays\n",
    "    anti_X_train = np.append(anti_X_train,rotate_anti,axis=0)\n",
    "    clock_X_train = np.append(clock_X_train,rotate_clock,axis=0)"
   ]
  },
  {
   "cell_type": "code",
   "execution_count": 8,
   "metadata": {
    "collapsed": true
   },
   "outputs": [],
   "source": [
    "#Displaying the original and rotated images\n",
    "def image_compare(original,clockwise,anticlockwise):\n",
    "    \n",
    "    original = original.reshape(28,28)\n",
    "    \n",
    "    plt.figure(figsize=(20, 6))\n",
    "    ax = plt.subplot(1, 3, 1)\n",
    "    plt.imshow(original)\n",
    "    plt.xlabel('ORIGINAL')\n",
    "    plt.gray()\n",
    "    ax = plt.subplot(1, 3, 2)\n",
    "    plt.imshow(clockwise)\n",
    "    plt.xlabel('ROTATED CLOCKWISE')\n",
    "    plt.gray()\n",
    "    ax = plt.subplot(1, 3, 3)\n",
    "    plt.imshow(anticlockwise)\n",
    "    plt.xlabel('ROTATED ANTI-CLOCKWISE')\n",
    "    plt.gray()\n",
    "    plt.show()"
   ]
  },
  {
   "cell_type": "code",
   "execution_count": 9,
   "metadata": {},
   "outputs": [
    {
     "data": {
      "image/png": "[encoded data removed]",
      "text/plain": [
       "<matplotlib.figure.Figure at 0x181813cd30>"
      ]
     },
     "metadata": {},
     "output_type": "display_data"
    }
   ],
   "source": [
    "image_compare(X_train[0],clock_X_train[0],anti_X_train[0])"
   ]
  },
  {
   "cell_type": "code",
   "execution_count": 10,
   "metadata": {},
   "outputs": [
    {
     "data": {
      "image/png": "[encoded data removed]",
      "text/plain": [
       "<matplotlib.figure.Figure at 0x181864cb70>"
      ]
     },
     "metadata": {},
     "output_type": "display_data"
    }
   ],
   "source": [
    "image_compare(X_train[1500],clock_X_train[1500],anti_X_train[1500])"
   ]
  },
  {
   "cell_type": "code",
   "execution_count": 11,
   "metadata": {
    "collapsed": true
   },
   "outputs": [],
   "source": [
    "#Reshaping the rotated arrays which have dimensions(,28,28) back to (,784) to train the arrays using MLP\n",
    "anti_X_train = anti_X_train.reshape(anti_X_train.shape[0], 784)\n",
    "clock_X_train = clock_X_train.reshape(clock_X_train.shape[0], 784)\n",
    "\n",
    "\n",
    "anti_X_train = anti_X_train.astype('float32')#(**)\n",
    "clock_X_train = clock_X_train.astype('float32')#(**)\n",
    "anti_X_train /= 255#(**)\n",
    "clock_X_train /= 255#(**)"
   ]
  },
  {
   "cell_type": "code",
   "execution_count": 12,
   "metadata": {
    "collapsed": true
   },
   "outputs": [],
   "source": [
    "#Appening the arrays to get the final rotated training array\n",
    "rotated_X_train = np.append(X_train, anti_X_train, axis = 0)\n",
    "rotated_Y_train = np.append(Y_train, Y_train, axis = 0)\n",
    "\n",
    "#The array that includes the original arrays as well as the 15 degree rotated arrays(2000 original, 2000 15 degree\n",
    "#clockwise rotated, 2000 15 degree anticlockwise rotated)\n",
    "rotated_X_train = np.append(rotated_X_train, clock_X_train, axis = 0)\n",
    "rotated_Y_train = np.append(rotated_Y_train, Y_train,axis = 0)"
   ]
  },
  {
   "cell_type": "code",
   "execution_count": 13,
   "metadata": {
    "collapsed": true
   },
   "outputs": [],
   "source": [
    "#Function for constructing the multi layer perceptron\n",
    "# 1 Hidden Layer\n",
    "def build_layer_1(nb_epoch,X_train,Y_train):\n",
    "    \n",
    "    model = Sequential()\n",
    "    model.add(Dense(512, input_shape=(784,)))\n",
    "    model.add(Activation('relu'))\n",
    "    model.add(Dropout(0.2))\n",
    "    model.add(Dense(nb_classes))\n",
    "    model.add(Activation('softmax'))\n",
    "    \n",
    "    model.compile(loss='categorical_crossentropy',\n",
    "              optimizer='rmsprop',\n",
    "              metrics=['accuracy'])\n",
    "\n",
    "    model.fit(X_train, Y_train, batch_size=128, nb_epoch=nb_epoch,verbose=1,\n",
    "              validation_data=(X_test, Y_test))\n",
    "          \n",
    "\n",
    "    score = model.evaluate(X_test, Y_test, verbose=0)\n",
    "    print('Test score:', score[0])\n",
    "    print('Test accuracy:', score[1])"
   ]
  },
  {
   "cell_type": "code",
   "execution_count": 14,
   "metadata": {},
   "outputs": [
    {
     "name": "stdout",
     "output_type": "stream",
     "text": [
      "Train on 2000 samples, validate on 6000 samples\n",
      "Epoch 1/1\n",
      "\r",
      " 128/2000 [>.............................] - ETA: 0s - loss: 0.7185 - acc: 0.6328"
     ]
    },
    {
     "name": "stderr",
     "output_type": "stream",
     "text": [
      "/Users/prajwal967/anaconda3/lib/python3.6/site-packages/keras/models.py:874: UserWarning: The `nb_epoch` argument in `fit` has been renamed `epochs`.\n",
      "  warnings.warn('The `nb_epoch` argument in `fit` '\n"
     ]
    },
    {
     "name": "stdout",
     "output_type": "stream",
     "text": [
      "2000/2000 [==============================] - 0s 148us/step - loss: 0.4799 - acc: 0.8835 - val_loss: 0.0731 - val_acc: 0.9737\n",
      "Test score: 0.0731047841869\n",
      "Test accuracy: 0.973666666667\n",
      "CPU times: user 1.8 s, sys: 129 ms, total: 1.93 s\n",
      "Wall time: 680 ms\n"
     ]
    }
   ],
   "source": [
    "%%time\n",
    "\n",
    "build_layer_1(1,X_train,Y_train)"
   ]
  },
  {
   "cell_type": "code",
   "execution_count": 15,
   "metadata": {},
   "outputs": [
    {
     "name": "stderr",
     "output_type": "stream",
     "text": [
      "/Users/prajwal967/anaconda3/lib/python3.6/site-packages/keras/models.py:874: UserWarning: The `nb_epoch` argument in `fit` has been renamed `epochs`.\n",
      "  warnings.warn('The `nb_epoch` argument in `fit` '\n"
     ]
    },
    {
     "name": "stdout",
     "output_type": "stream",
     "text": [
      "Train on 6000 samples, validate on 6000 samples\n",
      "Epoch 1/1\n",
      "6000/6000 [==============================] - 1s 85us/step - loss: 0.2276 - acc: 0.9285 - val_loss: 0.0525 - val_acc: 0.9848\n",
      "Test score: 0.0524675939796\n",
      "Test accuracy: 0.984833333333\n",
      "CPU times: user 2.63 s, sys: 142 ms, total: 2.77 s\n",
      "Wall time: 953 ms\n"
     ]
    }
   ],
   "source": [
    "%%time\n",
    "\n",
    "build_layer_1(1,rotated_X_train,rotated_Y_train)"
   ]
  },
  {
   "cell_type": "code",
   "execution_count": 16,
   "metadata": {},
   "outputs": [
    {
     "name": "stdout",
     "output_type": "stream",
     "text": [
      "Train on 2000 samples, validate on 6000 samples\n",
      "Epoch 1/5\n"
     ]
    },
    {
     "name": "stderr",
     "output_type": "stream",
     "text": [
      "/Users/prajwal967/anaconda3/lib/python3.6/site-packages/keras/models.py:874: UserWarning: The `nb_epoch` argument in `fit` has been renamed `epochs`.\n",
      "  warnings.warn('The `nb_epoch` argument in `fit` '\n"
     ]
    },
    {
     "name": "stdout",
     "output_type": "stream",
     "text": [
      "2000/2000 [==============================] - 0s 237us/step - loss: 0.5968 - acc: 0.8825 - val_loss: 0.0477 - val_acc: 0.9850\n",
      "Epoch 2/5\n",
      "2000/2000 [==============================] - 0s 186us/step - loss: 0.0954 - acc: 0.9650 - val_loss: 0.0479 - val_acc: 0.9850\n",
      "Epoch 3/5\n",
      "2000/2000 [==============================] - 0s 236us/step - loss: 0.0580 - acc: 0.9795 - val_loss: 0.0550 - val_acc: 0.9812\n",
      "Epoch 4/5\n",
      "2000/2000 [==============================] - 0s 175us/step - loss: 0.1024 - acc: 0.9680 - val_loss: 0.0431 - val_acc: 0.9827\n",
      "Epoch 5/5\n",
      "2000/2000 [==============================] - 0s 131us/step - loss: 0.0172 - acc: 0.9935 - val_loss: 0.0886 - val_acc: 0.9708\n",
      "Test score: 0.0886092962222\n",
      "Test accuracy: 0.970833333333\n",
      "CPU times: user 7.3 s, sys: 508 ms, total: 7.81 s\n",
      "Wall time: 2.51 s\n"
     ]
    }
   ],
   "source": [
    "%%time\n",
    "\n",
    "build_layer_1(5,X_train,Y_train)"
   ]
  },
  {
   "cell_type": "code",
   "execution_count": 17,
   "metadata": {},
   "outputs": [
    {
     "name": "stdout",
     "output_type": "stream",
     "text": [
      "Train on 6000 samples, validate on 6000 samples"
     ]
    },
    {
     "name": "stderr",
     "output_type": "stream",
     "text": [
      "/Users/prajwal967/anaconda3/lib/python3.6/site-packages/keras/models.py:874: UserWarning: The `nb_epoch` argument in `fit` has been renamed `epochs`.\n",
      "  warnings.warn('The `nb_epoch` argument in `fit` '\n"
     ]
    },
    {
     "name": "stdout",
     "output_type": "stream",
     "text": [
      "\n",
      "Epoch 1/5\n",
      "6000/6000 [==============================] - 1s 103us/step - loss: 0.2028 - acc: 0.9322 - val_loss: 0.0997 - val_acc: 0.9705\n",
      "Epoch 2/5\n",
      "6000/6000 [==============================] - 0s 83us/step - loss: 0.0879 - acc: 0.9727 - val_loss: 0.0364 - val_acc: 0.9878\n",
      "Epoch 3/5\n",
      "6000/6000 [==============================] - 1s 128us/step - loss: 0.0620 - acc: 0.9790 - val_loss: 0.0590 - val_acc: 0.9832\n",
      "Epoch 4/5\n",
      "6000/6000 [==============================] - 1s 108us/step - loss: 0.0467 - acc: 0.9845 - val_loss: 0.0311 - val_acc: 0.9903\n",
      "Epoch 5/5\n",
      "6000/6000 [==============================] - 1s 124us/step - loss: 0.0325 - acc: 0.9903 - val_loss: 0.0654 - val_acc: 0.9847\n",
      "Test score: 0.0653694951598\n",
      "Test accuracy: 0.984666666667\n"
     ]
    }
   ],
   "source": [
    "build_layer_1(5,rotated_X_train,rotated_Y_train)"
   ]
  },
  {
   "cell_type": "code",
   "execution_count": 18,
   "metadata": {},
   "outputs": [
    {
     "name": "stderr",
     "output_type": "stream",
     "text": [
      "/Users/prajwal967/anaconda3/lib/python3.6/site-packages/keras/models.py:874: UserWarning: The `nb_epoch` argument in `fit` has been renamed `epochs`.\n",
      "  warnings.warn('The `nb_epoch` argument in `fit` '\n"
     ]
    },
    {
     "name": "stdout",
     "output_type": "stream",
     "text": [
      "Train on 2000 samples, validate on 6000 samples\n",
      "Epoch 1/10\n",
      "2000/2000 [==============================] - 0s 186us/step - loss: 0.4013 - acc: 0.8785 - val_loss: 0.0817 - val_acc: 0.9713\n",
      "Epoch 2/10\n",
      "2000/2000 [==============================] - 0s 112us/step - loss: 0.0741 - acc: 0.9745 - val_loss: 0.0744 - val_acc: 0.9723\n",
      "Epoch 3/10\n",
      "2000/2000 [==============================] - 0s 114us/step - loss: 0.0817 - acc: 0.9735 - val_loss: 0.0754 - val_acc: 0.9747\n",
      "Epoch 4/10\n",
      "2000/2000 [==============================] - 0s 113us/step - loss: 0.0326 - acc: 0.9895 - val_loss: 0.0387 - val_acc: 0.9880\n",
      "Epoch 5/10\n",
      "2000/2000 [==============================] - 0s 144us/step - loss: 0.0516 - acc: 0.9790 - val_loss: 0.0965 - val_acc: 0.9690\n",
      "Epoch 6/10\n",
      "2000/2000 [==============================] - 0s 191us/step - loss: 0.0229 - acc: 0.9920 - val_loss: 0.0498 - val_acc: 0.9818\n",
      "Epoch 7/10\n",
      "2000/2000 [==============================] - 0s 151us/step - loss: 0.0084 - acc: 0.9985 - val_loss: 0.1393 - val_acc: 0.9573\n",
      "Epoch 8/10\n",
      "2000/2000 [==============================] - 0s 120us/step - loss: 0.0321 - acc: 0.9880 - val_loss: 0.0562 - val_acc: 0.9825\n",
      "Epoch 9/10\n",
      "2000/2000 [==============================] - 0s 122us/step - loss: 0.0106 - acc: 0.9950 - val_loss: 0.0555 - val_acc: 0.9833\n",
      "Epoch 10/10\n",
      "2000/2000 [==============================] - 0s 123us/step - loss: 0.0019 - acc: 1.0000 - val_loss: 0.0666 - val_acc: 0.9802\n",
      "Test score: 0.0666088786335\n",
      "Test accuracy: 0.980166666667\n",
      "CPU times: user 10.5 s, sys: 593 ms, total: 11.1 s\n",
      "Wall time: 3.41 s\n"
     ]
    }
   ],
   "source": [
    "%%time\n",
    "\n",
    "build_layer_1(10,X_train,Y_train)"
   ]
  },
  {
   "cell_type": "code",
   "execution_count": 19,
   "metadata": {},
   "outputs": [
    {
     "name": "stderr",
     "output_type": "stream",
     "text": [
      "/Users/prajwal967/anaconda3/lib/python3.6/site-packages/keras/models.py:874: UserWarning: The `nb_epoch` argument in `fit` has been renamed `epochs`.\n",
      "  warnings.warn('The `nb_epoch` argument in `fit` '\n"
     ]
    },
    {
     "name": "stdout",
     "output_type": "stream",
     "text": [
      "Train on 6000 samples, validate on 6000 samples\n",
      "Epoch 1/10\n",
      "6000/6000 [==============================] - 1s 198us/step - loss: 0.2195 - acc: 0.9248 - val_loss: 0.0459 - val_acc: 0.9863\n",
      "Epoch 2/10\n",
      "6000/6000 [==============================] - 1s 90us/step - loss: 0.0840 - acc: 0.9732 - val_loss: 0.0886 - val_acc: 0.9747\n",
      "Epoch 3/10\n",
      "6000/6000 [==============================] - 1s 92us/step - loss: 0.0609 - acc: 0.9788 - val_loss: 0.0758 - val_acc: 0.9785\n",
      "Epoch 4/10\n",
      "6000/6000 [==============================] - 1s 85us/step - loss: 0.0450 - acc: 0.9847 - val_loss: 0.1334 - val_acc: 0.9692\n",
      "Epoch 5/10\n",
      "6000/6000 [==============================] - 1s 86us/step - loss: 0.0325 - acc: 0.9892 - val_loss: 0.0395 - val_acc: 0.9908\n",
      "Epoch 6/10\n",
      "6000/6000 [==============================] - 1s 87us/step - loss: 0.0250 - acc: 0.9920 - val_loss: 0.0667 - val_acc: 0.9867\n",
      "Epoch 7/10\n",
      "6000/6000 [==============================] - 0s 83us/step - loss: 0.0183 - acc: 0.9942 - val_loss: 0.0726 - val_acc: 0.9862\n",
      "Epoch 8/10\n",
      "6000/6000 [==============================] - 0s 78us/step - loss: 0.0136 - acc: 0.9957 - val_loss: 0.0666 - val_acc: 0.9868\n",
      "Epoch 9/10\n",
      "6000/6000 [==============================] - 0s 77us/step - loss: 0.0131 - acc: 0.9953 - val_loss: 0.0837 - val_acc: 0.9858\n",
      "Epoch 10/10\n",
      "6000/6000 [==============================] - 0s 77us/step - loss: 0.0094 - acc: 0.9973 - val_loss: 0.1113 - val_acc: 0.9845\n",
      "Test score: 0.111268735559\n",
      "Test accuracy: 0.9845\n",
      "CPU times: user 19.5 s, sys: 1.23 s, total: 20.7 s\n",
      "Wall time: 6.29 s\n"
     ]
    }
   ],
   "source": [
    "%%time\n",
    "\n",
    "build_layer_1(10,rotated_X_train,rotated_Y_train)"
   ]
  },
  {
   "cell_type": "code",
   "execution_count": 20,
   "metadata": {},
   "outputs": [
    {
     "name": "stdout",
     "output_type": "stream",
     "text": [
      "Train on 2000 samples, validate on 6000 samples"
     ]
    },
    {
     "name": "stderr",
     "output_type": "stream",
     "text": [
      "/Users/prajwal967/anaconda3/lib/python3.6/site-packages/keras/models.py:874: UserWarning: The `nb_epoch` argument in `fit` has been renamed `epochs`.\n",
      "  warnings.warn('The `nb_epoch` argument in `fit` '\n"
     ]
    },
    {
     "name": "stdout",
     "output_type": "stream",
     "text": [
      "\n",
      "Epoch 1/30\n",
      "2000/2000 [==============================] - 0s 218us/step - loss: 0.4257 - acc: 0.8820 - val_loss: 0.1416 - val_acc: 0.9533\n",
      "Epoch 2/30\n",
      "2000/2000 [==============================] - 0s 119us/step - loss: 0.0773 - acc: 0.9755 - val_loss: 0.0839 - val_acc: 0.9697\n",
      "Epoch 3/30\n",
      "2000/2000 [==============================] - 0s 119us/step - loss: 0.0624 - acc: 0.9795 - val_loss: 0.1060 - val_acc: 0.9662\n",
      "Epoch 4/30\n",
      "2000/2000 [==============================] - 0s 119us/step - loss: 0.0501 - acc: 0.9795 - val_loss: 0.0318 - val_acc: 0.9887\n",
      "Epoch 5/30\n",
      "2000/2000 [==============================] - 0s 119us/step - loss: 0.0405 - acc: 0.9835 - val_loss: 0.0888 - val_acc: 0.9697\n",
      "Epoch 6/30\n",
      "2000/2000 [==============================] - 0s 117us/step - loss: 0.0160 - acc: 0.9950 - val_loss: 0.0363 - val_acc: 0.9893\n",
      "Epoch 7/30\n",
      "2000/2000 [==============================] - 0s 117us/step - loss: 0.0349 - acc: 0.9870 - val_loss: 0.0373 - val_acc: 0.9865\n",
      "Epoch 8/30\n",
      "2000/2000 [==============================] - 0s 124us/step - loss: 0.0047 - acc: 0.9990 - val_loss: 0.0535 - val_acc: 0.9835\n",
      "Epoch 9/30\n",
      "2000/2000 [==============================] - 0s 122us/step - loss: 0.0394 - acc: 0.9850 - val_loss: 0.0565 - val_acc: 0.9838\n",
      "Epoch 10/30\n",
      "2000/2000 [==============================] - 0s 122us/step - loss: 0.0023 - acc: 1.0000 - val_loss: 0.0523 - val_acc: 0.9847\n",
      "Epoch 11/30\n",
      "2000/2000 [==============================] - 0s 122us/step - loss: 0.0017 - acc: 1.0000 - val_loss: 0.0422 - val_acc: 0.9863\n",
      "Epoch 12/30\n",
      "2000/2000 [==============================] - 0s 120us/step - loss: 0.0412 - acc: 0.9895 - val_loss: 0.0497 - val_acc: 0.9855\n",
      "Epoch 13/30\n",
      "2000/2000 [==============================] - 0s 119us/step - loss: 9.8379e-04 - acc: 1.0000 - val_loss: 0.0528 - val_acc: 0.9855\n",
      "Epoch 14/30\n",
      "2000/2000 [==============================] - 0s 114us/step - loss: 8.6039e-04 - acc: 1.0000 - val_loss: 0.0783 - val_acc: 0.9803\n",
      "Epoch 15/30\n",
      "2000/2000 [==============================] - 0s 120us/step - loss: 0.0015 - acc: 1.0000 - val_loss: 0.0488 - val_acc: 0.9858\n",
      "Epoch 16/30\n",
      "2000/2000 [==============================] - 0s 118us/step - loss: 0.0134 - acc: 0.9970 - val_loss: 0.0624 - val_acc: 0.9847\n",
      "Epoch 17/30\n",
      "2000/2000 [==============================] - 0s 125us/step - loss: 0.0011 - acc: 0.9995 - val_loss: 0.0648 - val_acc: 0.9828\n",
      "Epoch 18/30\n",
      "2000/2000 [==============================] - 0s 120us/step - loss: 3.8213e-04 - acc: 1.0000 - val_loss: 0.0645 - val_acc: 0.9845\n",
      "Epoch 19/30\n",
      "2000/2000 [==============================] - 0s 119us/step - loss: 2.4976e-04 - acc: 1.0000 - val_loss: 0.0649 - val_acc: 0.9840\n",
      "Epoch 20/30\n",
      "2000/2000 [==============================] - 0s 118us/step - loss: 2.7031e-04 - acc: 1.0000 - val_loss: 0.0570 - val_acc: 0.9862\n",
      "Epoch 21/30\n",
      "2000/2000 [==============================] - 0s 117us/step - loss: 0.0084 - acc: 0.9965 - val_loss: 0.0432 - val_acc: 0.9893\n",
      "Epoch 22/30\n",
      "2000/2000 [==============================] - 0s 119us/step - loss: 6.6913e-04 - acc: 1.0000 - val_loss: 0.0807 - val_acc: 0.9830\n",
      "Epoch 23/30\n",
      "2000/2000 [==============================] - 0s 120us/step - loss: 7.7246e-05 - acc: 1.0000 - val_loss: 0.0736 - val_acc: 0.9847\n",
      "Epoch 24/30\n",
      "2000/2000 [==============================] - 0s 117us/step - loss: 5.6589e-04 - acc: 1.0000 - val_loss: 0.0787 - val_acc: 0.9845\n",
      "Epoch 25/30\n",
      "2000/2000 [==============================] - 0s 117us/step - loss: 9.3392e-05 - acc: 1.0000 - val_loss: 0.0781 - val_acc: 0.9842\n",
      "Epoch 26/30\n",
      "2000/2000 [==============================] - 0s 123us/step - loss: 2.7616e-05 - acc: 1.0000 - val_loss: 0.0823 - val_acc: 0.9843\n",
      "Epoch 27/30\n",
      "2000/2000 [==============================] - 0s 119us/step - loss: 0.0145 - acc: 0.9950 - val_loss: 0.0999 - val_acc: 0.9838\n",
      "Epoch 28/30\n",
      "2000/2000 [==============================] - 0s 118us/step - loss: 5.6332e-05 - acc: 1.0000 - val_loss: 0.0924 - val_acc: 0.9838\n",
      "Epoch 29/30\n",
      "2000/2000 [==============================] - 0s 117us/step - loss: 5.2184e-05 - acc: 1.0000 - val_loss: 0.0932 - val_acc: 0.9838\n",
      "Epoch 30/30\n",
      "2000/2000 [==============================] - 0s 123us/step - loss: 2.0786e-05 - acc: 1.0000 - val_loss: 0.0850 - val_acc: 0.9847\n",
      "Test score: 0.0850140756318\n",
      "Test accuracy: 0.984666666667\n",
      "CPU times: user 27.2 s, sys: 1.38 s, total: 28.5 s\n",
      "Wall time: 7.8 s\n"
     ]
    }
   ],
   "source": [
    "%%time\n",
    "\n",
    "build_layer_1(30,X_train,Y_train)"
   ]
  },
  {
   "cell_type": "code",
   "execution_count": 21,
   "metadata": {},
   "outputs": [
    {
     "name": "stdout",
     "output_type": "stream",
     "text": [
      "Train on 6000 samples, validate on 6000 samples"
     ]
    },
    {
     "name": "stderr",
     "output_type": "stream",
     "text": [
      "/Users/prajwal967/anaconda3/lib/python3.6/site-packages/keras/models.py:874: UserWarning: The `nb_epoch` argument in `fit` has been renamed `epochs`.\n",
      "  warnings.warn('The `nb_epoch` argument in `fit` '\n"
     ]
    },
    {
     "name": "stdout",
     "output_type": "stream",
     "text": [
      "\n",
      "Epoch 1/30\n",
      "6000/6000 [==============================] - 1s 112us/step - loss: 0.2476 - acc: 0.9262 - val_loss: 0.0420 - val_acc: 0.9860\n",
      "Epoch 2/30\n",
      "6000/6000 [==============================] - 0s 72us/step - loss: 0.0981 - acc: 0.9680 - val_loss: 0.0410 - val_acc: 0.9867\n",
      "Epoch 3/30\n",
      "6000/6000 [==============================] - 0s 73us/step - loss: 0.0629 - acc: 0.9793 - val_loss: 0.0309 - val_acc: 0.9903\n",
      "Epoch 4/30\n",
      "6000/6000 [==============================] - 0s 76us/step - loss: 0.0420 - acc: 0.9863 - val_loss: 0.0301 - val_acc: 0.9910\n",
      "Epoch 5/30\n",
      "6000/6000 [==============================] - 1s 89us/step - loss: 0.0359 - acc: 0.9867 - val_loss: 0.0823 - val_acc: 0.9800\n",
      "Epoch 6/30\n",
      "6000/6000 [==============================] - 1s 87us/step - loss: 0.0285 - acc: 0.9893 - val_loss: 0.0431 - val_acc: 0.9912\n",
      "Epoch 7/30\n",
      "6000/6000 [==============================] - 1s 90us/step - loss: 0.0200 - acc: 0.9930 - val_loss: 0.0470 - val_acc: 0.9902\n",
      "Epoch 8/30\n",
      "6000/6000 [==============================] - 0s 77us/step - loss: 0.0156 - acc: 0.9957 - val_loss: 0.0838 - val_acc: 0.9860\n",
      "Epoch 9/30\n",
      "6000/6000 [==============================] - 0s 75us/step - loss: 0.0136 - acc: 0.9955 - val_loss: 0.0604 - val_acc: 0.9887\n",
      "Epoch 10/30\n",
      "6000/6000 [==============================] - 0s 79us/step - loss: 0.0070 - acc: 0.9982 - val_loss: 0.0702 - val_acc: 0.9887\n",
      "Epoch 11/30\n",
      "6000/6000 [==============================] - 0s 81us/step - loss: 0.0082 - acc: 0.9975 - val_loss: 0.0668 - val_acc: 0.9885\n",
      "Epoch 12/30\n",
      "6000/6000 [==============================] - 0s 77us/step - loss: 0.0055 - acc: 0.9982 - val_loss: 0.0378 - val_acc: 0.9910\n",
      "Epoch 13/30\n",
      "6000/6000 [==============================] - 0s 74us/step - loss: 0.0056 - acc: 0.9983 - val_loss: 0.0829 - val_acc: 0.9872\n",
      "Epoch 14/30\n",
      "6000/6000 [==============================] - 0s 74us/step - loss: 0.0029 - acc: 0.9998 - val_loss: 0.1117 - val_acc: 0.9847\n",
      "Epoch 15/30\n",
      "6000/6000 [==============================] - 0s 72us/step - loss: 0.0039 - acc: 0.9988 - val_loss: 0.0752 - val_acc: 0.9898\n",
      "Epoch 16/30\n",
      "6000/6000 [==============================] - 0s 77us/step - loss: 0.0017 - acc: 0.9998 - val_loss: 0.0779 - val_acc: 0.9885\n",
      "Epoch 17/30\n",
      "6000/6000 [==============================] - 0s 82us/step - loss: 0.0025 - acc: 0.9997 - val_loss: 0.0795 - val_acc: 0.9893\n",
      "Epoch 18/30\n",
      "6000/6000 [==============================] - 0s 79us/step - loss: 0.0031 - acc: 0.9993 - val_loss: 0.0600 - val_acc: 0.9918\n",
      "Epoch 19/30\n",
      "6000/6000 [==============================] - 0s 75us/step - loss: 7.9926e-04 - acc: 1.0000 - val_loss: 0.0924 - val_acc: 0.9892\n",
      "Epoch 20/30\n",
      "6000/6000 [==============================] - 0s 80us/step - loss: 0.0027 - acc: 0.9993 - val_loss: 0.1372 - val_acc: 0.9833\n",
      "Epoch 21/30\n",
      "6000/6000 [==============================] - 0s 77us/step - loss: 0.0047 - acc: 0.9992 - val_loss: 0.0875 - val_acc: 0.9905\n",
      "Epoch 22/30\n",
      "6000/6000 [==============================] - 0s 76us/step - loss: 0.0013 - acc: 0.9998 - val_loss: 0.1157 - val_acc: 0.9865\n",
      "Epoch 23/30\n",
      "6000/6000 [==============================] - 0s 79us/step - loss: 0.0011 - acc: 0.9997 - val_loss: 0.0900 - val_acc: 0.9895\n",
      "Epoch 24/30\n",
      "6000/6000 [==============================] - 0s 74us/step - loss: 0.0016 - acc: 0.9997 - val_loss: 0.1619 - val_acc: 0.9800\n",
      "Epoch 25/30\n",
      "6000/6000 [==============================] - 0s 77us/step - loss: 2.0648e-04 - acc: 1.0000 - val_loss: 0.0949 - val_acc: 0.9905\n",
      "Epoch 26/30\n",
      "6000/6000 [==============================] - 0s 75us/step - loss: 3.2379e-04 - acc: 1.0000 - val_loss: 0.1220 - val_acc: 0.9863\n",
      "Epoch 27/30\n",
      "6000/6000 [==============================] - 0s 75us/step - loss: 2.0823e-04 - acc: 1.0000 - val_loss: 0.1007 - val_acc: 0.9883\n",
      "Epoch 28/30\n",
      "6000/6000 [==============================] - 0s 78us/step - loss: 8.4282e-04 - acc: 0.9998 - val_loss: 0.0901 - val_acc: 0.9903\n",
      "Epoch 29/30\n",
      "6000/6000 [==============================] - 0s 74us/step - loss: 9.8774e-04 - acc: 0.9997 - val_loss: 0.1636 - val_acc: 0.9837\n",
      "Epoch 30/30\n",
      "6000/6000 [==============================] - 0s 74us/step - loss: 3.4519e-04 - acc: 0.9998 - val_loss: 0.0867 - val_acc: 0.9903\n",
      "Test score: 0.0867010157954\n",
      "Test accuracy: 0.990333333333\n",
      "CPU times: user 49.9 s, sys: 2.71 s, total: 52.6 s\n",
      "Wall time: 14.6 s\n"
     ]
    }
   ],
   "source": [
    "%%time\n",
    "\n",
    "build_layer_1(30,rotated_X_train,rotated_Y_train)"
   ]
  },
  {
   "cell_type": "code",
   "execution_count": 22,
   "metadata": {
    "collapsed": true
   },
   "outputs": [],
   "source": [
    "#Function for constructing the multi layer perceptron\n",
    "# 2 Hidden Layers\n",
    "def build_layer_2(nb_epoch,X_train,Y_train):\n",
    "    \n",
    "    model = Sequential()\n",
    "    model.add(Dense(512, input_shape=(784,)))\n",
    "    model.add(Activation('relu'))\n",
    "    model.add(Dropout(0.2))\n",
    "    model.add(Dense(512))\n",
    "    model.add(Activation('relu'))\n",
    "    model.add(Dropout(0.2))\n",
    "    model.add(Dense(nb_classes))\n",
    "    model.add(Activation('softmax'))\n",
    "    \n",
    "    model.compile(loss='categorical_crossentropy',\n",
    "              optimizer='rmsprop',\n",
    "              metrics=['accuracy'])\n",
    "\n",
    "    model.fit(X_train, Y_train, batch_size=128, nb_epoch=nb_epoch,verbose=1,\n",
    "              validation_data=(X_test, Y_test))\n",
    "          \n",
    "\n",
    "    score = model.evaluate(X_test, Y_test, verbose=0)\n",
    "    print('Test score:', score[0])\n",
    "    print('Test accuracy:', score[1])"
   ]
  },
  {
   "cell_type": "code",
   "execution_count": 23,
   "metadata": {},
   "outputs": [
    {
     "name": "stderr",
     "output_type": "stream",
     "text": [
      "/Users/prajwal967/anaconda3/lib/python3.6/site-packages/keras/models.py:874: UserWarning: The `nb_epoch` argument in `fit` has been renamed `epochs`.\n",
      "  warnings.warn('The `nb_epoch` argument in `fit` '\n"
     ]
    },
    {
     "name": "stdout",
     "output_type": "stream",
     "text": [
      "Train on 2000 samples, validate on 6000 samples\n",
      "Epoch 1/1\n",
      "2000/2000 [==============================] - 1s 302us/step - loss: 0.7307 - acc: 0.8725 - val_loss: 0.1038 - val_acc: 0.9643\n",
      "Test score: 0.10378973338\n",
      "Test accuracy: 0.964333333333\n",
      "CPU times: user 3 s, sys: 171 ms, total: 3.17 s\n",
      "Wall time: 1.21 s\n"
     ]
    }
   ],
   "source": [
    "%%time\n",
    "\n",
    "build_layer_2(1,X_train,Y_train)"
   ]
  },
  {
   "cell_type": "code",
   "execution_count": 24,
   "metadata": {},
   "outputs": [
    {
     "name": "stderr",
     "output_type": "stream",
     "text": [
      "/Users/prajwal967/anaconda3/lib/python3.6/site-packages/keras/models.py:874: UserWarning: The `nb_epoch` argument in `fit` has been renamed `epochs`.\n",
      "  warnings.warn('The `nb_epoch` argument in `fit` '\n"
     ]
    },
    {
     "name": "stdout",
     "output_type": "stream",
     "text": [
      "Train on 6000 samples, validate on 6000 samples\n",
      "Epoch 1/1\n",
      "6000/6000 [==============================] - 1s 177us/step - loss: 0.2496 - acc: 0.9217 - val_loss: 0.2768 - val_acc: 0.9185\n",
      "Test score: 0.27684322523\n",
      "Test accuracy: 0.9185\n",
      "CPU times: user 4.55 s, sys: 305 ms, total: 4.85 s\n",
      "Wall time: 1.6 s\n"
     ]
    }
   ],
   "source": [
    "%%time\n",
    "\n",
    "build_layer_2(1,rotated_X_train,rotated_Y_train)"
   ]
  },
  {
   "cell_type": "code",
   "execution_count": 25,
   "metadata": {},
   "outputs": [
    {
     "name": "stderr",
     "output_type": "stream",
     "text": [
      "/Users/prajwal967/anaconda3/lib/python3.6/site-packages/keras/models.py:874: UserWarning: The `nb_epoch` argument in `fit` has been renamed `epochs`.\n",
      "  warnings.warn('The `nb_epoch` argument in `fit` '\n"
     ]
    },
    {
     "name": "stdout",
     "output_type": "stream",
     "text": [
      "Train on 2000 samples, validate on 6000 samples\n",
      "Epoch 1/5\n",
      "2000/2000 [==============================] - ETA: 0s - loss: 0.6008 - acc: 0.876 - 1s 339us/step - loss: 0.5488 - acc: 0.8860 - val_loss: 0.0722 - val_acc: 0.9772\n",
      "Epoch 2/5\n",
      "2000/2000 [==============================] - 0s 180us/step - loss: 0.1174 - acc: 0.9555 - val_loss: 0.0433 - val_acc: 0.9855\n",
      "Epoch 3/5\n",
      "2000/2000 [==============================] - 0s 187us/step - loss: 0.0595 - acc: 0.9740 - val_loss: 0.0461 - val_acc: 0.9825\n",
      "Epoch 4/5\n",
      "2000/2000 [==============================] - 0s 183us/step - loss: 0.0657 - acc: 0.9745 - val_loss: 0.0833 - val_acc: 0.9738\n",
      "Epoch 5/5\n",
      "2000/2000 [==============================] - 0s 180us/step - loss: 0.0187 - acc: 0.9915 - val_loss: 0.0406 - val_acc: 0.9877\n",
      "Test score: 0.0406126657825\n",
      "Test accuracy: 0.987666666667\n",
      "CPU times: user 8.31 s, sys: 487 ms, total: 8.8 s\n",
      "Wall time: 2.68 s\n"
     ]
    }
   ],
   "source": [
    "%%time\n",
    "\n",
    "build_layer_2(5,X_train,Y_train)"
   ]
  },
  {
   "cell_type": "code",
   "execution_count": 26,
   "metadata": {},
   "outputs": [
    {
     "name": "stderr",
     "output_type": "stream",
     "text": [
      "/Users/prajwal967/anaconda3/lib/python3.6/site-packages/keras/models.py:874: UserWarning: The `nb_epoch` argument in `fit` has been renamed `epochs`.\n",
      "  warnings.warn('The `nb_epoch` argument in `fit` '\n"
     ]
    },
    {
     "name": "stdout",
     "output_type": "stream",
     "text": [
      "Train on 6000 samples, validate on 6000 samples\n",
      "Epoch 1/5\n",
      "6000/6000 [==============================] - 1s 184us/step - loss: 0.2634 - acc: 0.9177 - val_loss: 0.0607 - val_acc: 0.9798\n",
      "Epoch 2/5\n",
      "6000/6000 [==============================] - 1s 128us/step - loss: 0.0796 - acc: 0.9703 - val_loss: 0.0669 - val_acc: 0.9785\n",
      "Epoch 3/5\n",
      "6000/6000 [==============================] - 1s 127us/step - loss: 0.0602 - acc: 0.9802 - val_loss: 0.0528 - val_acc: 0.9835\n",
      "Epoch 4/5\n",
      "6000/6000 [==============================] - 1s 132us/step - loss: 0.0379 - acc: 0.9867 - val_loss: 0.0589 - val_acc: 0.9865\n",
      "Epoch 5/5\n",
      "6000/6000 [==============================] - 1s 129us/step - loss: 0.0260 - acc: 0.9903 - val_loss: 0.0349 - val_acc: 0.9915\n",
      "Test score: 0.0348663751341\n",
      "Test accuracy: 0.9915\n",
      "CPU times: user 15.3 s, sys: 1.02 s, total: 16.4 s\n",
      "Wall time: 4.84 s\n"
     ]
    }
   ],
   "source": [
    "%%time\n",
    "\n",
    "build_layer_2(5,rotated_X_train,rotated_Y_train)"
   ]
  },
  {
   "cell_type": "code",
   "execution_count": 27,
   "metadata": {},
   "outputs": [
    {
     "name": "stderr",
     "output_type": "stream",
     "text": [
      "/Users/prajwal967/anaconda3/lib/python3.6/site-packages/keras/models.py:874: UserWarning: The `nb_epoch` argument in `fit` has been renamed `epochs`.\n",
      "  warnings.warn('The `nb_epoch` argument in `fit` '\n"
     ]
    },
    {
     "name": "stdout",
     "output_type": "stream",
     "text": [
      "Train on 2000 samples, validate on 6000 samples\n",
      "Epoch 1/10\n",
      "2000/2000 [==============================] - 1s 372us/step - loss: 0.9378 - acc: 0.8455 - val_loss: 0.0680 - val_acc: 0.9757\n",
      "Epoch 2/10\n",
      "2000/2000 [==============================] - 0s 178us/step - loss: 0.0638 - acc: 0.9780 - val_loss: 0.2560 - val_acc: 0.9057\n",
      "Epoch 3/10\n",
      "2000/2000 [==============================] - 0s 185us/step - loss: 0.0849 - acc: 0.9710 - val_loss: 0.0904 - val_acc: 0.9672\n",
      "Epoch 4/10\n",
      "2000/2000 [==============================] - 0s 190us/step - loss: 0.0317 - acc: 0.9890 - val_loss: 0.2110 - val_acc: 0.9317\n",
      "Epoch 5/10\n",
      "2000/2000 [==============================] - 0s 187us/step - loss: 0.0778 - acc: 0.9775 - val_loss: 0.0621 - val_acc: 0.9795\n",
      "Epoch 6/10\n",
      "2000/2000 [==============================] - 0s 186us/step - loss: 0.0094 - acc: 0.9970 - val_loss: 0.0485 - val_acc: 0.9852\n",
      "Epoch 7/10\n",
      "2000/2000 [==============================] - 0s 190us/step - loss: 0.0109 - acc: 0.9970 - val_loss: 0.0891 - val_acc: 0.9787\n",
      "Epoch 8/10\n",
      "2000/2000 [==============================] - 0s 197us/step - loss: 0.0178 - acc: 0.9960 - val_loss: 0.0838 - val_acc: 0.9843\n",
      "Epoch 9/10\n",
      "2000/2000 [==============================] - 0s 192us/step - loss: 0.0441 - acc: 0.9870 - val_loss: 0.0501 - val_acc: 0.9862\n",
      "Epoch 10/10\n",
      "2000/2000 [==============================] - 0s 195us/step - loss: 0.0026 - acc: 0.9995 - val_loss: 0.0630 - val_acc: 0.9848\n",
      "Test score: 0.0629880966658\n",
      "Test accuracy: 0.984833333333\n",
      "CPU times: user 15 s, sys: 873 ms, total: 15.9 s\n",
      "Wall time: 4.7 s\n"
     ]
    }
   ],
   "source": [
    "%%time\n",
    "\n",
    "build_layer_2(10,X_train,Y_train)"
   ]
  },
  {
   "cell_type": "code",
   "execution_count": 28,
   "metadata": {},
   "outputs": [
    {
     "name": "stderr",
     "output_type": "stream",
     "text": [
      "/Users/prajwal967/anaconda3/lib/python3.6/site-packages/keras/models.py:874: UserWarning: The `nb_epoch` argument in `fit` has been renamed `epochs`.\n",
      "  warnings.warn('The `nb_epoch` argument in `fit` '\n"
     ]
    },
    {
     "name": "stdout",
     "output_type": "stream",
     "text": [
      "Train on 6000 samples, validate on 6000 samples\n",
      "Epoch 1/10\n",
      "6000/6000 [==============================] - 1s 198us/step - loss: 0.2437 - acc: 0.9183 - val_loss: 0.3389 - val_acc: 0.9112\n",
      "Epoch 2/10\n",
      "6000/6000 [==============================] - 1s 129us/step - loss: 0.0807 - acc: 0.9728 - val_loss: 0.0309 - val_acc: 0.9910\n",
      "Epoch 3/10\n",
      "6000/6000 [==============================] - 1s 135us/step - loss: 0.0528 - acc: 0.9822 - val_loss: 0.0677 - val_acc: 0.9833\n",
      "Epoch 4/10\n",
      "6000/6000 [==============================] - 1s 125us/step - loss: 0.0406 - acc: 0.9858 - val_loss: 0.0379 - val_acc: 0.9907\n",
      "Epoch 5/10\n",
      "6000/6000 [==============================] - 1s 135us/step - loss: 0.0271 - acc: 0.9895 - val_loss: 0.0908 - val_acc: 0.9857\n",
      "Epoch 6/10\n",
      "6000/6000 [==============================] - 1s 136us/step - loss: 0.0220 - acc: 0.9928 - val_loss: 0.0417 - val_acc: 0.9927\n",
      "Epoch 7/10\n",
      "6000/6000 [==============================] - 1s 131us/step - loss: 0.0223 - acc: 0.9935 - val_loss: 0.1058 - val_acc: 0.9827\n",
      "Epoch 8/10\n",
      "6000/6000 [==============================] - 1s 124us/step - loss: 0.0110 - acc: 0.9967 - val_loss: 0.0506 - val_acc: 0.9927\n",
      "Epoch 9/10\n",
      "6000/6000 [==============================] - 1s 127us/step - loss: 0.0092 - acc: 0.9963 - val_loss: 0.0893 - val_acc: 0.9882\n",
      "Epoch 10/10\n",
      "6000/6000 [==============================] - 1s 124us/step - loss: 0.0109 - acc: 0.9972 - val_loss: 0.0758 - val_acc: 0.9888\n",
      "Test score: 0.075845753372\n",
      "Test accuracy: 0.988833333333\n",
      "CPU times: user 29.2 s, sys: 1.96 s, total: 31.1 s\n",
      "Wall time: 8.72 s\n"
     ]
    }
   ],
   "source": [
    "%%time\n",
    "\n",
    "build_layer_2(10,rotated_X_train,rotated_Y_train)"
   ]
  },
  {
   "cell_type": "code",
   "execution_count": 29,
   "metadata": {},
   "outputs": [
    {
     "name": "stderr",
     "output_type": "stream",
     "text": [
      "/Users/prajwal967/anaconda3/lib/python3.6/site-packages/keras/models.py:874: UserWarning: The `nb_epoch` argument in `fit` has been renamed `epochs`.\n",
      "  warnings.warn('The `nb_epoch` argument in `fit` '\n"
     ]
    },
    {
     "name": "stdout",
     "output_type": "stream",
     "text": [
      "Train on 2000 samples, validate on 6000 samples\n",
      "Epoch 1/30\n",
      "2000/2000 [==============================] - 1s 403us/step - loss: 1.0326 - acc: 0.8500 - val_loss: 0.0900 - val_acc: 0.9663\n",
      "Epoch 2/30\n",
      "2000/2000 [==============================] - 0s 183us/step - loss: 0.0831 - acc: 0.9710 - val_loss: 0.0354 - val_acc: 0.9895\n",
      "Epoch 3/30\n",
      "2000/2000 [==============================] - 0s 191us/step - loss: 0.1642 - acc: 0.9485 - val_loss: 0.0693 - val_acc: 0.9762\n",
      "Epoch 4/30\n",
      "2000/2000 [==============================] - 0s 192us/step - loss: 0.0296 - acc: 0.9890 - val_loss: 0.0493 - val_acc: 0.9835\n",
      "Epoch 5/30\n",
      "2000/2000 [==============================] - 0s 184us/step - loss: 0.0214 - acc: 0.9925 - val_loss: 0.0432 - val_acc: 0.9882\n",
      "Epoch 6/30\n",
      "2000/2000 [==============================] - 0s 189us/step - loss: 0.0201 - acc: 0.9930 - val_loss: 0.0550 - val_acc: 0.9817\n",
      "Epoch 7/30\n",
      "2000/2000 [==============================] - 0s 193us/step - loss: 0.0280 - acc: 0.9920 - val_loss: 0.0513 - val_acc: 0.9857\n",
      "Epoch 8/30\n",
      "2000/2000 [==============================] - 1s 332us/step - loss: 0.0213 - acc: 0.9920 - val_loss: 0.3314 - val_acc: 0.9290\n",
      "Epoch 9/30\n",
      "2000/2000 [==============================] - 1s 354us/step - loss: 0.0158 - acc: 0.9955 - val_loss: 0.0544 - val_acc: 0.9860\n",
      "Epoch 10/30\n",
      "2000/2000 [==============================] - 1s 260us/step - loss: 0.0061 - acc: 0.9965 - val_loss: 0.2373 - val_acc: 0.9503\n",
      "Epoch 11/30\n",
      "2000/2000 [==============================] - 0s 199us/step - loss: 0.0189 - acc: 0.9935 - val_loss: 0.0683 - val_acc: 0.9860\n",
      "Epoch 12/30\n",
      "2000/2000 [==============================] - 0s 207us/step - loss: 0.0034 - acc: 0.9990 - val_loss: 0.0575 - val_acc: 0.9863\n",
      "Epoch 13/30\n",
      "2000/2000 [==============================] - 0s 203us/step - loss: 5.7974e-04 - acc: 1.0000 - val_loss: 0.0719 - val_acc: 0.9863\n",
      "Epoch 14/30\n",
      "2000/2000 [==============================] - 0s 182us/step - loss: 0.0760 - acc: 0.9795 - val_loss: 0.0989 - val_acc: 0.9837\n",
      "Epoch 15/30\n",
      "2000/2000 [==============================] - 0s 190us/step - loss: 8.7326e-04 - acc: 0.9995 - val_loss: 0.1106 - val_acc: 0.9803\n",
      "Epoch 16/30\n",
      "2000/2000 [==============================] - 0s 190us/step - loss: 1.5854e-04 - acc: 1.0000 - val_loss: 0.0986 - val_acc: 0.9823\n",
      "Epoch 17/30\n",
      "2000/2000 [==============================] - 0s 190us/step - loss: 1.3468e-04 - acc: 1.0000 - val_loss: 0.0909 - val_acc: 0.9847\n",
      "Epoch 18/30\n",
      "2000/2000 [==============================] - 0s 181us/step - loss: 6.2713e-05 - acc: 1.0000 - val_loss: 0.0914 - val_acc: 0.9845\n",
      "Epoch 19/30\n",
      "2000/2000 [==============================] - 0s 174us/step - loss: 4.8338e-05 - acc: 1.0000 - val_loss: 0.0845 - val_acc: 0.9867\n",
      "Epoch 20/30\n",
      "2000/2000 [==============================] - 0s 184us/step - loss: 0.0023 - acc: 0.9990 - val_loss: 0.1833 - val_acc: 0.9755\n",
      "Epoch 21/30\n",
      "2000/2000 [==============================] - 0s 186us/step - loss: 0.0102 - acc: 0.9965 - val_loss: 0.0969 - val_acc: 0.9837\n",
      "Epoch 22/30\n",
      "2000/2000 [==============================] - 0s 192us/step - loss: 8.8272e-04 - acc: 0.9995 - val_loss: 0.0941 - val_acc: 0.9845\n",
      "Epoch 23/30\n",
      "2000/2000 [==============================] - 0s 182us/step - loss: 0.0023 - acc: 0.9990 - val_loss: 0.1036 - val_acc: 0.9835\n",
      "Epoch 24/30\n",
      "2000/2000 [==============================] - 0s 183us/step - loss: 9.9406e-04 - acc: 0.9995 - val_loss: 0.1038 - val_acc: 0.9845\n",
      "Epoch 25/30\n",
      "2000/2000 [==============================] - 0s 183us/step - loss: 5.2288e-05 - acc: 1.0000 - val_loss: 0.1021 - val_acc: 0.9853\n",
      "Epoch 26/30\n",
      "2000/2000 [==============================] - 0s 206us/step - loss: 0.0147 - acc: 0.9955 - val_loss: 0.1271 - val_acc: 0.9822\n",
      "Epoch 27/30\n",
      "2000/2000 [==============================] - 0s 198us/step - loss: 1.0447e-04 - acc: 1.0000 - val_loss: 0.1317 - val_acc: 0.9820\n",
      "Epoch 28/30\n",
      "2000/2000 [==============================] - 0s 186us/step - loss: 0.0281 - acc: 0.9950 - val_loss: 0.0963 - val_acc: 0.9877\n",
      "Epoch 29/30\n",
      "2000/2000 [==============================] - 0s 197us/step - loss: 6.3049e-05 - acc: 1.0000 - val_loss: 0.1223 - val_acc: 0.9842\n",
      "Epoch 30/30\n",
      "2000/2000 [==============================] - 0s 184us/step - loss: 2.6678e-05 - acc: 1.0000 - val_loss: 0.0980 - val_acc: 0.9887\n",
      "Test score: 0.0980378216563\n",
      "Test accuracy: 0.988666666667\n",
      "CPU times: user 45.5 s, sys: 2.92 s, total: 48.4 s\n",
      "Wall time: 13.2 s\n"
     ]
    }
   ],
   "source": [
    "%%time\n",
    "\n",
    "build_layer_2(30,X_train,Y_train)"
   ]
  },
  {
   "cell_type": "code",
   "execution_count": 30,
   "metadata": {},
   "outputs": [
    {
     "name": "stderr",
     "output_type": "stream",
     "text": [
      "/Users/prajwal967/anaconda3/lib/python3.6/site-packages/keras/models.py:874: UserWarning: The `nb_epoch` argument in `fit` has been renamed `epochs`.\n",
      "  warnings.warn('The `nb_epoch` argument in `fit` '\n"
     ]
    },
    {
     "name": "stdout",
     "output_type": "stream",
     "text": [
      "Train on 6000 samples, validate on 6000 samples\n",
      "Epoch 1/30\n",
      "6000/6000 [==============================] - 1s 202us/step - loss: 0.2324 - acc: 0.9292 - val_loss: 0.0415 - val_acc: 0.9890\n",
      "Epoch 2/30\n",
      "6000/6000 [==============================] - 1s 125us/step - loss: 0.0825 - acc: 0.9743 - val_loss: 0.0584 - val_acc: 0.9813\n",
      "Epoch 3/30\n",
      "6000/6000 [==============================] - 1s 129us/step - loss: 0.0494 - acc: 0.9827 - val_loss: 0.1397 - val_acc: 0.9652\n",
      "Epoch 4/30\n",
      "6000/6000 [==============================] - 1s 121us/step - loss: 0.0312 - acc: 0.9895 - val_loss: 0.0520 - val_acc: 0.9897\n",
      "Epoch 5/30\n",
      "6000/6000 [==============================] - 1s 133us/step - loss: 0.0302 - acc: 0.9890 - val_loss: 0.0812 - val_acc: 0.9833\n",
      "Epoch 6/30\n",
      "6000/6000 [==============================] - 1s 128us/step - loss: 0.0259 - acc: 0.9917 - val_loss: 0.0363 - val_acc: 0.9928\n",
      "Epoch 7/30\n",
      "6000/6000 [==============================] - 1s 144us/step - loss: 0.0187 - acc: 0.9950 - val_loss: 0.0727 - val_acc: 0.9883\n",
      "Epoch 8/30\n",
      "6000/6000 [==============================] - 1s 124us/step - loss: 0.0232 - acc: 0.9938 - val_loss: 0.0952 - val_acc: 0.9853\n",
      "Epoch 9/30\n",
      "6000/6000 [==============================] - 1s 122us/step - loss: 0.0076 - acc: 0.9973 - val_loss: 0.0983 - val_acc: 0.9863\n",
      "Epoch 10/30\n",
      "6000/6000 [==============================] - 1s 128us/step - loss: 0.0195 - acc: 0.9958 - val_loss: 0.0702 - val_acc: 0.9900\n",
      "Epoch 11/30\n",
      "6000/6000 [==============================] - 1s 131us/step - loss: 0.0120 - acc: 0.9975 - val_loss: 0.0821 - val_acc: 0.9887\n",
      "Epoch 12/30\n",
      "6000/6000 [==============================] - 1s 125us/step - loss: 0.0060 - acc: 0.9977 - val_loss: 0.1008 - val_acc: 0.9883\n",
      "Epoch 13/30\n",
      "6000/6000 [==============================] - 1s 122us/step - loss: 0.0063 - acc: 0.9983 - val_loss: 0.1396 - val_acc: 0.9860\n",
      "Epoch 14/30\n",
      "6000/6000 [==============================] - 1s 129us/step - loss: 0.0040 - acc: 0.9993 - val_loss: 0.1208 - val_acc: 0.9863\n",
      "Epoch 15/30\n",
      "6000/6000 [==============================] - 1s 128us/step - loss: 0.0080 - acc: 0.9987 - val_loss: 0.4894 - val_acc: 0.9563\n",
      "Epoch 16/30\n",
      "6000/6000 [==============================] - 1s 126us/step - loss: 0.0177 - acc: 0.9973 - val_loss: 0.1540 - val_acc: 0.9855\n",
      "Epoch 17/30\n",
      "6000/6000 [==============================] - 1s 124us/step - loss: 0.0091 - acc: 0.9985 - val_loss: 0.1924 - val_acc: 0.9820\n",
      "Epoch 18/30\n",
      "6000/6000 [==============================] - 1s 124us/step - loss: 0.0051 - acc: 0.9988 - val_loss: 0.1317 - val_acc: 0.9873\n",
      "Epoch 19/30\n",
      "6000/6000 [==============================] - 1s 132us/step - loss: 0.0062 - acc: 0.9978 - val_loss: 0.1621 - val_acc: 0.9850\n",
      "Epoch 20/30\n",
      "6000/6000 [==============================] - 1s 121us/step - loss: 0.0015 - acc: 0.9993 - val_loss: 0.1385 - val_acc: 0.9868\n",
      "Epoch 21/30\n",
      "6000/6000 [==============================] - 1s 121us/step - loss: 0.0121 - acc: 0.9978 - val_loss: 0.0870 - val_acc: 0.9922\n",
      "Epoch 22/30\n",
      "6000/6000 [==============================] - 1s 122us/step - loss: 0.0022 - acc: 0.9993 - val_loss: 0.1422 - val_acc: 0.9888\n",
      "Epoch 23/30\n",
      "6000/6000 [==============================] - 1s 120us/step - loss: 0.0066 - acc: 0.9992 - val_loss: 0.2776 - val_acc: 0.9762\n",
      "Epoch 24/30\n",
      "6000/6000 [==============================] - 1s 129us/step - loss: 0.0160 - acc: 0.9977 - val_loss: 0.1717 - val_acc: 0.9863\n",
      "Epoch 25/30\n",
      "6000/6000 [==============================] - 1s 119us/step - loss: 0.0091 - acc: 0.9982 - val_loss: 0.1243 - val_acc: 0.9893\n",
      "Epoch 26/30\n",
      "6000/6000 [==============================] - 1s 121us/step - loss: 0.0030 - acc: 0.9998 - val_loss: 0.1165 - val_acc: 0.9895\n",
      "Epoch 27/30\n",
      "6000/6000 [==============================] - 1s 128us/step - loss: 0.0163 - acc: 0.9975 - val_loss: 0.3553 - val_acc: 0.9705\n",
      "Epoch 28/30\n",
      "6000/6000 [==============================] - 1s 127us/step - loss: 0.0039 - acc: 0.9992 - val_loss: 0.1173 - val_acc: 0.9902\n",
      "Epoch 29/30\n",
      "6000/6000 [==============================] - 1s 123us/step - loss: 0.0083 - acc: 0.9987 - val_loss: 0.0878 - val_acc: 0.9922\n",
      "Epoch 30/30\n",
      "6000/6000 [==============================] - 1s 122us/step - loss: 0.0049 - acc: 0.9993 - val_loss: 0.0828 - val_acc: 0.9928\n",
      "Test score: 0.0827601716926\n",
      "Test accuracy: 0.992833333333\n",
      "CPU times: user 1min 21s, sys: 6.07 s, total: 1min 27s\n",
      "Wall time: 23.8 s\n"
     ]
    }
   ],
   "source": [
    "%%time\n",
    "\n",
    "build_layer_2(30,rotated_X_train,rotated_Y_train)"
   ]
  },
  {
   "cell_type": "code",
   "execution_count": 31,
   "metadata": {
    "collapsed": true
   },
   "outputs": [],
   "source": [
    "#Function for constructing the multi layer perceptron\n",
    "## Hidden Layers\n",
    "def build_layer_3(nb_epoch,X_train,Y_train):\n",
    "    \n",
    "    model = Sequential()\n",
    "    model.add(Dense(512, input_shape=(784,)))\n",
    "    model.add(Activation('relu'))\n",
    "    model.add(Dropout(0.2))\n",
    "    model.add(Dense(512))\n",
    "    model.add(Activation('relu'))\n",
    "    model.add(Dropout(0.2))\n",
    "    model.add(Dense(512))\n",
    "    model.add(Activation('relu'))\n",
    "    model.add(Dropout(0.2))\n",
    "    model.add(Dense(nb_classes))\n",
    "    model.add(Activation('softmax'))\n",
    "    \n",
    "    model.compile(loss='categorical_crossentropy',\n",
    "              optimizer='rmsprop',\n",
    "              metrics=['accuracy'])\n",
    "\n",
    "    model.fit(X_train, Y_train, batch_size=128, nb_epoch=nb_epoch,verbose=1,\n",
    "              validation_data=(X_test, Y_test))\n",
    "          \n",
    "\n",
    "    score = model.evaluate(X_test, Y_test, verbose=0)\n",
    "    print('Test score:', score[0])\n",
    "    print('Test accuracy:', score[1])"
   ]
  },
  {
   "cell_type": "code",
   "execution_count": 32,
   "metadata": {},
   "outputs": [
    {
     "name": "stderr",
     "output_type": "stream",
     "text": [
      "/Users/prajwal967/anaconda3/lib/python3.6/site-packages/keras/models.py:874: UserWarning: The `nb_epoch` argument in `fit` has been renamed `epochs`.\n",
      "  warnings.warn('The `nb_epoch` argument in `fit` '\n"
     ]
    },
    {
     "name": "stdout",
     "output_type": "stream",
     "text": [
      "Train on 2000 samples, validate on 6000 samples\n",
      "Epoch 1/1\n",
      "2000/2000 [==============================] - 1s 491us/step - loss: 0.6790 - acc: 0.8290 - val_loss: 0.1012 - val_acc: 0.9638\n",
      "Test score: 0.101154099841\n",
      "Test accuracy: 0.963833333333\n",
      "CPU times: user 4.08 s, sys: 262 ms, total: 4.34 s\n",
      "Wall time: 1.62 s\n"
     ]
    }
   ],
   "source": [
    "%%time\n",
    "\n",
    "build_layer_3(1,X_train,Y_train)"
   ]
  },
  {
   "cell_type": "code",
   "execution_count": 33,
   "metadata": {},
   "outputs": [
    {
     "name": "stderr",
     "output_type": "stream",
     "text": [
      "/Users/prajwal967/anaconda3/lib/python3.6/site-packages/keras/models.py:874: UserWarning: The `nb_epoch` argument in `fit` has been renamed `epochs`.\n",
      "  warnings.warn('The `nb_epoch` argument in `fit` '\n"
     ]
    },
    {
     "name": "stdout",
     "output_type": "stream",
     "text": [
      "Train on 6000 samples, validate on 6000 samples\n",
      "Epoch 1/1\n",
      "6000/6000 [==============================] - 2s 257us/step - loss: 0.3337 - acc: 0.9060 - val_loss: 0.0887 - val_acc: 0.9723\n",
      "Test score: 0.0886738774649\n",
      "Test accuracy: 0.972333333333\n",
      "CPU times: user 6.22 s, sys: 484 ms, total: 6.7 s\n",
      "Wall time: 2.29 s\n"
     ]
    }
   ],
   "source": [
    "%%time\n",
    "\n",
    "build_layer_3(1,rotated_X_train,rotated_Y_train)"
   ]
  },
  {
   "cell_type": "code",
   "execution_count": 34,
   "metadata": {},
   "outputs": [
    {
     "name": "stderr",
     "output_type": "stream",
     "text": [
      "/Users/prajwal967/anaconda3/lib/python3.6/site-packages/keras/models.py:874: UserWarning: The `nb_epoch` argument in `fit` has been renamed `epochs`.\n",
      "  warnings.warn('The `nb_epoch` argument in `fit` '\n"
     ]
    },
    {
     "name": "stdout",
     "output_type": "stream",
     "text": [
      "Train on 2000 samples, validate on 6000 samples\n",
      "Epoch 1/5\n",
      "2000/2000 [==============================] - 1s 571us/step - loss: 0.9250 - acc: 0.8330 - val_loss: 0.0717 - val_acc: 0.9732\n",
      "Epoch 2/5\n",
      "2000/2000 [==============================] - 1s 263us/step - loss: 0.1180 - acc: 0.9575 - val_loss: 0.1708 - val_acc: 0.9367\n",
      "Epoch 3/5\n",
      "2000/2000 [==============================] - 1s 257us/step - loss: 0.0561 - acc: 0.9790 - val_loss: 0.0397 - val_acc: 0.9847\n",
      "Epoch 4/5\n",
      "2000/2000 [==============================] - 1s 265us/step - loss: 0.1411 - acc: 0.9540 - val_loss: 0.0505 - val_acc: 0.9807\n",
      "Epoch 5/5\n",
      "2000/2000 [==============================] - 0s 245us/step - loss: 0.0223 - acc: 0.9930 - val_loss: 0.0456 - val_acc: 0.9837\n",
      "Test score: 0.0455576283092\n",
      "Test accuracy: 0.983666666667\n",
      "CPU times: user 11.2 s, sys: 816 ms, total: 12 s\n",
      "Wall time: 4.03 s\n"
     ]
    }
   ],
   "source": [
    "%%time\n",
    "\n",
    "build_layer_3(5,X_train,Y_train)"
   ]
  },
  {
   "cell_type": "code",
   "execution_count": 35,
   "metadata": {},
   "outputs": [
    {
     "name": "stderr",
     "output_type": "stream",
     "text": [
      "/Users/prajwal967/anaconda3/lib/python3.6/site-packages/keras/models.py:874: UserWarning: The `nb_epoch` argument in `fit` has been renamed `epochs`.\n",
      "  warnings.warn('The `nb_epoch` argument in `fit` '\n"
     ]
    },
    {
     "name": "stdout",
     "output_type": "stream",
     "text": [
      "Train on 6000 samples, validate on 6000 samples\n",
      "Epoch 1/5\n",
      "6000/6000 [==============================] - 2s 283us/step - loss: 0.2896 - acc: 0.9103 - val_loss: 0.0549 - val_acc: 0.9838\n",
      "Epoch 2/5\n",
      "6000/6000 [==============================] - 1s 173us/step - loss: 0.1110 - acc: 0.9638 - val_loss: 0.0278 - val_acc: 0.9890\n",
      "Epoch 3/5\n",
      "6000/6000 [==============================] - 1s 168us/step - loss: 0.0518 - acc: 0.9823 - val_loss: 0.0613 - val_acc: 0.9842\n",
      "Epoch 4/5\n",
      "6000/6000 [==============================] - 1s 182us/step - loss: 0.0542 - acc: 0.9845 - val_loss: 0.0243 - val_acc: 0.9937\n",
      "Epoch 5/5\n",
      "6000/6000 [==============================] - 1s 185us/step - loss: 0.0323 - acc: 0.9900 - val_loss: 0.1597 - val_acc: 0.9710\n",
      "Test score: 0.159722540914\n",
      "Test accuracy: 0.971\n",
      "CPU times: user 20.7 s, sys: 1.71 s, total: 22.4 s\n",
      "Wall time: 6.64 s\n"
     ]
    }
   ],
   "source": [
    "%%time\n",
    "\n",
    "build_layer_3(5,rotated_X_train,rotated_Y_train)"
   ]
  },
  {
   "cell_type": "code",
   "execution_count": 36,
   "metadata": {},
   "outputs": [
    {
     "name": "stderr",
     "output_type": "stream",
     "text": [
      "/Users/prajwal967/anaconda3/lib/python3.6/site-packages/keras/models.py:874: UserWarning: The `nb_epoch` argument in `fit` has been renamed `epochs`.\n",
      "  warnings.warn('The `nb_epoch` argument in `fit` '\n"
     ]
    },
    {
     "name": "stdout",
     "output_type": "stream",
     "text": [
      "Train on 2000 samples, validate on 6000 samples\n",
      "Epoch 1/10\n",
      "2000/2000 [==============================] - 1s 571us/step - loss: 0.7576 - acc: 0.8255 - val_loss: 0.0454 - val_acc: 0.9832\n",
      "Epoch 2/10\n",
      "2000/2000 [==============================] - 0s 245us/step - loss: 0.0994 - acc: 0.9720 - val_loss: 0.0367 - val_acc: 0.9852\n",
      "Epoch 3/10\n",
      "2000/2000 [==============================] - 0s 241us/step - loss: 0.0817 - acc: 0.9705 - val_loss: 0.0413 - val_acc: 0.9847\n",
      "Epoch 4/10\n",
      "2000/2000 [==============================] - 1s 261us/step - loss: 0.0398 - acc: 0.9860 - val_loss: 0.0360 - val_acc: 0.9885\n",
      "Epoch 5/10\n",
      "2000/2000 [==============================] - 0s 244us/step - loss: 0.0330 - acc: 0.9870 - val_loss: 0.0586 - val_acc: 0.9837\n",
      "Epoch 6/10\n",
      "2000/2000 [==============================] - 0s 242us/step - loss: 0.0472 - acc: 0.9830 - val_loss: 0.0388 - val_acc: 0.9905\n",
      "Epoch 7/10\n",
      "2000/2000 [==============================] - 1s 258us/step - loss: 0.0094 - acc: 0.9970 - val_loss: 0.0648 - val_acc: 0.9843\n",
      "Epoch 8/10\n",
      "2000/2000 [==============================] - 1s 256us/step - loss: 0.0321 - acc: 0.9890 - val_loss: 0.0623 - val_acc: 0.9820\n",
      "Epoch 9/10\n",
      "2000/2000 [==============================] - 0s 241us/step - loss: 0.0071 - acc: 0.9975 - val_loss: 0.0413 - val_acc: 0.9908\n",
      "Epoch 10/10\n",
      "2000/2000 [==============================] - 1s 252us/step - loss: 0.0338 - acc: 0.9930 - val_loss: 0.7223 - val_acc: 0.8863\n",
      "Test score: 0.722320004796\n",
      "Test accuracy: 0.886333333333\n",
      "CPU times: user 20 s, sys: 1.42 s, total: 21.4 s\n",
      "Wall time: 6.33 s\n"
     ]
    }
   ],
   "source": [
    "%%time\n",
    "\n",
    "build_layer_3(10,X_train,Y_train)"
   ]
  },
  {
   "cell_type": "code",
   "execution_count": 37,
   "metadata": {},
   "outputs": [
    {
     "name": "stderr",
     "output_type": "stream",
     "text": [
      "/Users/prajwal967/anaconda3/lib/python3.6/site-packages/keras/models.py:874: UserWarning: The `nb_epoch` argument in `fit` has been renamed `epochs`.\n",
      "  warnings.warn('The `nb_epoch` argument in `fit` '\n"
     ]
    },
    {
     "name": "stdout",
     "output_type": "stream",
     "text": [
      "Train on 6000 samples, validate on 6000 samples\n",
      "Epoch 1/10\n",
      "6000/6000 [==============================] - 2s 289us/step - loss: 0.3167 - acc: 0.9098 - val_loss: 0.1596 - val_acc: 0.9523\n",
      "Epoch 2/10\n",
      "6000/6000 [==============================] - 1s 167us/step - loss: 0.0877 - acc: 0.9678 - val_loss: 0.1313 - val_acc: 0.9630\n",
      "Epoch 3/10\n",
      "6000/6000 [==============================] - 1s 193us/step - loss: 0.0635 - acc: 0.9795 - val_loss: 0.0873 - val_acc: 0.9798\n",
      "Epoch 4/10\n",
      "6000/6000 [==============================] - 1s 169us/step - loss: 0.0454 - acc: 0.9852 - val_loss: 0.0359 - val_acc: 0.9905\n",
      "Epoch 5/10\n",
      "6000/6000 [==============================] - 1s 179us/step - loss: 0.0394 - acc: 0.9867 - val_loss: 0.0427 - val_acc: 0.9905\n",
      "Epoch 6/10\n",
      "6000/6000 [==============================] - 1s 192us/step - loss: 0.0338 - acc: 0.9887 - val_loss: 0.0486 - val_acc: 0.9865\n",
      "Epoch 7/10\n",
      "6000/6000 [==============================] - 2s 256us/step - loss: 0.0212 - acc: 0.9950 - val_loss: 0.1606 - val_acc: 0.9790\n",
      "Epoch 8/10\n",
      "6000/6000 [==============================] - 2s 272us/step - loss: 0.0257 - acc: 0.9937 - val_loss: 0.0472 - val_acc: 0.9907\n",
      "Epoch 9/10\n",
      "6000/6000 [==============================] - 2s 254us/step - loss: 0.0125 - acc: 0.9962 - val_loss: 0.0955 - val_acc: 0.9857\n",
      "Epoch 10/10\n",
      "6000/6000 [==============================] - 1s 194us/step - loss: 0.0119 - acc: 0.9958 - val_loss: 0.0682 - val_acc: 0.9898\n",
      "Test score: 0.0681727476969\n",
      "Test accuracy: 0.989833333333\n",
      "CPU times: user 47.1 s, sys: 4.12 s, total: 51.3 s\n",
      "Wall time: 14 s\n"
     ]
    }
   ],
   "source": [
    "%%time\n",
    "\n",
    "build_layer_3(10,rotated_X_train,rotated_Y_train)"
   ]
  },
  {
   "cell_type": "code",
   "execution_count": 38,
   "metadata": {},
   "outputs": [
    {
     "name": "stderr",
     "output_type": "stream",
     "text": [
      "/Users/prajwal967/anaconda3/lib/python3.6/site-packages/keras/models.py:874: UserWarning: The `nb_epoch` argument in `fit` has been renamed `epochs`.\n",
      "  warnings.warn('The `nb_epoch` argument in `fit` '\n"
     ]
    },
    {
     "name": "stdout",
     "output_type": "stream",
     "text": [
      "Train on 2000 samples, validate on 6000 samples\n",
      "Epoch 1/30\n",
      "2000/2000 [==============================] - 2s 919us/step - loss: 0.8255 - acc: 0.8285 - val_loss: 0.0571 - val_acc: 0.9778\n",
      "Epoch 2/30\n",
      "2000/2000 [==============================] - 1s 329us/step - loss: 0.0754 - acc: 0.9730 - val_loss: 0.0624 - val_acc: 0.9765\n",
      "Epoch 3/30\n",
      "2000/2000 [==============================] - 0s 245us/step - loss: 0.0824 - acc: 0.9675 - val_loss: 0.1140 - val_acc: 0.9627\n",
      "Epoch 4/30\n",
      "2000/2000 [==============================] - 1s 396us/step - loss: 0.0349 - acc: 0.9875 - val_loss: 0.0584 - val_acc: 0.9793\n",
      "Epoch 5/30\n",
      "2000/2000 [==============================] - 1s 440us/step - loss: 0.1436 - acc: 0.9680 - val_loss: 0.0468 - val_acc: 0.9842\n",
      "Epoch 6/30\n",
      "2000/2000 [==============================] - 1s 330us/step - loss: 0.0139 - acc: 0.9950 - val_loss: 0.0412 - val_acc: 0.9865\n",
      "Epoch 7/30\n",
      "2000/2000 [==============================] - 1s 251us/step - loss: 0.0076 - acc: 0.9975 - val_loss: 0.0631 - val_acc: 0.9827\n",
      "Epoch 8/30\n",
      "2000/2000 [==============================] - 1s 329us/step - loss: 0.0501 - acc: 0.9845 - val_loss: 0.0506 - val_acc: 0.9863\n",
      "Epoch 9/30\n",
      "2000/2000 [==============================] - 1s 356us/step - loss: 0.0036 - acc: 0.9990 - val_loss: 0.0621 - val_acc: 0.9858\n",
      "Epoch 10/30\n",
      "2000/2000 [==============================] - 1s 350us/step - loss: 0.0381 - acc: 0.9895 - val_loss: 0.1483 - val_acc: 0.9673\n",
      "Epoch 11/30\n",
      "2000/2000 [==============================] - 1s 444us/step - loss: 0.0049 - acc: 0.9980 - val_loss: 0.0873 - val_acc: 0.9798\n",
      "Epoch 12/30\n",
      "2000/2000 [==============================] - 1s 303us/step - loss: 0.0051 - acc: 0.9985 - val_loss: 0.0742 - val_acc: 0.9852\n",
      "Epoch 13/30\n",
      "2000/2000 [==============================] - 1s 383us/step - loss: 5.3350e-04 - acc: 1.0000 - val_loss: 0.0938 - val_acc: 0.9855\n",
      "Epoch 14/30\n",
      "2000/2000 [==============================] - 1s 304us/step - loss: 0.0167 - acc: 0.9955 - val_loss: 0.0737 - val_acc: 0.9857\n",
      "Epoch 15/30\n",
      "2000/2000 [==============================] - 1s 299us/step - loss: 0.0284 - acc: 0.9945 - val_loss: 0.1282 - val_acc: 0.9858\n",
      "Epoch 16/30\n",
      "2000/2000 [==============================] - 1s 389us/step - loss: 0.0243 - acc: 0.9950 - val_loss: 0.0922 - val_acc: 0.9808\n",
      "Epoch 17/30\n",
      "2000/2000 [==============================] - 1s 279us/step - loss: 2.1453e-04 - acc: 1.0000 - val_loss: 0.1131 - val_acc: 0.9783\n",
      "Epoch 18/30\n",
      "2000/2000 [==============================] - 1s 260us/step - loss: 3.3621e-04 - acc: 1.0000 - val_loss: 0.0993 - val_acc: 0.9828\n",
      "Epoch 19/30\n",
      "2000/2000 [==============================] - 1s 336us/step - loss: 5.6754e-05 - acc: 1.0000 - val_loss: 0.1045 - val_acc: 0.9848\n",
      "Epoch 20/30\n",
      "2000/2000 [==============================] - 1s 329us/step - loss: 1.2605e-05 - acc: 1.0000 - val_loss: 0.1229 - val_acc: 0.9840\n",
      "Epoch 21/30\n",
      "2000/2000 [==============================] - 1s 319us/step - loss: 0.0688 - acc: 0.9890 - val_loss: 1.5566 - val_acc: 0.8443\n",
      "Epoch 22/30\n",
      "2000/2000 [==============================] - 1s 264us/step - loss: 0.0886 - acc: 0.9905 - val_loss: 0.1173 - val_acc: 0.9830\n",
      "Epoch 23/30\n",
      "2000/2000 [==============================] - 1s 387us/step - loss: 0.0019 - acc: 0.9990 - val_loss: 0.1218 - val_acc: 0.9823\n",
      "Epoch 24/30\n",
      "2000/2000 [==============================] - 1s 353us/step - loss: 0.0052 - acc: 0.9980 - val_loss: 0.0892 - val_acc: 0.9868\n",
      "Epoch 25/30\n",
      "2000/2000 [==============================] - 1s 312us/step - loss: 2.1754e-05 - acc: 1.0000 - val_loss: 0.1109 - val_acc: 0.9852\n",
      "Epoch 26/30\n",
      "2000/2000 [==============================] - 1s 272us/step - loss: 2.4826e-05 - acc: 1.0000 - val_loss: 0.0915 - val_acc: 0.9885\n",
      "Epoch 27/30\n",
      "2000/2000 [==============================] - 1s 267us/step - loss: 6.4137e-06 - acc: 1.0000 - val_loss: 0.1162 - val_acc: 0.9860\n",
      "Epoch 28/30\n",
      "2000/2000 [==============================] - 1s 289us/step - loss: 2.2707e-06 - acc: 1.0000 - val_loss: 0.1298 - val_acc: 0.9852\n",
      "Epoch 29/30\n",
      "2000/2000 [==============================] - 1s 296us/step - loss: 6.4167e-07 - acc: 1.0000 - val_loss: 0.1353 - val_acc: 0.9847\n",
      "Epoch 30/30\n",
      "2000/2000 [==============================] - 1s 287us/step - loss: 2.3534e-06 - acc: 1.0000 - val_loss: 0.1813 - val_acc: 0.9823\n",
      "Test score: 0.181339349609\n",
      "Test accuracy: 0.982333333333\n",
      "CPU times: user 1min 10s, sys: 5.75 s, total: 1min 16s\n",
      "Wall time: 21.4 s\n"
     ]
    }
   ],
   "source": [
    "%%time\n",
    "\n",
    "build_layer_3(30,X_train,Y_train)"
   ]
  },
  {
   "cell_type": "code",
   "execution_count": 39,
   "metadata": {},
   "outputs": [
    {
     "name": "stderr",
     "output_type": "stream",
     "text": [
      "/Users/prajwal967/anaconda3/lib/python3.6/site-packages/keras/models.py:874: UserWarning: The `nb_epoch` argument in `fit` has been renamed `epochs`.\n",
      "  warnings.warn('The `nb_epoch` argument in `fit` '\n"
     ]
    },
    {
     "name": "stdout",
     "output_type": "stream",
     "text": [
      "Train on 6000 samples, validate on 6000 samples\n",
      "Epoch 1/30\n",
      "6000/6000 [==============================] - 2s 322us/step - loss: 0.3315 - acc: 0.9082 - val_loss: 0.2059 - val_acc: 0.9373\n",
      "Epoch 2/30\n",
      "6000/6000 [==============================] - 1s 192us/step - loss: 0.0836 - acc: 0.9690 - val_loss: 0.0387 - val_acc: 0.9892\n",
      "Epoch 3/30\n",
      "6000/6000 [==============================] - 1s 187us/step - loss: 0.0642 - acc: 0.9790 - val_loss: 0.1414 - val_acc: 0.9652\n",
      "Epoch 4/30\n",
      "6000/6000 [==============================] - 1s 185us/step - loss: 0.0393 - acc: 0.9873 - val_loss: 0.1619 - val_acc: 0.9685\n",
      "Epoch 5/30\n",
      "6000/6000 [==============================] - 1s 186us/step - loss: 0.0358 - acc: 0.9873 - val_loss: 0.0450 - val_acc: 0.9878\n",
      "Epoch 6/30\n",
      "6000/6000 [==============================] - 1s 189us/step - loss: 0.0237 - acc: 0.9920 - val_loss: 0.0885 - val_acc: 0.9823\n",
      "Epoch 7/30\n",
      "6000/6000 [==============================] - 1s 195us/step - loss: 0.0294 - acc: 0.9918 - val_loss: 0.1158 - val_acc: 0.9757\n",
      "Epoch 8/30\n",
      "6000/6000 [==============================] - 1s 187us/step - loss: 0.0187 - acc: 0.9947 - val_loss: 0.0537 - val_acc: 0.9897\n",
      "Epoch 9/30\n",
      "6000/6000 [==============================] - 1s 181us/step - loss: 0.0149 - acc: 0.9947 - val_loss: 0.1550 - val_acc: 0.9818\n",
      "Epoch 10/30\n",
      "6000/6000 [==============================] - 1s 178us/step - loss: 0.0194 - acc: 0.9933 - val_loss: 0.0752 - val_acc: 0.9887\n",
      "Epoch 11/30\n",
      "6000/6000 [==============================] - 1s 175us/step - loss: 0.0159 - acc: 0.9965 - val_loss: 0.0755 - val_acc: 0.9887\n",
      "Epoch 12/30\n",
      "6000/6000 [==============================] - 1s 196us/step - loss: 0.0099 - acc: 0.9975 - val_loss: 0.1149 - val_acc: 0.9858\n",
      "Epoch 13/30\n",
      "6000/6000 [==============================] - 1s 179us/step - loss: 0.0235 - acc: 0.9952 - val_loss: 0.0507 - val_acc: 0.9923\n",
      "Epoch 14/30\n",
      "6000/6000 [==============================] - 1s 183us/step - loss: 0.0110 - acc: 0.9965 - val_loss: 0.0686 - val_acc: 0.9890\n",
      "Epoch 15/30\n",
      "6000/6000 [==============================] - 1s 186us/step - loss: 0.0146 - acc: 0.9968 - val_loss: 0.2176 - val_acc: 0.9732\n",
      "Epoch 16/30\n",
      "6000/6000 [==============================] - 1s 185us/step - loss: 0.0061 - acc: 0.9988 - val_loss: 0.1855 - val_acc: 0.9835\n",
      "Epoch 17/30\n",
      "6000/6000 [==============================] - 1s 183us/step - loss: 0.0122 - acc: 0.9977 - val_loss: 0.1024 - val_acc: 0.9902\n",
      "Epoch 18/30\n",
      "6000/6000 [==============================] - 1s 186us/step - loss: 0.0047 - acc: 0.9987 - val_loss: 0.3151 - val_acc: 0.9722\n",
      "Epoch 19/30\n",
      "6000/6000 [==============================] - 1s 192us/step - loss: 0.0124 - acc: 0.9975 - val_loss: 0.1357 - val_acc: 0.9872\n",
      "Epoch 20/30\n",
      "6000/6000 [==============================] - 1s 193us/step - loss: 0.0083 - acc: 0.9982 - val_loss: 0.2543 - val_acc: 0.9792\n",
      "Epoch 21/30\n",
      "6000/6000 [==============================] - 1s 197us/step - loss: 0.0095 - acc: 0.9983 - val_loss: 0.1986 - val_acc: 0.9835\n",
      "Epoch 22/30\n",
      "6000/6000 [==============================] - 1s 215us/step - loss: 0.0142 - acc: 0.9980 - val_loss: 0.1161 - val_acc: 0.9898\n",
      "Epoch 23/30\n",
      "6000/6000 [==============================] - 1s 196us/step - loss: 0.0139 - acc: 0.9977 - val_loss: 0.1559 - val_acc: 0.9855\n",
      "Epoch 24/30\n",
      "6000/6000 [==============================] - 1s 186us/step - loss: 0.0051 - acc: 0.9993 - val_loss: 0.1617 - val_acc: 0.9855\n",
      "Epoch 25/30\n",
      "6000/6000 [==============================] - 1s 248us/step - loss: 0.0108 - acc: 0.9980 - val_loss: 0.0894 - val_acc: 0.9915\n",
      "Epoch 26/30\n",
      "6000/6000 [==============================] - 1s 206us/step - loss: 0.0060 - acc: 0.9990 - val_loss: 0.1215 - val_acc: 0.9885\n",
      "Epoch 27/30\n",
      "6000/6000 [==============================] - 1s 197us/step - loss: 0.0050 - acc: 0.9985 - val_loss: 0.1090 - val_acc: 0.9902\n",
      "Epoch 28/30\n",
      "6000/6000 [==============================] - 1s 209us/step - loss: 0.0108 - acc: 0.9983 - val_loss: 0.1564 - val_acc: 0.9863\n",
      "Epoch 29/30\n",
      "6000/6000 [==============================] - 1s 204us/step - loss: 0.0044 - acc: 0.9992 - val_loss: 0.1560 - val_acc: 0.9888\n",
      "Epoch 30/30\n",
      "6000/6000 [==============================] - 1s 202us/step - loss: 0.0035 - acc: 0.9993 - val_loss: 0.1521 - val_acc: 0.9877\n",
      "Test score: 0.152098201477\n",
      "Test accuracy: 0.987666666667\n",
      "CPU times: user 2min 5s, sys: 10.7 s, total: 2min 16s\n",
      "Wall time: 36.4 s\n"
     ]
    }
   ],
   "source": [
    "%%time\n",
    "\n",
    "build_layer_3(30,rotated_X_train,rotated_Y_train)"
   ]
  },
  {
   "cell_type": "code",
   "execution_count": null,
   "metadata": {
    "collapsed": true
   },
   "outputs": [],
   "source": []
  }
 ],
 "metadata": {
  "kernelspec": {
   "display_name": "Python 3",
   "language": "python",
   "name": "python3"
  },
  "language_info": {
   "codemirror_mode": {
    "name": "ipython",
    "version": 3
   },
   "file_extension": ".py",
   "mimetype": "text/x-python",
   "name": "python",
   "nbconvert_exporter": "python",
   "pygments_lexer": "ipython3",
   "version": "3.6.3"
  }
 },
 "nbformat": 4,
 "nbformat_minor": 1
}
