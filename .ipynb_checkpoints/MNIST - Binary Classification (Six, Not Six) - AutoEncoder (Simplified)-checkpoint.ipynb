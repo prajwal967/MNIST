{
 "cells": [
  {
   "cell_type": "code",
   "execution_count": 1,
   "metadata": {},
   "outputs": [
    {
     "name": "stderr",
     "output_type": "stream",
     "text": [
      "Using TensorFlow backend.\n"
     ]
    }
   ],
   "source": [
    "import numpy as np\n",
    "from keras.datasets import mnist\n",
    "from keras.models import Sequential, Model\n",
    "from keras.layers import Dense, Dropout, Activation, Flatten, Input\n",
    "from keras.layers import Convolution2D, MaxPooling2D\n",
    "from keras.utils import np_utils\n",
    "from joblib import Parallel, delayed\n",
    "import matplotlib.pyplot as plt\n",
    "#Seed for reproducibilty\n",
    "np.random.seed(1338)"
   ]
  },
  {
   "cell_type": "code",
   "execution_count": 2,
   "metadata": {},
   "outputs": [
    {
     "name": "stdout",
     "output_type": "stream",
     "text": [
      "CPU times: user 626 ms, sys: 285 ms, total: 911 ms\n",
      "Wall time: 1.51 s\n"
     ]
    }
   ],
   "source": [
    "%%time\n",
    "#Loading the training and testing data\n",
    "(X_train, y_train), (X_test, y_test) = mnist.load_data()\n",
    "X_train = X_train.astype('float32')\n",
    "X_test = X_test.astype('float32')\n",
    "X_train -= np.mean(X_train)\n",
    "X_train /= np.std(X_train)\n",
    "X_test -= np.mean(X_train)\n",
    "X_test /= np.std(X_train)\n",
    "X_train = X_train.reshape(60000, 784)\n",
    "X_test = X_test.reshape(10000, 784)"
   ]
  },
  {
   "cell_type": "code",
   "execution_count": 3,
   "metadata": {},
   "outputs": [
    {
     "name": "stdout",
     "output_type": "stream",
     "text": [
      "CPU times: user 90.8 ms, sys: 106 ms, total: 197 ms\n",
      "Wall time: 327 ms\n"
     ]
    }
   ],
   "source": [
    "%%time\n",
    "#Selecting 6000 random examples from the test data\n",
    "test_rows = np.random.randint(0,X_test.shape[0],6000)\n",
    "X_test = X_test[test_rows]\n",
    "Y = y_test[test_rows]\n",
    "#Converting the output to binary classification(Six=1,Not Six=0)\n",
    "Y_test = Y == 6\n",
    "Y_test = Y_test.astype(int)\n",
    "\n",
    "#Selecting the 5918 examples where the output is 6\n",
    "X_six = X_train[y_train == 6]\n",
    "Y_six = y_train[y_train == 6]\n",
    "#Selecting the examples where the output is not 6\n",
    "X_not_six = X_train[y_train != 6]\n",
    "Y_not_six = y_train[y_train != 6]\n",
    "\n",
    "#Selecting 6000 random examples from the data that contains only the data where the output is not 6\n",
    "random_rows = np.random.randint(0,X_six.shape[0],6000)\n",
    "X_not_six = X_not_six[random_rows]\n",
    "Y_not_six = Y_not_six[random_rows]\n"
   ]
  },
  {
   "cell_type": "code",
   "execution_count": 4,
   "metadata": {},
   "outputs": [
    {
     "name": "stdout",
     "output_type": "stream",
     "text": [
      "CPU times: user 12.2 ms, sys: 20.9 ms, total: 33.1 ms\n",
      "Wall time: 40.3 ms\n"
     ]
    }
   ],
   "source": [
    "%%time\n",
    "#Appending the data with output as 6 and data with output as not six\n",
    "X_train = np.append(X_six,X_not_six)\n",
    "#Reshaping the appended data to appropraite form\n",
    "X_train = X_train.reshape(X_six.shape[0] + X_not_six.shape[0], 784)"
   ]
  },
  {
   "cell_type": "code",
   "execution_count": 5,
   "metadata": {},
   "outputs": [
    {
     "name": "stdout",
     "output_type": "stream",
     "text": [
      "CPU times: user 30.4 ms, sys: 2.96 ms, total: 33.4 ms\n",
      "Wall time: 50.3 ms\n"
     ]
    },
    {
     "name": "stderr",
     "output_type": "stream",
     "text": [
      "/Users/prajwal967/anaconda3/lib/python3.6/site-packages/ipykernel_launcher.py:12: UserWarning: Update your `Model` call to the Keras 2 API: `Model(inputs=Tensor(\"in..., outputs=Tensor(\"de...)`\n",
      "  if sys.path[0] == '':\n"
     ]
    }
   ],
   "source": [
    "%%time\n",
    "# this is the size of our encoded representations\n",
    "encoding_dim = 32  # 32 floats -> compression of factor 24.5, assuming the input is 784 floats\n",
    "\n",
    "# this is our input placeholder\n",
    "input_img = Input(shape=(784,))\n",
    "# \"encoded\" is the encoded representation of the input\n",
    "encoded = Dense(encoding_dim, activation='relu')(input_img)\n",
    "# \"decoded\" is the lossy reconstruction of the input\n",
    "decoded = Dense(784, activation='sigmoid')(encoded)\n",
    "\n",
    "# this model maps an input to its reconstruction\n",
    "autoencoder = Model(input=input_img, output=decoded)"
   ]
  },
  {
   "cell_type": "code",
   "execution_count": 6,
   "metadata": {},
   "outputs": [
    {
     "name": "stdout",
     "output_type": "stream",
     "text": [
      "CPU times: user 360 µs, sys: 111 µs, total: 471 µs\n",
      "Wall time: 414 µs\n"
     ]
    },
    {
     "name": "stderr",
     "output_type": "stream",
     "text": [
      "/Users/prajwal967/anaconda3/lib/python3.6/site-packages/ipykernel_launcher.py:2: UserWarning: Update your `Model` call to the Keras 2 API: `Model(inputs=Tensor(\"in..., outputs=Tensor(\"de...)`\n",
      "  \n"
     ]
    }
   ],
   "source": [
    "%%time\n",
    "# this model maps an input to its encoded representation\n",
    "encoder = Model(input=input_img, output=encoded)"
   ]
  },
  {
   "cell_type": "code",
   "execution_count": 7,
   "metadata": {},
   "outputs": [
    {
     "name": "stdout",
     "output_type": "stream",
     "text": [
      "CPU times: user 3.72 ms, sys: 2.21 ms, total: 5.92 ms\n",
      "Wall time: 3.62 ms\n"
     ]
    },
    {
     "name": "stderr",
     "output_type": "stream",
     "text": [
      "/Users/prajwal967/anaconda3/lib/python3.6/site-packages/ipykernel_launcher.py:6: UserWarning: Update your `Model` call to the Keras 2 API: `Model(inputs=Tensor(\"in..., outputs=Tensor(\"de...)`\n",
      "  \n"
     ]
    }
   ],
   "source": [
    "%%time\n",
    "# create a placeholder for an encoded (32-dimensional) input\n",
    "encoded_input = Input(shape=(encoding_dim,))\n",
    "# retrieve the last layer of the autoencoder model\n",
    "decoder_layer = autoencoder.layers[-1]\n",
    "# create the decoder model\n",
    "decoder = Model(input=encoded_input, output=decoder_layer(encoded_input))"
   ]
  },
  {
   "cell_type": "code",
   "execution_count": 8,
   "metadata": {},
   "outputs": [
    {
     "name": "stdout",
     "output_type": "stream",
     "text": [
      "CPU times: user 20 ms, sys: 2.87 ms, total: 22.8 ms\n",
      "Wall time: 22.1 ms\n"
     ]
    }
   ],
   "source": [
    "%%time\n",
    "autoencoder.compile(optimizer='adadelta', loss='binary_crossentropy')"
   ]
  },
  {
   "cell_type": "code",
   "execution_count": 9,
   "metadata": {},
   "outputs": [
    {
     "name": "stderr",
     "output_type": "stream",
     "text": [
      "/Users/prajwal967/anaconda3/lib/python3.6/site-packages/ipykernel_launcher.py:5: UserWarning: The `nb_epoch` argument in `fit` has been renamed `epochs`.\n",
      "  \"\"\"\n"
     ]
    },
    {
     "name": "stdout",
     "output_type": "stream",
     "text": [
      "Train on 11918 samples, validate on 6000 samples\n",
      "Epoch 1/50\n",
      "11918/11918 [==============================] - 1s 76us/step - loss: -1.1652 - val_loss: -3.5281\n",
      "Epoch 2/50\n",
      "11918/11918 [==============================] - 1s 69us/step - loss: -4.2938 - val_loss: -3.9447\n",
      "Epoch 3/50\n",
      "11918/11918 [==============================] - 1s 68us/step - loss: -4.8206 - val_loss: -4.5486\n",
      "Epoch 4/50\n",
      "11918/11918 [==============================] - 1s 68us/step - loss: -5.3911 - val_loss: -5.0612\n",
      "Epoch 5/50\n",
      "11918/11918 [==============================] - 1s 66us/step - loss: -5.7723 - val_loss: -5.4213\n",
      "Epoch 6/50\n",
      "11918/11918 [==============================] - 1s 65us/step - loss: -6.0207 - val_loss: -5.6582\n",
      "Epoch 7/50\n",
      "11918/11918 [==============================] - 1s 66us/step - loss: -6.1864 - val_loss: -5.8237\n",
      "Epoch 8/50\n",
      "11918/11918 [==============================] - 1s 73us/step - loss: -6.3091 - val_loss: -5.9533\n",
      "Epoch 9/50\n",
      "11918/11918 [==============================] - 1s 113us/step - loss: -6.4132 - val_loss: -6.0711\n",
      "Epoch 10/50\n",
      "11918/11918 [==============================] - 1s 74us/step - loss: -6.5093 - val_loss: -6.1756\n",
      "Epoch 11/50\n",
      "11918/11918 [==============================] - 1s 76us/step - loss: -6.6010 - val_loss: -6.2717\n",
      "Epoch 12/50\n",
      "11918/11918 [==============================] - 1s 70us/step - loss: -6.6869 - val_loss: -6.3641\n",
      "Epoch 13/50\n",
      "11918/11918 [==============================] - 1s 74us/step - loss: -6.7658 - val_loss: -6.4459\n",
      "Epoch 14/50\n",
      "11918/11918 [==============================] - 1s 68us/step - loss: -6.8386 - val_loss: -6.5222\n",
      "Epoch 15/50\n",
      "11918/11918 [==============================] - 1s 74us/step - loss: -6.9062 - val_loss: -6.5936\n",
      "Epoch 16/50\n",
      "11918/11918 [==============================] - 1s 75us/step - loss: -6.9681 - val_loss: -6.6583\n",
      "Epoch 17/50\n",
      "11918/11918 [==============================] - 1s 69us/step - loss: -7.0248 - val_loss: -6.7200\n",
      "Epoch 18/50\n",
      "11918/11918 [==============================] - 1s 71us/step - loss: -7.0771 - val_loss: -6.7770\n",
      "Epoch 19/50\n",
      "11918/11918 [==============================] - 1s 79us/step - loss: -7.1253 - val_loss: -6.8285\n",
      "Epoch 20/50\n",
      "11918/11918 [==============================] - 1s 71us/step - loss: -7.1694 - val_loss: -6.8740\n",
      "Epoch 21/50\n",
      "11918/11918 [==============================] - 1s 73us/step - loss: -7.2099 - val_loss: -6.9188\n",
      "Epoch 22/50\n",
      "11918/11918 [==============================] - 1s 75us/step - loss: -7.2468 - val_loss: -6.9590\n",
      "Epoch 23/50\n",
      "11918/11918 [==============================] - 1s 77us/step - loss: -7.2812 - val_loss: -6.9955\n",
      "Epoch 24/50\n",
      "11918/11918 [==============================] - 1s 75us/step - loss: -7.3133 - val_loss: -7.0288\n",
      "Epoch 25/50\n",
      "11918/11918 [==============================] - 1s 79us/step - loss: -7.3431 - val_loss: -7.0614\n",
      "Epoch 26/50\n",
      "11918/11918 [==============================] - 1s 77us/step - loss: -7.3707 - val_loss: -7.0908\n",
      "Epoch 27/50\n",
      "11918/11918 [==============================] - 1s 72us/step - loss: -7.3964 - val_loss: -7.1183\n",
      "Epoch 28/50\n",
      "11918/11918 [==============================] - 1s 66us/step - loss: -7.4203 - val_loss: -7.1452\n",
      "Epoch 29/50\n",
      "11918/11918 [==============================] - 1s 66us/step - loss: -7.4430 - val_loss: -7.1690\n",
      "Epoch 30/50\n",
      "11918/11918 [==============================] - 1s 73us/step - loss: -7.4641 - val_loss: -7.1929\n",
      "Epoch 31/50\n",
      "11918/11918 [==============================] - 1s 69us/step - loss: -7.4843 - val_loss: -7.2154\n",
      "Epoch 32/50\n",
      "11918/11918 [==============================] - 1s 66us/step - loss: -7.5034 - val_loss: -7.2355\n",
      "Epoch 33/50\n",
      "11918/11918 [==============================] - 1s 71us/step - loss: -7.5217 - val_loss: -7.2569\n",
      "Epoch 34/50\n",
      "11918/11918 [==============================] - 1s 68us/step - loss: -7.5391 - val_loss: -7.2762\n",
      "Epoch 35/50\n",
      "11918/11918 [==============================] - 1s 65us/step - loss: -7.5557 - val_loss: -7.2938\n",
      "Epoch 36/50\n",
      "11918/11918 [==============================] - 1s 67us/step - loss: -7.5717 - val_loss: -7.3119\n",
      "Epoch 37/50\n",
      "11918/11918 [==============================] - 1s 72us/step - loss: -7.5870 - val_loss: -7.3288\n",
      "Epoch 38/50\n",
      "11918/11918 [==============================] - 1s 66us/step - loss: -7.6018 - val_loss: -7.3456\n",
      "Epoch 39/50\n",
      "11918/11918 [==============================] - 1s 64us/step - loss: -7.6160 - val_loss: -7.3607\n",
      "Epoch 40/50\n",
      "11918/11918 [==============================] - 1s 64us/step - loss: -7.6298 - val_loss: -7.3778\n",
      "Epoch 41/50\n",
      "11918/11918 [==============================] - 1s 65us/step - loss: -7.6429 - val_loss: -7.3914\n",
      "Epoch 42/50\n",
      "11918/11918 [==============================] - 1s 66us/step - loss: -7.6556 - val_loss: -7.4061\n",
      "Epoch 43/50\n",
      "11918/11918 [==============================] - 1s 81us/step - loss: -7.6678 - val_loss: -7.4196\n",
      "Epoch 44/50\n",
      "11918/11918 [==============================] - 1s 80us/step - loss: -7.6797 - val_loss: -7.4334\n",
      "Epoch 45/50\n",
      "11918/11918 [==============================] - 1s 79us/step - loss: -7.6910 - val_loss: -7.4465\n",
      "Epoch 46/50\n",
      "11918/11918 [==============================] - 1s 71us/step - loss: -7.7021 - val_loss: -7.4584\n",
      "Epoch 47/50\n",
      "11918/11918 [==============================] - 1s 72us/step - loss: -7.7128 - val_loss: -7.4704\n",
      "Epoch 48/50\n",
      "11918/11918 [==============================] - 1s 70us/step - loss: -7.7230 - val_loss: -7.4826\n",
      "Epoch 49/50\n",
      "11918/11918 [==============================] - 1s 65us/step - loss: -7.7331 - val_loss: -7.4940\n",
      "Epoch 50/50\n",
      "11918/11918 [==============================] - 1s 65us/step - loss: -7.7427 - val_loss: -7.5047\n",
      "CPU times: user 1min 48s, sys: 12.5 s, total: 2min 1s\n",
      "Wall time: 43.2 s\n"
     ]
    },
    {
     "data": {
      "text/plain": [
       "<keras.callbacks.History at 0x115119390>"
      ]
     },
     "execution_count": 9,
     "metadata": {},
     "output_type": "execute_result"
    }
   ],
   "source": [
    "%%time\n",
    "autoencoder.fit(X_train, X_train,\n",
    "                nb_epoch=50,\n",
    "                batch_size=256,\n",
    "                shuffle=True,\n",
    "                validation_data=(X_test, X_test))"
   ]
  },
  {
   "cell_type": "code",
   "execution_count": 10,
   "metadata": {},
   "outputs": [
    {
     "name": "stdout",
     "output_type": "stream",
     "text": [
      "CPU times: user 398 ms, sys: 43.3 ms, total: 441 ms\n",
      "Wall time: 457 ms\n"
     ]
    }
   ],
   "source": [
    "%%time\n",
    "# encode and decode some digits\n",
    "# note that we take them from the *test* set\n",
    "encoder.compile(optimizer='adadelta', loss='binary_crossentropy')\n",
    "decoder.compile(optimizer='adadelta', loss='binary_crossentropy')\n",
    "encoded_imgs = encoder.predict(X_test)\n",
    "decoded_imgs = decoder.predict(encoded_imgs)"
   ]
  },
  {
   "cell_type": "code",
   "execution_count": 11,
   "metadata": {},
   "outputs": [
    {
     "data": {
      "image/png": "[encoded data removed]",
      "text/plain": [
       "<matplotlib.figure.Figure at 0x115bc4c18>"
      ]
     },
     "metadata": {},
     "output_type": "display_data"
    },
    {
     "name": "stdout",
     "output_type": "stream",
     "text": [
      "CPU times: user 1.12 s, sys: 28.7 ms, total: 1.15 s\n",
      "Wall time: 1.99 s\n"
     ]
    }
   ],
   "source": [
    "%%time\n",
    "# use Matplotlib (don't ask)\n",
    "import matplotlib.pyplot as plt\n",
    "\n",
    "n = 10  # how many digits we will display\n",
    "plt.figure(figsize=(20, 4))\n",
    "for i in range(n):\n",
    "    # display original\n",
    "    ax = plt.subplot(2, n, i + 1)\n",
    "    plt.imshow(X_test[i].reshape(28, 28))\n",
    "    plt.gray()\n",
    "    ax.get_xaxis().set_visible(False)\n",
    "    ax.get_yaxis().set_visible(False)\n",
    "\n",
    "    # display reconstruction\n",
    "    ax = plt.subplot(2, n, i + 1 + n)\n",
    "    plt.imshow(decoded_imgs[i].reshape(28, 28))\n",
    "    plt.gray()\n",
    "    ax.get_xaxis().set_visible(False)\n",
    "    ax.get_yaxis().set_visible(False)\n",
    "plt.show()"
   ]
  },
  {
   "cell_type": "code",
   "execution_count": null,
   "metadata": {
    "collapsed": true
   },
   "outputs": [],
   "source": []
  }
 ],
 "metadata": {
  "kernelspec": {
   "display_name": "Python 3",
   "language": "python",
   "name": "python3"
  },
  "language_info": {
   "codemirror_mode": {
    "name": "ipython",
    "version": 3
   },
   "file_extension": ".py",
   "mimetype": "text/x-python",
   "name": "python",
   "nbconvert_exporter": "python",
   "pygments_lexer": "ipython3",
   "version": "3.6.3"
  }
 },
 "nbformat": 4,
 "nbformat_minor": 1
}
