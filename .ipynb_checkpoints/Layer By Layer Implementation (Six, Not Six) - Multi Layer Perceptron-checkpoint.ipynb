{
 "cells": [
  {
   "cell_type": "code",
   "execution_count": 2,
   "metadata": {},
   "outputs": [
    {
     "name": "stderr",
     "output_type": "stream",
     "text": [
      "Using TensorFlow backend.\n"
     ]
    }
   ],
   "source": [
    "import numpy as np\n",
    "from keras.datasets import mnist\n",
    "from keras.models import Sequential\n",
    "from keras.layers import Dense, Dropout, Activation, Flatten\n",
    "from keras.layers import Convolution2D, MaxPooling2D\n",
    "from keras.utils import np_utils\n",
    "from joblib import Parallel, delayed"
   ]
  },
  {
   "cell_type": "code",
   "execution_count": 4,
   "metadata": {
    "collapsed": true
   },
   "outputs": [],
   "source": [
    "#Loading the training and testing data\n",
    "(X_train, y_train), (X_test, y_test) = mnist.load_data()\n",
    "X_train = X_train.astype('float32')\n",
    "X_test = X_test.astype('float32')\n",
    "X_train -= np.mean(X_train)\n",
    "X_train /= np.std(X_train)\n",
    "X_test -= np.mean(X_train)\n",
    "X_test /= np.std(X_train)\n",
    "X_train = X_train.reshape(60000, 784)\n",
    "X_test = X_test.reshape(10000, 784)"
   ]
  },
  {
   "cell_type": "code",
   "execution_count": 3,
   "metadata": {
    "collapsed": true
   },
   "outputs": [],
   "source": [
    "#Seed for reproducibilty\n",
    "np.random.seed(1338)\n",
    "\n",
    "#Selecting 6000 random examples from the test data\n",
    "test_rows = np.random.randint(0,X_test.shape[0],6000)\n",
    "X_test = X_test[test_rows]\n",
    "Y = y_test[test_rows]\n",
    "#Converting the output to binary classification(Six=1,Not Six=0)\n",
    "Y_test = Y == 6\n",
    "Y_test = Y_test.astype(int)\n",
    "\n",
    "#Selecting the 5918 examples where the output is 6\n",
    "X_six = X_train[y_train == 6]\n",
    "Y_six = y_train[y_train == 6]\n",
    "#Selecting the examples where the output is not 6\n",
    "X_not_six = X_train[y_train != 6]\n",
    "Y_not_six = y_train[y_train != 6]\n",
    "\n",
    "#Selecting 6000 random examples from the data that contains only the data where the output is not 6\n",
    "random_rows = np.random.randint(0,X_not_six.shape[0],6000)\n",
    "X_not_six = X_not_six[random_rows]\n",
    "Y_not_six = Y_not_six[random_rows]"
   ]
  },
  {
   "cell_type": "code",
   "execution_count": 4,
   "metadata": {
    "collapsed": true
   },
   "outputs": [],
   "source": [
    "#Appending the data with output as 6 and data with output as not six\n",
    "X_train = np.append(X_six,X_not_six)\n",
    "#Reshaping the appended data to appropraite form\n",
    "X_train = X_train.reshape(X_six.shape[0] + X_not_six.shape[0], 784)\n",
    "#Appending the labels and converting the labels to binary classification(Six=1,Not Six=0)\n",
    "Y_labels = np.append(Y_six,Y_not_six)\n",
    "Y_train = Y_labels == 6 \n",
    "Y_train = Y_train.astype(int)"
   ]
  },
  {
   "cell_type": "code",
   "execution_count": 5,
   "metadata": {
    "collapsed": true
   },
   "outputs": [],
   "source": [
    "#Converting the classes to its binary categorical form\n",
    "nb_classes = 2\n",
    "Y_train = np_utils.to_categorical(Y_train, nb_classes)\n",
    "Y_test = np_utils.to_categorical(Y_test, nb_classes)"
   ]
  },
  {
   "cell_type": "code",
   "execution_count": 6,
   "metadata": {
    "collapsed": true
   },
   "outputs": [],
   "source": [
    "#Initializing the values for the convolution neural network\n",
    "batch_size = 128\n",
    "nb_epoch = 20"
   ]
  },
  {
   "cell_type": "code",
   "execution_count": 7,
   "metadata": {
    "collapsed": true
   },
   "outputs": [],
   "source": [
    "#Buliding the first layer (Dense Layer) of the network\n",
    "def build_layer_1():\n",
    "    \n",
    "    model = Sequential()\n",
    "    model.add(Dense(512, input_shape=(784,)))\n",
    "    return model"
   ]
  },
  {
   "cell_type": "code",
   "execution_count": 8,
   "metadata": {
    "collapsed": true
   },
   "outputs": [],
   "source": [
    "#Adding dropout to the model(network)\n",
    "def add_droput(model, x):\n",
    "    \n",
    "    model.add(Dropout(x))\n",
    "    return model"
   ]
  },
  {
   "cell_type": "code",
   "execution_count": 9,
   "metadata": {
    "collapsed": true
   },
   "outputs": [],
   "source": [
    "#Adding a dense layer to the model(network)\n",
    "def add_dense(model,nodes):\n",
    "    \n",
    "    model.add(Dense(nodes))\n",
    "    return model"
   ]
  },
  {
   "cell_type": "code",
   "execution_count": 10,
   "metadata": {
    "collapsed": true
   },
   "outputs": [],
   "source": [
    "#Adding a activation layer to the model(network)\n",
    "def add_activation(model, activation):\n",
    "    \n",
    "    model.add(Activation(activation))\n",
    "    return model"
   ]
  },
  {
   "cell_type": "code",
   "execution_count": 11,
   "metadata": {
    "collapsed": true
   },
   "outputs": [],
   "source": [
    "#The final step in building the model, compiling and fitting the model to the data\n",
    "def build_layer_final(model):\n",
    "    \n",
    "    model.add(Dense(nb_classes))\n",
    "    model.add(Activation('softmax'))\n",
    "    \n",
    "    compile_fit_score_model(model)"
   ]
  },
  {
   "cell_type": "code",
   "execution_count": 12,
   "metadata": {
    "collapsed": true
   },
   "outputs": [],
   "source": [
    "#Compiling, fitting and scoring the model\n",
    "def compile_fit_score_model(model_final):\n",
    "    \n",
    "    model_final.compile(loss='categorical_crossentropy',\n",
    "              optimizer='rmsprop',\n",
    "              metrics=['accuracy'])\n",
    "    \n",
    "    model_final.fit(X_train, Y_train, batch_size=batch_size, nb_epoch=nb_epoch,verbose=1,\n",
    "              validation_data=(X_test, Y_test))\n",
    "    \n",
    "    score = model_final.evaluate(X_test, Y_test, verbose=0)\n",
    "    print('Test score:', score[0])\n",
    "    print('Test accuracy:', score[1])"
   ]
  },
  {
   "cell_type": "code",
   "execution_count": 13,
   "metadata": {
    "collapsed": true
   },
   "outputs": [],
   "source": [
    "#1.Initial Dense layer\n",
    "def build_layers():\n",
    "    np.random.seed(1338)\n",
    "    \n",
    "    model = build_layer_1()\n",
    "    model = add_activation(model, 'relu')\n",
    "    build_layer_final(model)"
   ]
  },
  {
   "cell_type": "code",
   "execution_count": 14,
   "metadata": {
    "collapsed": true
   },
   "outputs": [],
   "source": [
    "#1.Initial dense layer, 2.Dropout(0.2), 3.Dense Layer, 4.Dropout(0.2)\n",
    "def build_layers_multiple():\n",
    "    np.random.seed(1338)\n",
    "    \n",
    "    model = build_layer_1()\n",
    "    model = add_activation(model, 'relu')\n",
    "    model = add_droput(model,0.2)\n",
    "\n",
    "    model = add_dense(model,512)\n",
    "    model = add_activation(model, 'relu')\n",
    "    model = add_droput(model,0.2)\n",
    "    \n",
    "    build_layer_final(model)"
   ]
  },
  {
   "cell_type": "code",
   "execution_count": 15,
   "metadata": {},
   "outputs": [
    {
     "name": "stdout",
     "output_type": "stream",
     "text": [
      "Train on 11918 samples, validate on 6000 samples\n",
      "Epoch 1/20\n",
      "\r",
      "  128/11918 [..............................] - ETA: 5s - loss: 0.7719 - acc: 0.5234"
     ]
    },
    {
     "name": "stderr",
     "output_type": "stream",
     "text": [
      "/Users/prajwal967/anaconda3/lib/python3.6/site-packages/keras/models.py:874: UserWarning: The `nb_epoch` argument in `fit` has been renamed `epochs`.\n",
      "  warnings.warn('The `nb_epoch` argument in `fit` '\n"
     ]
    },
    {
     "name": "stdout",
     "output_type": "stream",
     "text": [
      "11918/11918 [==============================] - 1s 73us/step - loss: 0.1539 - acc: 0.9562 - val_loss: 0.0696 - val_acc: 0.9722\n",
      "Epoch 2/20\n",
      "11918/11918 [==============================] - 1s 73us/step - loss: 0.0357 - acc: 0.9876 - val_loss: 0.0619 - val_acc: 0.9785\n",
      "Epoch 3/20\n",
      "11918/11918 [==============================] - 1s 66us/step - loss: 0.0190 - acc: 0.9937 - val_loss: 0.0319 - val_acc: 0.9892\n",
      "Epoch 4/20\n",
      "11918/11918 [==============================] - 1s 64us/step - loss: 0.0113 - acc: 0.9962 - val_loss: 0.0313 - val_acc: 0.9903\n",
      "Epoch 5/20\n",
      "11918/11918 [==============================] - 1s 86us/step - loss: 0.0076 - acc: 0.9973 - val_loss: 0.0278 - val_acc: 0.9928\n",
      "Epoch 6/20\n",
      "11918/11918 [==============================] - 1s 70us/step - loss: 0.0049 - acc: 0.9984 - val_loss: 0.0287 - val_acc: 0.9940\n",
      "Epoch 7/20\n",
      "11918/11918 [==============================] - 1s 65us/step - loss: 0.0029 - acc: 0.9991 - val_loss: 0.0588 - val_acc: 0.9852\n",
      "Epoch 8/20\n",
      "11918/11918 [==============================] - 1s 63us/step - loss: 0.0020 - acc: 0.9992 - val_loss: 0.0705 - val_acc: 0.9858\n",
      "Epoch 9/20\n",
      "11918/11918 [==============================] - 1s 69us/step - loss: 0.0028 - acc: 0.9989 - val_loss: 0.0389 - val_acc: 0.9907\n",
      "Epoch 10/20\n",
      "11918/11918 [==============================] - 1s 98us/step - loss: 0.0013 - acc: 0.9996 - val_loss: 0.0392 - val_acc: 0.9910\n",
      "Epoch 11/20\n",
      "11918/11918 [==============================] - 1s 64us/step - loss: 6.3575e-04 - acc: 0.9998 - val_loss: 0.0434 - val_acc: 0.9902\n",
      "Epoch 12/20\n",
      "11918/11918 [==============================] - 1s 65us/step - loss: 0.0010 - acc: 0.9997 - val_loss: 0.0595 - val_acc: 0.9912\n",
      "Epoch 13/20\n",
      "11918/11918 [==============================] - 1s 61us/step - loss: 0.0014 - acc: 0.9997 - val_loss: 0.0633 - val_acc: 0.9902\n",
      "Epoch 14/20\n",
      "11918/11918 [==============================] - 1s 65us/step - loss: 2.4575e-04 - acc: 0.9999 - val_loss: 0.0539 - val_acc: 0.9910\n",
      "Epoch 15/20\n",
      "11918/11918 [==============================] - 1s 59us/step - loss: 5.9028e-04 - acc: 0.9997 - val_loss: 0.0606 - val_acc: 0.9908\n",
      "Epoch 16/20\n",
      "11918/11918 [==============================] - 1s 62us/step - loss: 4.8752e-04 - acc: 0.9999 - val_loss: 0.0582 - val_acc: 0.9908\n",
      "Epoch 17/20\n",
      "11918/11918 [==============================] - 1s 61us/step - loss: 3.1331e-04 - acc: 0.9998 - val_loss: 0.0780 - val_acc: 0.9900\n",
      "Epoch 18/20\n",
      "11918/11918 [==============================] - 1s 82us/step - loss: 8.8807e-04 - acc: 0.9997 - val_loss: 0.0404 - val_acc: 0.9918\n",
      "Epoch 19/20\n",
      "11918/11918 [==============================] - 1s 82us/step - loss: 8.9746e-04 - acc: 0.9997 - val_loss: 0.0545 - val_acc: 0.9908\n",
      "Epoch 20/20\n",
      "11918/11918 [==============================] - 1s 91us/step - loss: 1.9692e-04 - acc: 0.9999 - val_loss: 0.0514 - val_acc: 0.9913\n",
      "Test score: 0.0513564192173\n",
      "Test accuracy: 0.991333333333\n",
      "17.4 s ± 0 ns per loop (mean ± std. dev. of 1 run, 1 loop each)\n"
     ]
    }
   ],
   "source": [
    "%timeit -n1 -r1 build_layers()"
   ]
  },
  {
   "cell_type": "code",
   "execution_count": 16,
   "metadata": {},
   "outputs": [
    {
     "name": "stderr",
     "output_type": "stream",
     "text": [
      "/Users/prajwal967/anaconda3/lib/python3.6/site-packages/keras/models.py:874: UserWarning: The `nb_epoch` argument in `fit` has been renamed `epochs`.\n",
      "  warnings.warn('The `nb_epoch` argument in `fit` '\n"
     ]
    },
    {
     "name": "stdout",
     "output_type": "stream",
     "text": [
      "Train on 11918 samples, validate on 6000 samples\n",
      "Epoch 1/20\n",
      "11918/11918 [==============================] - 2s 132us/step - loss: 0.1594 - acc: 0.9559 - val_loss: 0.0523 - val_acc: 0.9805\n",
      "Epoch 2/20\n",
      "11918/11918 [==============================] - 2s 137us/step - loss: 0.0401 - acc: 0.9859 - val_loss: 0.0241 - val_acc: 0.9915\n",
      "Epoch 3/20\n",
      "11918/11918 [==============================] - 1s 116us/step - loss: 0.0265 - acc: 0.9915 - val_loss: 0.0293 - val_acc: 0.9903\n",
      "Epoch 4/20\n",
      "11918/11918 [==============================] - 1s 117us/step - loss: 0.0173 - acc: 0.9945 - val_loss: 0.0261 - val_acc: 0.9925\n",
      "Epoch 5/20\n",
      "11918/11918 [==============================] - 1s 118us/step - loss: 0.0120 - acc: 0.9967 - val_loss: 0.0511 - val_acc: 0.9883\n",
      "Epoch 6/20\n",
      "11918/11918 [==============================] - 1s 123us/step - loss: 0.0127 - acc: 0.9961 - val_loss: 0.0373 - val_acc: 0.9908\n",
      "Epoch 7/20\n",
      "11918/11918 [==============================] - 2s 132us/step - loss: 0.0090 - acc: 0.9970 - val_loss: 0.0374 - val_acc: 0.9932\n",
      "Epoch 8/20\n",
      "11918/11918 [==============================] - 1s 122us/step - loss: 0.0088 - acc: 0.9973 - val_loss: 0.0623 - val_acc: 0.9878\n",
      "Epoch 9/20\n",
      "11918/11918 [==============================] - 1s 118us/step - loss: 0.0049 - acc: 0.9982 - val_loss: 0.0533 - val_acc: 0.9902\n",
      "Epoch 10/20\n",
      "11918/11918 [==============================] - 1s 114us/step - loss: 0.0066 - acc: 0.9982 - val_loss: 0.0526 - val_acc: 0.9913\n",
      "Epoch 11/20\n",
      "11918/11918 [==============================] - 2s 156us/step - loss: 0.0047 - acc: 0.9982 - val_loss: 0.1029 - val_acc: 0.9872\n",
      "Epoch 12/20\n",
      "11918/11918 [==============================] - 2s 141us/step - loss: 0.0068 - acc: 0.9988 - val_loss: 0.0521 - val_acc: 0.9932\n",
      "Epoch 13/20\n",
      "11918/11918 [==============================] - 2s 126us/step - loss: 0.0045 - acc: 0.9987 - val_loss: 0.0361 - val_acc: 0.9945\n",
      "Epoch 14/20\n",
      "11918/11918 [==============================] - 1s 118us/step - loss: 0.0060 - acc: 0.9989 - val_loss: 0.0597 - val_acc: 0.9913\n",
      "Epoch 15/20\n",
      "11918/11918 [==============================] - 1s 118us/step - loss: 0.0043 - acc: 0.9987 - val_loss: 0.1398 - val_acc: 0.9843\n",
      "Epoch 16/20\n",
      "11918/11918 [==============================] - 1s 119us/step - loss: 0.0057 - acc: 0.9987 - val_loss: 0.1105 - val_acc: 0.9870\n",
      "Epoch 17/20\n",
      "11918/11918 [==============================] - 1s 112us/step - loss: 0.0033 - acc: 0.9991 - val_loss: 0.1175 - val_acc: 0.9880\n",
      "Epoch 18/20\n",
      "11918/11918 [==============================] - 1s 114us/step - loss: 0.0041 - acc: 0.9987 - val_loss: 0.0809 - val_acc: 0.9908\n",
      "Epoch 19/20\n",
      "11918/11918 [==============================] - 1s 120us/step - loss: 0.0040 - acc: 0.9991 - val_loss: 0.1104 - val_acc: 0.9882\n",
      "Epoch 20/20\n",
      "11918/11918 [==============================] - 2s 185us/step - loss: 0.0064 - acc: 0.9987 - val_loss: 0.0525 - val_acc: 0.9935\n",
      "Test score: 0.0524725601129\n",
      "Test accuracy: 0.9935\n",
      "30.8 s ± 0 ns per loop (mean ± std. dev. of 1 run, 1 loop each)\n"
     ]
    }
   ],
   "source": [
    "%timeit -n1 -r1 build_layers_multiple()"
   ]
  },
  {
   "cell_type": "code",
   "execution_count": null,
   "metadata": {
    "collapsed": true
   },
   "outputs": [],
   "source": []
  }
 ],
 "metadata": {
  "kernelspec": {
   "display_name": "Python 3",
   "language": "python",
   "name": "python3"
  },
  "language_info": {
   "codemirror_mode": {
    "name": "ipython",
    "version": 3
   },
   "file_extension": ".py",
   "mimetype": "text/x-python",
   "name": "python",
   "nbconvert_exporter": "python",
   "pygments_lexer": "ipython3",
   "version": "3.6.3"
  }
 },
 "nbformat": 4,
 "nbformat_minor": 1
}
